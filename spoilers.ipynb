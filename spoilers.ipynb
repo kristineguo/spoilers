{
 "cells": [
  {
   "cell_type": "markdown",
   "metadata": {
    "slideshow": {
     "slide_type": "slide"
    }
   },
   "source": [
    "# Spoilers"
   ]
  },
  {
   "cell_type": "code",
   "execution_count": 1,
   "metadata": {
    "collapsed": true
   },
   "outputs": [],
   "source": [
    "__author__ = \"Kristine Guo and Caroline Ho\"\n",
    "__version__ = \"CS224u, Stanford, Spring 2018 term\""
   ]
  },
  {
   "cell_type": "markdown",
   "metadata": {
    "slideshow": {
     "slide_type": "slide"
    }
   },
   "source": [
    "## Contents\n",
    "\n",
    "0. [Overview](#Overview)\n",
    "0. [Set-up](#Set-up)\n",
    "0. [Baseline](#Baseline)\n",
    "  0. [Features](#Features)\n",
    "  0. [Experiment](#Experiment)\n",
    "0. [Sentiment](#Sentiment)\n",
    "0. [Dependency Parsing](#Dependency-Parsing)"
   ]
  },
  {
   "cell_type": "markdown",
   "metadata": {
    "slideshow": {
     "slide_type": "slide"
    }
   },
   "source": [
    "## Overview\n",
    "\n"
   ]
  },
  {
   "cell_type": "markdown",
   "metadata": {
    "slideshow": {
     "slide_type": "slide"
    }
   },
   "source": [
    "## Set-up\n",
    "\n",
    "* Make sure your environment meets all the requirements for [the cs224u repository](https://github.com/cgpotts/cs224u/). For help getting set-up, see [setup.ipynb](setup.ipynb).\n",
    "\n",
    "* Make sure you've downloaded [the data distribution for this unit](http://web.stanford.edu/class/cs224u/data/vsmdata.zip), unpacked it, and placed it in the current directory (or wherever you point `data_home` to below)."
   ]
  },
  {
   "cell_type": "code",
   "execution_count": 1,
   "metadata": {
    "collapsed": true
   },
   "outputs": [],
   "source": [
    "from collections import Counter\n",
    "import copy\n",
    "from nltk.corpus import stopwords\n",
    "from nltk.parse.stanford import StanfordDependencyParser\n",
    "import numpy as np\n",
    "import os\n",
    "import pandas as pd\n",
    "import PorterStemmer\n",
    "import scipy.stats\n",
    "from sklearn.feature_extraction import DictVectorizer\n",
    "from sklearn.metrics import classification_report, accuracy_score, f1_score\n",
    "from sklearn.preprocessing import normalize\n",
    "from sklearn.svm import LinearSVC\n",
    "import string"
   ]
  },
  {
   "cell_type": "code",
   "execution_count": 2,
   "metadata": {
    "collapsed": true
   },
   "outputs": [],
   "source": [
    "data_home = 'tvtropes'"
   ]
  },
  {
   "cell_type": "code",
   "execution_count": 3,
   "metadata": {
    "collapsed": true
   },
   "outputs": [],
   "source": [
    "dev1 = pd.read_csv(\n",
    "    os.path.join(data_home, 'dev1.balanced.csv'))"
   ]
  },
  {
   "cell_type": "code",
   "execution_count": 4,
   "metadata": {
    "collapsed": true
   },
   "outputs": [],
   "source": [
    "dev2 = pd.read_csv(\n",
    "    os.path.join(data_home, 'dev2.balanced.csv'))"
   ]
  },
  {
   "cell_type": "code",
   "execution_count": 5,
   "metadata": {
    "collapsed": true
   },
   "outputs": [],
   "source": [
    "test = pd.read_csv(\n",
    "    os.path.join(data_home, 'test.balanced.csv'))"
   ]
  },
  {
   "cell_type": "code",
   "execution_count": 6,
   "metadata": {
    "collapsed": true
   },
   "outputs": [],
   "source": [
    "train = pd.read_csv(\n",
    "    os.path.join(data_home, 'train.balanced.csv'))"
   ]
  },
  {
   "cell_type": "code",
   "execution_count": 7,
   "metadata": {},
   "outputs": [
    {
     "name": "stdout",
     "output_type": "stream",
     "text": [
      "WorkCom\n"
     ]
    }
   ],
   "source": [
    "print(test.loc[0, 'trope'])"
   ]
  },
  {
   "cell_type": "markdown",
   "metadata": {},
   "source": [
    "## Baseline"
   ]
  },
  {
   "cell_type": "code",
   "execution_count": 7,
   "metadata": {
    "collapsed": true,
    "slideshow": {
     "slide_type": "-"
    }
   },
   "outputs": [],
   "source": [
    "ps = PorterStemmer.PorterStemmer()\n",
    "translator = str.maketrans(string.punctuation, ' '*len(string.punctuation))\n",
    "stop_words = set(stopwords.words('english'))\n",
    "\n",
    "def parse_sentence(sentence):\n",
    "    s = sentence.translate(translator).split()\n",
    "    for i in range(len(s)):\n",
    "        s[i] = s[i].strip(string.punctuation).lower()\n",
    "    s = list(filter(None, s))\n",
    "    return [word for word in s if word not in stop_words]"
   ]
  },
  {
   "cell_type": "markdown",
   "metadata": {
    "slideshow": {
     "slide_type": "slide"
    }
   },
   "source": [
    "### Features\n",
    "\n",
    "Description here"
   ]
  },
  {
   "cell_type": "code",
   "execution_count": 8,
   "metadata": {
    "collapsed": true,
    "scrolled": true
   },
   "outputs": [],
   "source": [
    "def unigrams_phi(s):\n",
    "    return Counter(s)"
   ]
  },
  {
   "cell_type": "code",
   "execution_count": 9,
   "metadata": {
    "collapsed": true
   },
   "outputs": [],
   "source": [
    "def stemmed_phi(s):\n",
    "    return Counter([ps.stem(word) for word in s])"
   ]
  },
  {
   "cell_type": "code",
   "execution_count": 10,
   "metadata": {
    "collapsed": true
   },
   "outputs": [],
   "source": [
    "def bigrams_phi(s):\n",
    "    t = copy.deepcopy(s)\n",
    "    t.insert(0, '<S>')\n",
    "    t.append('</S>')\n",
    "    bigrams = [tuple([t[i], t[i + 1]]) for i in range(len(t) - 1)]\n",
    "    return Counter(bigrams)"
   ]
  },
  {
   "cell_type": "markdown",
   "metadata": {
    "slideshow": {
     "slide_type": "slide"
    }
   },
   "source": [
    "### Experiment\n",
    "\n",
    "Description"
   ]
  },
  {
   "cell_type": "code",
   "execution_count": 11,
   "metadata": {
    "collapsed": true
   },
   "outputs": [],
   "source": [
    "def trunc_sent(sentence):\n",
    "    if (len(sentence) > 200):\n",
    "        print(\"Truncating \", sentence, \" to \", sentence[:200])\n",
    "        return sentence[:200]\n",
    "    else:\n",
    "        return sentence\n",
    "\n",
    "def vectorize_X_dependency(X, phi, vectorizer=None, should_parse=True):\n",
    "    feat_dicts = []\n",
    "    if should_parse:\n",
    "        if len(X) == 11970:\n",
    "            print(\"In train!\")\n",
    "            feat_dicts = [phi(parse_sentence(sentence)) + train_parsed_lowered[i] for i, sentence in enumerate(X)]\n",
    "        else:\n",
    "            print(\"Not in train!\")\n",
    "            feat_dicts = [phi(parse_sentence(sentence)) + dep_phi(trunc_sent(sentence)) for sentence in X]\n",
    "    else: feat_dicts = [phi(sentence) for sentence in X]\n",
    "\n",
    "    if vectorizer == None:\n",
    "        vectorizer = DictVectorizer(sparse=False)\n",
    "        print(\"Gets to vectorizer\")\n",
    "        return (vectorizer.fit_transform(feat_dicts), vectorizer)\n",
    "    else:\n",
    "        return (vectorizer.transform(feat_dicts), vectorizer)"
   ]
  },
  {
   "cell_type": "code",
   "execution_count": 12,
   "metadata": {
    "collapsed": true
   },
   "outputs": [],
   "source": [
    "def vectorize_X(X, phi, vectorizer=None, should_parse=True):\n",
    "    feat_dicts = []\n",
    "    if should_parse: feat_dicts = [phi(parse_sentence(sentence)) for i, sentence in enumerate(X)]\n",
    "    else: feat_dicts = [phi(sentence) for sentence in X]\n",
    "\n",
    "    if vectorizer == None:\n",
    "        vectorizer = DictVectorizer(sparse=False)\n",
    "        return (vectorizer.fit_transform(feat_dicts), vectorizer)\n",
    "    else:\n",
    "        return (vectorizer.transform(feat_dicts), vectorizer)"
   ]
  },
  {
   "cell_type": "code",
   "execution_count": 13,
   "metadata": {
    "collapsed": true
   },
   "outputs": [],
   "source": [
    "def build_dataset(data, phi, vectorizer=None, should_parse=True):\n",
    "    X = [data.loc[i, 'sentence'] for i in range(len(data.index))]\n",
    "    y = [data.loc[i, 'spoiler'] for i in range(len(data.index))]\n",
    "    feat_matrix, vectorizer = vectorize_X_dependency(X, phi, vectorizer=vectorizer, should_parse=should_parse)\n",
    "    print(\"Finishes vectorize_X_dependency\")\n",
    "    print(feat_matrix.shape)\n",
    "    return (normalize(feat_matrix), y, vectorizer)"
   ]
  },
  {
   "cell_type": "code",
   "execution_count": 14,
   "metadata": {
    "collapsed": true
   },
   "outputs": [],
   "source": [
    "def fit_svc(X, y):\n",
    "    mod = LinearSVC()\n",
    "    mod.fit(X, y)\n",
    "    return mod"
   ]
  },
  {
   "cell_type": "code",
   "execution_count": 15,
   "metadata": {
    "collapsed": true
   },
   "outputs": [],
   "source": [
    "def experiment(phi, train_func, train_data, test_data, should_parse=True):\n",
    "    X, y, vectorizer = build_dataset(train_data, phi, should_parse=should_parse)\n",
    "    print(len(X[0]))\n",
    "    mod = train_func(X, y)\n",
    "    X_test, y_test, vectorizer = build_dataset(test_data, phi, vectorizer=vectorizer, should_parse=should_parse)\n",
    "    predictions = mod.predict(X_test)\n",
    "    print('Accuracy: %0.03f' % accuracy_score(y_test, predictions))\n",
    "    print(classification_report(y_test, predictions, digits=3))\n",
    "    return f1_score(y_test, predictions, average = 'macro', pos_label=None)"
   ]
  },
  {
   "cell_type": "code",
   "execution_count": 17,
   "metadata": {},
   "outputs": [
    {
     "name": "stdout",
     "output_type": "stream",
     "text": [
      "18968\n",
      "Accuracy: 0.614\n",
      "             precision    recall  f1-score   support\n",
      "\n",
      "      False      0.578     0.633     0.604       496\n",
      "       True      0.652     0.598     0.624       570\n",
      "\n",
      "avg / total      0.618     0.614     0.615      1066\n",
      "\n",
      "13520\n",
      "Accuracy: 0.618\n",
      "             precision    recall  f1-score   support\n",
      "\n",
      "      False      0.584     0.623     0.603       496\n",
      "       True      0.652     0.614     0.632       570\n",
      "\n",
      "avg / total      0.620     0.618     0.619      1066\n",
      "\n",
      "110710\n",
      "Accuracy: 0.598\n",
      "             precision    recall  f1-score   support\n",
      "\n",
      "      False      0.568     0.567     0.567       496\n",
      "       True      0.623     0.625     0.624       570\n",
      "\n",
      "avg / total      0.598     0.598     0.598      1066\n",
      "\n"
     ]
    },
    {
     "data": {
      "text/plain": [
       "0.5955589791028989"
      ]
     },
     "execution_count": 17,
     "metadata": {},
     "output_type": "execute_result"
    }
   ],
   "source": [
    "experiment(unigrams_phi, fit_svc, train, dev1)\n",
    "experiment(stemmed_phi, fit_svc, train, dev1)\n",
    "experiment(bigrams_phi, fit_svc, train, dev1)"
   ]
  },
  {
   "cell_type": "markdown",
   "metadata": {
    "slideshow": {
     "slide_type": "slide"
    }
   },
   "source": [
    "## Dependency Parsing"
   ]
  },
  {
   "cell_type": "code",
   "execution_count": 16,
   "metadata": {
    "collapsed": true
   },
   "outputs": [],
   "source": [
    "path_to_jar = 'stanford-parser-full-2018-02-27/stanford-parser.jar'\n",
    "path_to_models_jar = 'stanford-english-corenlp-2018-02-27-models.jar'\n",
    "\n",
    "dep_parser = StanfordDependencyParser(path_to_jar=path_to_jar, path_to_models_jar=path_to_models_jar)"
   ]
  },
  {
   "cell_type": "code",
   "execution_count": 17,
   "metadata": {
    "collapsed": true
   },
   "outputs": [],
   "source": [
    "def dep_phi(sentence):\n",
    "    deps = []\n",
    "    for parse in dep_parser.raw_parse(sentence):\n",
    "        for t in parse.triples():\n",
    "            deps.append(t[2][0] + '-' + t[0][0])\n",
    "    return Counter({process(k): v for k, v in Counter(deps).items()})"
   ]
  },
  {
   "cell_type": "code",
   "execution_count": 18,
   "metadata": {
    "collapsed": true
   },
   "outputs": [],
   "source": [
    "import pickle\n",
    "f = open(\"train_parsed_full.txt\", \"rb\")\n",
    "train_parsed = []\n",
    "while 1:\n",
    "    try:\n",
    "        o = pickle.load(f)\n",
    "    except EOFError:\n",
    "        break\n",
    "    train_parsed.append(o)\n",
    "f.close()"
   ]
  },
  {
   "cell_type": "code",
   "execution_count": 19,
   "metadata": {
    "collapsed": true
   },
   "outputs": [],
   "source": [
    "def process(k):\n",
    "    arr = k.split('-')\n",
    "    arr = [ps.stem(a.lower()) for a in arr]\n",
    "    return '-'.join(arr)"
   ]
  },
  {
   "cell_type": "code",
   "execution_count": 20,
   "metadata": {
    "collapsed": true
   },
   "outputs": [],
   "source": [
    "train_parsed_lowered = []\n",
    "for a in train_parsed:\n",
    "    temp = {}\n",
    "    for k, v in a.items():\n",
    "        p = process(k)\n",
    "        if p not in temp:\n",
    "            temp[p] = 0\n",
    "        temp[p] += v\n",
    "    train_parsed_lowered.append(Counter(temp))"
   ]
  },
  {
   "cell_type": "code",
   "execution_count": 21,
   "metadata": {},
   "outputs": [
    {
     "name": "stdout",
     "output_type": "stream",
     "text": [
      "11970\n"
     ]
    }
   ],
   "source": [
    "print(len(train_parsed_lowered))"
   ]
  },
  {
   "cell_type": "code",
   "execution_count": 22,
   "metadata": {},
   "outputs": [
    {
     "name": "stdout",
     "output_type": "stream",
     "text": [
      "In train!\n",
      "Gets to vectorizer\n",
      "Finishes vectorize_X_dependency\n",
      "(11970, 160751)\n",
      "160751\n",
      "Not in train!\n",
      "Truncating  In Season 6, Kinetic King spent two or three days setting up a Chain-Reaction Gadget ( NOT  a  Rube Goldberg Device ) for his first Hollywood performance, but when the time came to set it off it failed to do much of anything for no discernible reason.  to  In Season 6, Kinetic King spent two or three days setting up a Chain-Reaction Gadget ( NOT  a  Rube Goldberg Device ) for his first Hollywood performance, but when the time came to set it off it faile\n",
      "Truncating  One of the four possible identities assigned by the company to its workers when decorating their cubicles to express their individuality, along with \"Green Bay Packers Fan\", \"Space\", and \"Classic Cars\".  to  One of the four possible identities assigned by the company to its workers when decorating their cubicles to express their individuality, along with \"Green Bay Packers Fan\", \"Space\", and \"Classic Cars\n",
      "Truncating  As a sitcom without ongoing story arcs, this trope does not strictly apply, however the final two episodes did not air on the original network, ABC, and the second of these episodes, the series finale,   resolves the \"will they or won't they\" plot element involving Ted and Linda by having them finally start a relationship .  to  As a sitcom without ongoing story arcs, this trope does not strictly apply, however the final two episodes did not air on the original network, ABC, and the second of these episodes, the series finale\n",
      "Truncating  In the US, the Resolution ended up as a digital download, although there wasn't that much resolution (besides  Ted and Linda kissing  and   Veronica admitting that her friendship with Ted is valuable ).  to  In the US, the Resolution ended up as a digital download, although there wasn't that much resolution (besides  Ted and Linda kissing  and   Veronica admitting that her friendship with Ted is valuable \n",
      "Truncating  Also, although the pilot reveals they already  have , there are several charged moments during the series in which one wonders if Ted and Veronica might do it again (and they come close once, only to be interrupted by Rose).  to  Also, although the pilot reveals they already  have , there are several charged moments during the series in which one wonders if Ted and Veronica might do it again (and they come close once, only to \n",
      "Truncating  Sadly goes awry, when this time   Helen is born ten years ahead of her lover Lee since he was in a coma before dying, and has already married and gotten knocked up by the  Romantic Runner Up , having waited for him for several years.  to  Sadly goes awry, when this time   Helen is born ten years ahead of her lover Lee since he was in a coma before dying, and has already married and gotten knocked up by the  Romantic Runner Up , having \n",
      "Truncating  If you put the episodes in a rational order, Byder shows up about a third of the way through and becomes Laura and Ethaniel's sidekick, and Tawrens shows up about two-thirds of the way through the season to replace him, with a few episodes of overlap.  to  If you put the episodes in a rational order, Byder shows up about a third of the way through and becomes Laura and Ethaniel's sidekick, and Tawrens shows up about two-thirds of the way through the sea\n",
      "Truncating  It combines elements of various genres traditional wildlife documentaries,  silent movie-style \"acting\"  and comic cartoon  Slapstick , and presents them in the form of  vignettes  or longer, cohesive stories, focusing on the characterization and the relationships between the animals.  to  It combines elements of various genres traditional wildlife documentaries,  silent movie-style \"acting\"  and comic cartoon  Slapstick , and presents them in the form of  vignettes  or longer, cohesive\n",
      "Truncating   The ultimate ending of the Jurassic Antarctic story ends this way, with the \"antagonistic\" male  Glacialisaurus  chased by the \"antagonistic\" male  Cryolophosaurus , which is in turn trying to flee from a swarm of mosquitoes.  to   The ultimate ending of the Jurassic Antarctic story ends this way, with the \"antagonistic\" male  Glacialisaurus  chased by the \"antagonistic\" male  Cryolophosaurus , which is in turn trying to flee f\n",
      "Truncating  Also note that  Rhamphorhynchus  is thought to have had behaved like modern nocturnal sea birds (avoiding thus competition from diurnal pterosaurs that also hunted fish in the same regions), thus seeing one far from the open sea and on daylight would not be very common.  to  Also note that  Rhamphorhynchus  is thought to have had behaved like modern nocturnal sea birds (avoiding thus competition from diurnal pterosaurs that also hunted fish in the same regions), thus seei\n",
      "Truncating  There are  Cryolophosaurus ,  Sinraptor ,  Eoraptor ,  Torvosaurus ,  Majungasaurus ,  Rahonavis ,  Miragaia ,  Glacialisaurus ,  Mamenchisaurus ,  Rapetosaurus ,  Lusotitan ,  Shunosaurus ,  Gigantoraptor ,  Draconyx ,  Cedarosaurus ,  Guanlong , freakin'  Dinheirosaurus ... But the most interesting examples are the non-dinosaurian  Saurosuchus ,  Anhanguera ,  Castorocauda  (a water-going mammal relative),  Volaticotherium  (the Jurassic \"flying squirrel\"),  Probelesodon  (a non-mammalian cynodont),  Zalambdalestes  (a small placental mammal),  Ischigualastia  (a dicynodont),  Inostrancevia  (a gorgonopsid),  Cretoxyrhina  (a shark), and the (by modern standards) ungodly large frog  Beelzebufo .  to  There are  Cryolophosaurus ,  Sinraptor ,  Eoraptor ,  Torvosaurus ,  Majungasaurus ,  Rahonavis ,  Miragaia ,  Glacialisaurus ,  Mamenchisaurus ,  Rapetosaurus ,  Lusotitan ,  Shunosaurus ,  Gigantor\n",
      "Truncating  A segment fittingly titled \"Pterosaur  Looney Tunes \" puts a tragic spin on the character of Beaky Buzzard's momma from the cartoon shorts, in the form of a strange  Anhanguera  mother who's  too dumb to let her hatchlings live .  to  A segment fittingly titled \"Pterosaur  Looney Tunes \" puts a tragic spin on the character of Beaky Buzzard's momma from the cartoon shorts, in the form of a strange  Anhanguera  mother who's  too dumb\n",
      "Truncating  The images and footage of the death itself may make it look like the  Tyrannosaurus  died fighting a  Triceratops , when it was really fighting the protagonist  Tyrannosaurus  and was knocked onto a  Triceratops  carcass.  to  The images and footage of the death itself may make it look like the  Tyrannosaurus  died fighting a  Triceratops , when it was really fighting the protagonist  Tyrannosaurus  and was knocked onto a  \n",
      "Truncating  Season with a bunch of guest stars from Joss Whedon's stable, including  Summer Glau , Alexis Denisof,  Amy Acker , Alan Tudyk,  Eliza Dushku  in the starring role of Echo, and breakout performances by Fran Kranz and Enver Gjokaj, and we have a Dollhouse.  to  Season with a bunch of guest stars from Joss Whedon's stable, including  Summer Glau , Alexis Denisof,  Amy Acker , Alan Tudyk,  Eliza Dushku  in the starring role of Echo, and breakout performances b\n",
      "Truncating  Also the storyline where Topher comes up with a way to weaponize the mindwipe technology, as far as moral implications of doing so especially when Rossum finds out about it, forcing Topher (who is horrified when his blueprints are taken from him by his mother-figure Adelle and given to Rossum) is forced to use the device on   Boyd, when he reveals himself to be the head of the company and who is aware of the apocalyptic implications of the technology and about to kill Echo, then turning him into a suicide bomber while in his new Doll-state .  to  Also the storyline where Topher comes up with a way to weaponize the mindwipe technology, as far as moral implications of doing so especially when Rossum finds out about it, forcing Topher (who is hor\n",
      "Truncating  \"  Even the leads are morally compromised: Ballard's obsession with the Dollhouse leads him to do some morally questionable things, while Caroline (before she became Echo) was portrayed as a reckless, shortsighted activist/terrorist whose obsession with the Rossum Corporation led to   her boyfriend being murdered and her best friend losing the use of her left arm.  to  \"  Even the leads are morally compromised: Ballard's obsession with the Dollhouse leads him to do some morally questionable things, while Caroline (before she became Echo) was portrayed as a reckless,\n"
     ]
    },
    {
     "name": "stdout",
     "output_type": "stream",
     "text": [
      "Truncating  Adelle  used Victor for several \"romantic engagements\" and ultimately would have allowed Sierra to be permanently given to the man who had put her in the Dollhouse as his personal revenge, but eventually takes a stand against Rossum .  to  Adelle  used Victor for several \"romantic engagements\" and ultimately would have allowed Sierra to be permanently given to the man who had put her in the Dollhouse as his personal revenge, but eventua\n",
      "Truncating  Also a  Fridge Brilliance  demonstration of why composite events are exceedingly dangerous when it happens to someone like Alpha   being able to instantly access what could potentially amount to many lifetimes of information, skills, tactics, abilities and experience and use it precisely and exactly as need and applied.  to  Also a  Fridge Brilliance  demonstration of why composite events are exceedingly dangerous when it happens to someone like Alpha   being able to instantly access what could potentially amount to many \n",
      "Truncating  Except she's been completely outplayed by  Boyd, who just  happens  to have gotten himself in a position where he must flee as the \"scapegoat\" just before Caroline is reawakened and can identify him as the mastermind behind Rossum.  to  Except she's been completely outplayed by  Boyd, who just  happens  to have gotten himself in a position where he must flee as the \"scapegoat\" just before Caroline is reawakened and can identify him a\n",
      "Truncating  Mag is in a wheelchair, Paul is shot dead, Alpha must leave his new family, Echo goes through Hell (aka The Attic) and grieves Paul's death, Adelle is on the verge of a breakdown, Topher has gone through a  Heroic Sacrifice , etc.  to  Mag is in a wheelchair, Paul is shot dead, Alpha must leave his new family, Echo goes through Hell (aka The Attic) and grieves Paul's death, Adelle is on the verge of a breakdown, Topher has gone thro\n",
      "Truncating  It's interesting to note that finally, after all these other shows, Priya and Anthony actually  do  stay together, when most of the fandom was just waiting for Joss to tear them apart in angsty fashion.  to  It's interesting to note that finally, after all these other shows, Priya and Anthony actually  do  stay together, when most of the fandom was just waiting for Joss to tear them apart in angsty fashio\n",
      "Truncating  In \"Belle Chose\" (2x03), when the Dollhouse managers discover the VIP they're trying to wake up from a coma is a potential serial killer, and a very disturbing one at that, they become much less inclined to wake him up.  to  In \"Belle Chose\" (2x03), when the Dollhouse managers discover the VIP they're trying to wake up from a coma is a potential serial killer, and a very disturbing one at that, they become much less incli\n",
      "Truncating  The finale, \"Epitaph TwoThe Return\", comes about...  and the currently more-sane Alpha , who the \"Epitaphs\" comics later reinforce has    only become less-psychotic because of having non-psycho Paul's imprint in his mind acting as a conscience , decides to allow   the imprint-wiping, original-personality-returning signal  to hit him.  to  The finale, \"Epitaph TwoThe Return\", comes about...  and the currently more-sane Alpha , who the \"Epitaphs\" comics later reinforce has    only become less-psychotic because of having non-psycho Paul's\n",
      "Truncating  So now, not only is   Alpha back to his original personality , he's also   no longer imprisoned or in any way restrained, no one knows he is loose or even still alive, and he's about to stand next to a bunch of innocent bystanders who don't know all those salient details... .  to  So now, not only is   Alpha back to his original personality , he's also   no longer imprisoned or in any way restrained, no one knows he is loose or even still alive, and he's about to stand next to \n",
      "Truncating  Not to mention giving permission for Sierra to be permanently imprinted and sent to Nolan and later having Adelle demoted, all to test Topher and Adelle to see if they were worthy to be among the chosen few who survive the thoughtpocalypse.  to  Not to mention giving permission for Sierra to be permanently imprinted and sent to Nolan and later having Adelle demoted, all to test Topher and Adelle to see if they were worthy to be among the chos\n",
      "Truncating   of sending Echo   to  The Attic  was in fact  only because she's a  Magnificent Bastard  working all sides   she only appears to be evil to her staff and the viewers until the last moments of \"The Attic\" (2x10).  to   of sending Echo   to  The Attic  was in fact  only because she's a  Magnificent Bastard  working all sides   she only appears to be evil to her staff and the viewers until the last moments of \"The At\n",
      "Truncating  And, in a sadder version of this,  Topher dies detonating the device that will restore everyone in the world's mind to its original state, after spending the entire series screwing with people's heads.  to  And, in a sadder version of this,  Topher dies detonating the device that will restore everyone in the world's mind to its original state, after spending the entire series screwing with people's heads\n",
      "Truncating  This comes back to bite them when the army's newest recruit,  Victor's original personality, Anthony , turns against them and is not only able to predict their every move, but can even turn other soldiers against the hive mind.  to  This comes back to bite them when the army's newest recruit,  Victor's original personality, Anthony , turns against them and is not only able to predict their every move, but can even turn other sold\n",
      "Truncating  Similarly, in one episode, characters describe how someone could become effectively immortal at the expense of others, by making backups of their mind and imprinting themselves into a new body whenever they die.  to  Similarly, in one episode, characters describe how someone could become effectively immortal at the expense of others, by making backups of their mind and imprinting themselves into a new body wheneve\n",
      "Truncating  Alpha 's machinations give Echo the ability to  switch seamlessly between imprints without a machine , and everything that DeWitt and the Dollhouse do during the course of the entire series to try to fix, contain, or destroy her simply makes her stronger.  to  Alpha 's machinations give Echo the ability to  switch seamlessly between imprints without a machine , and everything that DeWitt and the Dollhouse do during the course of the entire series to try to \n",
      "Truncating  :  DeWitt's willingness to take a shitstorm from her superiors to ensure that  no other Active gets abused the way Sierra did  as well as her consenting to  Echo finishing the engagement with Internet Guy.  to  :  DeWitt's willingness to take a shitstorm from her superiors to ensure that  no other Active gets abused the way Sierra did  as well as her consenting to  Echo finishing the engagement with Internet\n",
      "Truncating  First when she's drugged up in \"The Target\" (1x02), then she gets remote wiped in \"Gray Hour\" (1x04), then the return of Caroline's memories in \"Echoes\" (1x07), and then she wonders out loud what she's been imprinted as this time in \"Vows\" (2x01).  to  First when she's drugged up in \"The Target\" (1x02), then she gets remote wiped in \"Gray Hour\" (1x04), then the return of Caroline's memories in \"Echoes\" (1x07), and then she wonders out loud what she'\n",
      "Truncating  \"Belonging\" (2x04) reveals that Echo has been scribbling simple phrases concerning events in previous episodes on the inside of her sleeping pod, such as \"Victor loves Sierra\", \"Sierra loves Victor\", \"Dominic was bad\", \"I love my baby\", \"I was trained to kill\", etc.  to  \"Belonging\" (2x04) reveals that Echo has been scribbling simple phrases concerning events in previous episodes on the inside of her sleeping pod, such as \"Victor loves Sierra\", \"Sierra loves Victor\", \n",
      "Truncating  Kilo's \"ghetto accent\" is likely a callback to actress (and Dollhouse writer, and Joss Whedon's sister-in-law) Maurissa Tancharoen's nearly forgotten past as a Motown recording artist with the early-1990s girl band  Pretty in Pink , which had three black members out of five - plus Tancharoen and one white member.  to  Kilo's \"ghetto accent\" is likely a callback to actress (and Dollhouse writer, and Joss Whedon's sister-in-law) Maurissa Tancharoen's nearly forgotten past as a Motown recording artist with the early-1\n"
     ]
    },
    {
     "name": "stdout",
     "output_type": "stream",
     "text": [
      "Truncating  In \"Getting Closer\" (2x11), we discover that the memory of Caroline that Bennett showed to Echo in \"The Left Hand\" (2x06) took significant latitude in its interpretation Caroline did, indeed, say, \"Sorry, sister, if I stay we both get nabbed.  to  In \"Getting Closer\" (2x11), we discover that the memory of Caroline that Bennett showed to Echo in \"The Left Hand\" (2x06) took significant latitude in its interpretation Caroline did, indeed, say, \"So\n",
      "Truncating  While not a literal example, the post-apocalyptic scenario depicted in the Epitaph episodes invokes tropes commonly associated with this you have people who have lost their minds and identities running around and attacking everything on sight, with a handful of unaffected individuals trying to survive in the violent new world order and find a cure, etc.  to  While not a literal example, the post-apocalyptic scenario depicted in the Epitaph episodes invokes tropes commonly associated with this you have people who have lost their minds and identities runnin\n",
      "Truncating  This show contains examples of:   Actor Allusion In one episode someone props up the bar access behind Gary and he almost leans on the empty space, but then notices and nods to himself   this provokes gales of uproarious laughter from the audience, which will seem a strange non sequitur to anyone not familiar with the famous scene in  Only Fools And Horses  in which Del Boy (not Lyndhurst's character Rodney, oddly) does the same but goes crashing to the floor with a fixed expression.  to  This show contains examples of:   Actor Allusion In one episode someone props up the bar access behind Gary and he almost leans on the empty space, but then notices and nods to himself   this provokes\n",
      "Truncating  At the end of the episode, and after   Max and Dave  break into Alex's shop, the officer says it was most likely an inside job and immediately suspects Brad,  even though   Max and Dave  are bruised messes.  to  At the end of the episode, and after   Max and Dave  break into Alex's shop, the officer says it was most likely an inside job and immediately suspects Brad,  even though   Max and Dave  are bruised m\n",
      "Truncating  Max and Jane get into a dispute leading to a Zombie Apocalypse Olympics that tests athletic prowess, ability to be still, aim, and ruthlessness    Jane  wins by demonstrating ruthlessness in   pushing Max out in front of a group of hungry, hungry hipsters .  to  Max and Jane get into a dispute leading to a Zombie Apocalypse Olympics that tests athletic prowess, ability to be still, aim, and ruthlessness    Jane  wins by demonstrating ruthlessness in   pushing\n",
      "Truncating  Contestants could ring in as soon as the clue was revealed; Alex would often add chatter about each clue; there was applause after nearly every right answer and \"ooh\"s after wrong ones; and of course, a  Rules Spiel  before each round.  to  Contestants could ring in as soon as the clue was revealed; Alex would often add chatter about each clue; there was applause after nearly every right answer and \"ooh\"s after wrong ones; and of course,\n",
      "Truncating  Following several instances in which contestants just could not get the proper prefix out, the rule was slightly altered to give credit for a correct response so long as it was phrased in the form of a question.  to  Following several instances in which contestants just could not get the proper prefix out, the rule was slightly altered to give credit for a correct response so long as it was phrased in the form of \n",
      "Truncating  When Bo finds out that Johnny betrayed him he   shoots him and makes it look like Johnny went after Ava  When some criminals try to betray Boyd during a robbery, he turns the tables on them and   they end up blowing themselves up with a bomb meant to kill Boyd.  to  When Bo finds out that Johnny betrayed him he   shoots him and makes it look like Johnny went after Ava  When some criminals try to betray Boyd during a robbery, he turns the tables on them and   they\n",
      "Truncating  The sheriff of Harlan County in the first season  is working for the drug cartel that wants Raylan dead  Doyle Bennett is corrupt in all matters pertaining to his family though he is implied to be a decent sheriff otherwise.  to  The sheriff of Harlan County in the first season  is working for the drug cartel that wants Raylan dead  Doyle Bennett is corrupt in all matters pertaining to his family though he is implied to be a d\n",
      "Truncating  In the second season's final five minutes, Raylan and Mags end the feud \"as it should have ended years ago,\" by shaking hands over glasses of Mags home-made moonshine with Raylan unaware that   Mags has poisoned her own glass.  to  In the second season's final five minutes, Raylan and Mags end the feud \"as it should have ended years ago,\" by shaking hands over glasses of Mags home-made moonshine with Raylan unaware that   Mags h\n",
      "Truncating  She realizes Coover and Dickie are both irresponsible, irredeemable criminals, and Doyle is  a corrupt cop , but she says she has hope for Doyle's sons and wishes to keep them out of the family business.  to  She realizes Coover and Dickie are both irresponsible, irredeemable criminals, and Doyle is  a corrupt cop , but she says she has hope for Doyle's sons and wishes to keep them out of the family busine\n",
      "Truncating  He does it  again  in the season finale   when faced with an enraged Boyd seeking revenge for Dicky shooting Ava and begs Raylan, whom he has just been beating with a baseball bat no less, to stop him.  to  He does it  again  in the season finale   when faced with an enraged Boyd seeking revenge for Dicky shooting Ava and begs Raylan, whom he has just been beating with a baseball bat no less, to stop him\n",
      "Truncating  The only resolution that his plot gets is the epilogue \"The New Man in Charge\":   the poor kid goes nuts for a while, but it turns out he really is special and is implied to be Hurley's eventual successor.  to  The only resolution that his plot gets is the epilogue \"The New Man in Charge\":   the poor kid goes nuts for a while, but it turns out he really is special and is implied to be Hurley's eventual succe\n",
      "Truncating  Kate:   saved one bullet for the Man in Black  Sun:    Calling the Old Man Out  when she reveals that she's bought a controlling interest in his highly corrupt company using her settlement from Oceanic, she knows exactly what sort of operation he's running and there  will  be changes made.  to  Kate:   saved one bullet for the Man in Black  Sun:    Calling the Old Man Out  when she reveals that she's bought a controlling interest in his highly corrupt company using her settlement from Oceani\n",
      "Truncating  Juliet  It appears that   The Lockeness Monster was also  Becoming the Mask  after spending so much time in Locke form (which just goes to show how special Locke really was, since the Monster doubtless has spent at least as much time in Christian form and others, and never became the mask when imitating personalities like theirs).  to  Juliet  It appears that   The Lockeness Monster was also  Becoming the Mask  after spending so much time in Locke form (which just goes to show how special Locke really was, since the Monster doubtles\n",
      "Truncating  \" And it culminates, perhaps, during the final fight with Jack, in which he hesitates for a long moment with the knife to his throat which would make this an extremely rare case of a  Killed Off for Real  character who is not returning in any literal fashion whatsoever still pulling off a sort of  Deus ex Machina  from beyond the grave.  to  \" And it culminates, perhaps, during the final fight with Jack, in which he hesitates for a long moment with the knife to his throat which would make this an extremely rare case of a  Killed Off for R\n",
      "Truncating  Pierre Chang does this to his wife, because pretending to  turn into a total asshole  to drive her away from the island is the only way to persuade her to leave in time before everyone's lives become endangered by   The Incident .  to  Pierre Chang does this to his wife, because pretending to  turn into a total asshole  to drive her away from the island is the only way to persuade her to leave in time before everyone's lives become \n"
     ]
    },
    {
     "name": "stdout",
     "output_type": "stream",
     "text": [
      "Truncating  Miles asks him why on earth he would need three million dollars from him when there are \"a couple of jabronis named Nikki and Paulo (whom Miles knows about because of his ability to \"talk to the dead\") buried alive right over there with eight million dollars worth of diamonds sitting right on top of them\".  to  Miles asks him why on earth he would need three million dollars from him when there are \"a couple of jabronis named Nikki and Paulo (whom Miles knows about because of his ability to \"talk to the dead\"\n",
      "Truncating  One example is the pan from the season 1 finale of Jack and Locke peering into the hatch being used again in the  Series Finale  when Jack and   the Man in Black as  Locke looked into   the Heart of the Island .  to  One example is the pan from the season 1 finale of Jack and Locke peering into the hatch being used again in the  Series Finale  when Jack and   the Man in Black as  Locke looked into   the Heart of t\n",
      "Truncating  There's the 815 fuselage survivors, the tail survivors, the Others, the people from the freighter; then    when everyone is in the 70's  there's the Dharma Initiative and the Hostiles   (the name Dharma had for the Others) .  to  There's the 815 fuselage survivors, the tail survivors, the Others, the people from the freighter; then    when everyone is in the 70's  there's the Dharma Initiative and the Hostiles   (the name Dhar\n",
      "Truncating  And in season 6, the flashsideways   which, semantic \"out\" though it tried to pull on us about the purely Informed (or that is to say, ostensible) trait of its \"timelessness\" aside, turned out to be just more flashforwards .  to  And in season 6, the flashsideways   which, semantic \"out\" though it tried to pull on us about the purely Informed (or that is to say, ostensible) trait of its \"timelessness\" aside, turned out to be j\n",
      "Truncating  The Man in Black can lay strong claim to being the show's ultimate Grand Master of  Xanatos Speed Chess , both in terms of effectiveness and speed, after the events of \"The Candidate\" in which on extremely short notice he creates a situation that causes  six main characters to unknowingly place themselves in a death trap , and also  keeps himself clear of his own trap and makes the six think they were double-crossing him when they locked him out .  to  The Man in Black can lay strong claim to being the show's ultimate Grand Master of  Xanatos Speed Chess , both in terms of effectiveness and speed, after the events of \"The Candidate\" in which on extr\n",
      "Truncating  And, as of 6x16 (\"What They Died For\") this was justified-  Turns out Jacob purposely picked screwed up people to bring to the island so that they'd have a reason to want to replace him, as opposed to someone who was torn from a happy life .  to  And, as of 6x16 (\"What They Died For\") this was justified-  Turns out Jacob purposely picked screwed up people to bring to the island so that they'd have a reason to want to replace him, as opposed to\n",
      "Truncating  Also to a lesser extent   Jacob summoning people to the island in order to 1) prove that  Rousseau Was Right  while the Man in Black's wager is that  Humans Are Bastards  and   2) to gather candidates for his role as protector of the island .  to  Also to a lesser extent   Jacob summoning people to the island in order to 1) prove that  Rousseau Was Right  while the Man in Black's wager is that  Humans Are Bastards  and   2) to gather candidates\n",
      "Truncating  And then totally inverted in the final season: the goal of the main characters becomes to stop the  Big Bad  from leaving the Island - something they have attempted themselves for so long early in the series.  to  And then totally inverted in the final season: the goal of the main characters becomes to stop the  Big Bad  from leaving the Island - something they have attempted themselves for so long early in the\n",
      "Truncating  In the DVD bonus material for that season the writers said that they sweated a bit when that episode aired for fear the editor had spliced the wrong bit of footage onto the end of the episode because it would have been a bear to write their way out of.  to  In the DVD bonus material for that season the writers said that they sweated a bit when that episode aired for fear the editor had spliced the wrong bit of footage onto the end of the episode because \n",
      "Truncating  \"See you in another life, brotha,\" is repeated several times, and then there are other things of the same sort like Nadia's assurance that she will see Sayid again in another life, if not this one all of these things foreshadowing   the flash-sideways .  to  \"See you in another life, brotha,\" is repeated several times, and then there are other things of the same sort like Nadia's assurance that she will see Sayid again in another life, if not this one all\n",
      "Truncating  Ben seems like a rookie compared to  Jacob's enemy , whose  plan  included everything in Ben's plans, plus a couple of twists which ultimately gave him the upper hand and led to  un-Locke manipulating Ben into killing Jacob.  to  Ben seems like a rookie compared to  Jacob's enemy , whose  plan  included everything in Ben's plans, plus a couple of twists which ultimately gave him the upper hand and led to  un-Locke manipulating\n",
      "Truncating   While he's not exactly stealing other peoples' bodies, the  Man in Black /Smoke Monster is able to assume the form of anyone who has previously died whose body is on the Island such as Alex, Yemi, Christian, and Locke.  to   While he's not exactly stealing other peoples' bodies, the  Man in Black /Smoke Monster is able to assume the form of anyone who has previously died whose body is on the Island such as Alex, Yemi, Ch\n",
      "Truncating  However, The end of the show seems to vindicate these actions explicitly, by saying that   even though many died, their time on the Island was the most important part of their life, and they felt it was worth it in the end .  to  However, The end of the show seems to vindicate these actions explicitly, by saying that   even though many died, their time on the Island was the most important part of their life, and they felt it w\n",
      "Truncating  Most of the main characters recognized their flaws and how their past actions had negative effects on them and wound up redeeming themselves, due to the  Rousseau Was Right  theme, which is why  they were ultimately rewarded in the afterlife by reuniting and moving on .  to  Most of the main characters recognized their flaws and how their past actions had negative effects on them and wound up redeeming themselves, due to the  Rousseau Was Right  theme, which is why  they \n",
      "Truncating  The irredeemable villains such as    Man in Black  and Martin Keamy, who never wished to redeem themselves and just kept getting worse, simply got their brutal comeuppances,   even in the afterlife, as seen with the deaths of Keamy and his henchmen and Anthony Cooper being in a vegetative state and unable to move on .  to  The irredeemable villains such as    Man in Black  and Martin Keamy, who never wished to redeem themselves and just kept getting worse, simply got their brutal comeuppances,   even in the afterlife, a\n",
      "Truncating  And Jacob,  until \"The Incident\"  As regards the Monster the show certainly did play with the trope in a nifty way: we saw it as far back as the first episode or two but didn't know it because we didn't yet know that it was the same thing taking those other forms like Christian Shephard's.  to  And Jacob,  until \"The Incident\"  As regards the Monster the show certainly did play with the trope in a nifty way: we saw it as far back as the first episode or two but didn't know it because we didn\n",
      "Truncating  After several seasons of making us guess who the true  Big Bad  was, we are introduced to an unnamed character referred to as \"The Man in Black\", who was the enemy of Jacob and was manipulating everyone (even Ben) the whole time.  to  After several seasons of making us guess who the true  Big Bad  was, we are introduced to an unnamed character referred to as \"The Man in Black\", who was the enemy of Jacob and was manipulating everyo\n",
      "Truncating  Lampshaded  in the following episode by Hurley and Miles - and even better, it's implied that  Jack's refusal to save Ben's life as a child - and Sawyer and Juliet's subsequent plea to Richard Alpert - turned him into the  Magnificent Bastard  he would become in the future .  to  Lampshaded  in the following episode by Hurley and Miles - and even better, it's implied that  Jack's refusal to save Ben's life as a child - and Sawyer and Juliet's subsequent plea to Richard Alpert \n"
     ]
    },
    {
     "name": "stdout",
     "output_type": "stream",
     "text": [
      "Truncating  A  massive  handling by the remaining A-Team and Boaties, who spent the last few episodes of season 5 formulating and executing a plan that hinged on the small probability that  setting off a nuke would prevent the mysterious \"Incident\" that happened to the Swan station .  to  A  massive  handling by the remaining A-Team and Boaties, who spent the last few episodes of season 5 formulating and executing a plan that hinged on the small probability that  setting off a nuke wou\n",
      "Truncating  In \"Live Together, Die Alone,\" Penny is upset that Desmond never wrote to her when he was in prison, when in reality he did; Charles Widmore had been intercepting all of his letters to make Penny think that Desmond had given up on her.  to  In \"Live Together, Die Alone,\" Penny is upset that Desmond never wrote to her when he was in prison, when in reality he did; Charles Widmore had been intercepting all of his letters to make Penny thin\n",
      "Truncating  Kate (a fugitive murderer,  she had a good reason ) lecturing Locke about love, while at the same time refusing to go and help one guy who  does  love her (Sawyer) and the real mother of her adoptive son (Claire) - plus all the other survivors, of course.  to  Kate (a fugitive murderer,  she had a good reason ) lecturing Locke about love, while at the same time refusing to go and help one guy who  does  love her (Sawyer) and the real mother of her adoptive \n",
      "Truncating  However, Ben is not in control: Indeed he is the leader of this  Ancient Conspiracy , but the conspiracy itself is  also  a front for something else, something which Ben cannot even reach, much less control.  to  However, Ben is not in control: Indeed he is the leader of this  Ancient Conspiracy , but the conspiracy itself is  also  a front for something else, something which Ben cannot even reach, much less c\n",
      "Truncating  And after  Shannon's death , the scene where an enraged Sayid shows off that Republican Guard hand-to-hand training and just  mows  through several Tailies trying to get to (and from the look on his face, kill) Ana-Lucia.  to  And after  Shannon's death , the scene where an enraged Sayid shows off that Republican Guard hand-to-hand training and just  mows  through several Tailies trying to get to (and from the look on his f\n",
      "Truncating  Juliet multiple times, but particularly in the webisode  The Envelope  after   finding out Ben has cancer and that her sister may still be dying; as in if Jacob can't sure Ben's cancer, then he can't cure her sister's .  to  Juliet multiple times, but particularly in the webisode  The Envelope  after   finding out Ben has cancer and that her sister may still be dying; as in if Jacob can't sure Ben's cancer, then he can't \n",
      "Truncating  Later in the season we learn that   problems with his adoptive mother ultimately led to him and his twin brother Jacob drifting apart, and the latter throwing him into the Island's heart, transforming him into the Smoke Monster.  to  Later in the season we learn that   problems with his adoptive mother ultimately led to him and his twin brother Jacob drifting apart, and the latter throwing him into the Island's heart, transforming\n",
      "Truncating  So when Meet Kevin Johnson, the last episode before the hiatus aired, no one was the least bit surprised that  Michael was Kevin Johnson  Did you know that Jeff Fahey (Frank Lapidus) is a main cast member in Season 6?  to  So when Meet Kevin Johnson, the last episode before the hiatus aired, no one was the least bit surprised that  Michael was Kevin Johnson  Did you know that Jeff Fahey (Frank Lapidus) is a main cast me\n",
      "Truncating  Then there's Jack's   and Claire's  dad, Christian, whose dead body Jack was bringing home on Flight 815, but who turned up in numerous episodes throughout all six seasons, whether in flashbacks, in dreams, as a ghost, or a  Dead Person Impersonation .  to  Then there's Jack's   and Claire's  dad, Christian, whose dead body Jack was bringing home on Flight 815, but who turned up in numerous episodes throughout all six seasons, whether in flashbacks, in d\n",
      "Truncating  Other such characters would include:   Susan Lloyd, Frank Duckett, Essam Tasir, Tom Brennan, Jae Lee, Yemi, Angelo Busoni, Kelvin, Emeka, Edward Burke, Tricia Tanaka, Howard L. Zuckerman, Roger Linus, Horace Goodspeed, Emily Linus, Jonas Whitfield, Isabella,  \"Mother\" , and Claudia.  to  Other such characters would include:   Susan Lloyd, Frank Duckett, Essam Tasir, Tom Brennan, Jae Lee, Yemi, Angelo Busoni, Kelvin, Emeka, Edward Burke, Tricia Tanaka, Howard L. Zuckerman, Roger Linus,\n",
      "Truncating  Other characters who died during this period include:    Diane of the Others,  Greta, Bonnie, Ryan Price,  Tom Friendly , Mikhail, Charlie, Naomi, George Minktowski, Regina, Karl, Rousseau, Alex, Ray, Captain Gault, Omar, Keamy, Michael, Neil,  apparently every single remaining survivor of Flight 815 who was neither a   Main Character  nor  an abducted Tailie , Charlotte, Nadia, Ishmail Bakir, Mr.  to  Other characters who died during this period include:    Diane of the Others,  Greta, Bonnie, Ryan Price,  Tom Friendly , Mikhail, Charlie, Naomi, George Minktowski, Regina, Karl, Rousseau, Alex, Ray,\n",
      "Truncating  Examples include Stuart Radzinsky, a character we had heard about as having  committed sucide  but whom we'd never seen till now, Rousseau and her entire expedition, and members of the Dharma Initiative, many of whom will be killed in the Purge, and   Phil , a DI member who ends up dying   long before the Purge, as a direct result of the Losties' actions.  to  Examples include Stuart Radzinsky, a character we had heard about as having  committed sucide  but whom we'd never seen till now, Rousseau and her entire expedition, and members of the Dharma Initiati\n",
      "Truncating  The Smoke Monster  aka The Man in Black  used this a lot on the main characters:  he appears to Jack as his late father, to Eko as his late brother, to Ben as his late daughter, to Richard as his late wife...  you get the idea.  to  The Smoke Monster  aka The Man in Black  used this a lot on the main characters:  he appears to Jack as his late father, to Eko as his late brother, to Ben as his late daughter, to Richard as his late\n",
      "Truncating  In Ab Aeterno, the scene where he makes a deal with a chained and starved  Richard  (who at this point has been chained in the ship for several days) parallels the one between Flagg and a starved and imprisoned Lloyd very closely.  to  In Ab Aeterno, the scene where he makes a deal with a chained and starved  Richard  (who at this point has been chained in the ship for several days) parallels the one between Flagg and a starved and \n",
      "Truncating  Well, the return of Christian's coffin in the sideways universe was shown very early on, so, if you were watching the episode without knowing the ending, you could have assumed that John Terry would appear only as a corpse.  to  Well, the return of Christian's coffin in the sideways universe was shown very early on, so, if you were watching the episode without knowing the ending, you could have assumed that John Terry would a\n",
      "Truncating  Sayid attempts to kill  Ben as a child, forcing Kate and Sawyer to turn over the mortally wounded child to the Others, with the implication that these events will unalterably set the kid on the path to being the cold hard bastard he is in the present .  to  Sayid attempts to kill  Ben as a child, forcing Kate and Sawyer to turn over the mortally wounded child to the Others, with the implication that these events will unalterably set the kid on the path t\n",
      "Truncating  Also, Jack's theory was that  detonating an H-bomb on the Island  would stop the plane from crashing in 2004, thereby somehow magically whisking all the main characters to their pre-crash lives once again.  to  Also, Jack's theory was that  detonating an H-bomb on the Island  would stop the plane from crashing in 2004, thereby somehow magically whisking all the main characters to their pre-crash lives once a\n",
      "Truncating  When he was  first introduced  he gave the fake name of \"Henry Gale,\" (same name as Dorothy's uncle) someone who actually died on the island after arriving by hot air balloon (like how the Wizard arrived in Oz).  to  When he was  first introduced  he gave the fake name of \"Henry Gale,\" (same name as Dorothy's uncle) someone who actually died on the island after arriving by hot air balloon (like how the Wizard arri\n"
     ]
    },
    {
     "name": "stdout",
     "output_type": "stream",
     "text": [
      "Truncating  : Rest in peace, Sun and Jin Kwon  Completly averted with the bones in the cave because  they belong to Jacob's brother and a woman he killed, who pretended to be their mother  Ultimately,  everyone  at the very end, when they all meet up at the church .  to  : Rest in peace, Sun and Jin Kwon  Completly averted with the bones in the cave because  they belong to Jacob's brother and a woman he killed, who pretended to be their mother  Ultimately,  everyone  \n",
      "Truncating  By the end of the last episode,  Faraday had been killed by his own mother ,  Sayid was shot by Roger Linus; though he got better, sort of ,  Jacob had been knifed to death by Ben ,  Juliet fell down a pit on the island with everybody else and repeatedly hit an armed H-bomb with a rock,  and  Locke was  revealed  to have been dead the whole time .  to  By the end of the last episode,  Faraday had been killed by his own mother ,  Sayid was shot by Roger Linus; though he got better, sort of ,  Jacob had been knifed to death by Ben ,  Juliet fell down \n",
      "Truncating    After the season 5 finale the (apparently) deceased John Locke probably qualifies as the poster boy of this trope, having been manipulated his whole life, first by his father, then by Ben and finally by the entity who has now taken his place.  to    After the season 5 finale the (apparently) deceased John Locke probably qualifies as the poster boy of this trope, having been manipulated his whole life, first by his father, then by Ben and finall\n",
      "Truncating  Some viewers read too far into lingering shots of the plane fuselage appearing over the end credits of the finale, believing that everyone died in the original plane crash   despite (a) the fuselage area containing various signs that unseen survivors around it have established a beach camp, (b) Christian explicitly stating in a long monologue that everything really happened and some of the people in the church died before Jack while others died long after, and (c) characters like Juliet, Desmond, Penny and Ben, who were not on the plane, appearing in and being recognized by the other people in the church .  to  Some viewers read too far into lingering shots of the plane fuselage appearing over the end credits of the finale, believing that everyone died in the original plane crash   despite (a) the fuselage a\n",
      "Truncating  After he surrenders, Sawyer (remembering his capture and threatening of Kate, as well as his involvement in kidnapping Walt, shooting Sawyer, and attempted murder of everybody on the raft)  takes deliberate aim and kills him.  to  After he surrenders, Sawyer (remembering his capture and threatening of Kate, as well as his involvement in kidnapping Walt, shooting Sawyer, and attempted murder of everybody on the raft)  takes deli\n",
      "Truncating  Servo, meanwhile, announces that he's walking for Helping Children Through Research And Development; Mike tentatively identifies it as HeCTRAD, but Servo explains that the acronym actually  is  H.E.L.P.I.N.G.C.H.I.L.D.R.E.N.T.H.R.O.U.G.H.R.E.S.E.A.R.C.H.A.N.D.D.E.V.E.L.O.P.M.E.N.T; it stands for  Hi, Everyone.  to  Servo, meanwhile, announces that he's walking for Helping Children Through Research And Development; Mike tentatively identifies it as HeCTRAD, but Servo explains that the acronym actually  is  H.E.L.\n",
      "Truncating  \", non-stop buttsex double-entendres that get more blatant   dirtier with each riff...culminating in one of the Bot's crack about \"...and now, I'll be nudging yer sweet honey pot...\", to which Mike puts the kabosh on the whole thing.  to  \", non-stop buttsex double-entendres that get more blatant   dirtier with each riff...culminating in one of the Bot's crack about \"...and now, I'll be nudging yer sweet honey pot...\", to which Mike pu\n",
      "Truncating  Even though the writers figured out they had their references crossed - the hand shots were from a dish soap commercial, while the line was from a cereal ad - they continued to throw in the riff throughout the show's run.  to  Even though the writers figured out they had their references crossed - the hand shots were from a dish soap commercial, while the line was from a cereal ad - they continued to throw in the riff throu\n",
      "Truncating  This was because the distributors' test audiences apparently felt it went on too long, even though fans of the show (those most likely to see the film) were already well-accustomed to the show being as long as a film.  to  This was because the distributors' test audiences apparently felt it went on too long, even though fans of the show (those most likely to see the film) were already well-accustomed to the show being a\n",
      "Truncating  The truth was more subduedseeing the show's popularity (and the fact that many of his episodes were among the most popular that the show featured in the early years) he simply tried to extort more money from Best Brains by raising his asking price to renew the license for usage of his films.  to  The truth was more subduedseeing the show's popularity (and the fact that many of his episodes were among the most popular that the show featured in the early years) he simply tried to extort more mon\n",
      "Truncating  Jay,   and becomes an Absurdly Youthful  Grandmother  later on in the series  Tisha Campbell-Martin is about 13 years older than the actor who played her eldest child, but then it  was  a  Teen Pregnancy , even if the age gap was larger by about 5 years.  to  Jay,   and becomes an Absurdly Youthful  Grandmother  later on in the series  Tisha Campbell-Martin is about 13 years older than the actor who played her eldest child, but then it  was  a  Teen Pregna\n",
      "Truncating  \" whenever someone made an idiotic suggestion and he felt like giving them false hope, and a  Running Gag  was Michael  dragging out the \"Ehhhh...\" part  or coming with increasingly creative ways to drop the phrase.  to  \" whenever someone made an idiotic suggestion and he felt like giving them false hope, and a  Running Gag  was Michael  dragging out the \"Ehhhh...\" part  or coming with increasingly creative ways to d\n",
      "Truncating  An interesting version  Damon Wayans' kids were on the writing staff in later seasons, so various plot points (such as  Junior getting Vanessa pregnant ) occurred because it had just happened to the writers.  to  An interesting version  Damon Wayans' kids were on the writing staff in later seasons, so various plot points (such as  Junior getting Vanessa pregnant ) occurred because it had just happened to the w\n",
      "Truncating  Very averted, in the first episode Jane takes several punches from a suspect, nearly gets strangled by him and has blood and bruises all over her in the aftermath, and they stay around for the rest of the episode.  to  Very averted, in the first episode Jane takes several punches from a suspect, nearly gets strangled by him and has blood and bruises all over her in the aftermath, and they stay around for the rest of\n",
      "Truncating  In the second episode, Duffy doesn't suffer any (on screen) consequences for  ruining the life of the innocent ex-child molester, to the point that the man  killed himself  even after he was cleared  and when confronted about it, says that he still considers the outcome favorable.  to  In the second episode, Duffy doesn't suffer any (on screen) consequences for  ruining the life of the innocent ex-child molester, to the point that the man  killed himself  even after he was cleared  \n",
      "Truncating  Her boyfriend's ex-wife spends almost all of her screentime in the first two episodes fussing about whether their son will be safe at Jane's house, which leads to a  Crowning Moment of Awesome  in the second episode where Jane puts her in her place by reminding her of the various things she and her new husband have done wrong, having looked at their records.  to  Her boyfriend's ex-wife spends almost all of her screentime in the first two episodes fussing about whether their son will be safe at Jane's house, which leads to a  Crowning Moment of Awesome  in the\n",
      "Truncating  The guy was innocent, but his life gets so messed up by them casting suspicion on him that he takes his girlfriend and her daughter hostage, and even after Jane tells him that they know he didn't do it he opts to kill himself, so this counts as a  very  cynical deconstruction .  to  The guy was innocent, but his life gets so messed up by them casting suspicion on him that he takes his girlfriend and her daughter hostage, and even after Jane tells him that they know he didn't do i\n"
     ]
    },
    {
     "name": "stdout",
     "output_type": "stream",
     "text": [
      "Truncating  In the Season 3 finale,  Charles finally gets to be a stellar King Lear, Sophie and Paul get together, and Geoffrey and Ellen get married, but Charles dies, Geoffrey resigns from the festival, Richard relapses into a soulless corporate executive, Darren gets appointed artistic director, Anna is fired, and Geoffrey tells Oliver he loves him only after Oliver has disappeared for good .  to  In the Season 3 finale,  Charles finally gets to be a stellar King Lear, Sophie and Paul get together, and Geoffrey and Ellen get married, but Charles dies, Geoffrey resigns from the festival, Richard\n",
      "Truncating  Yvette, Floyd, and Marcus try to get TJ dates for the upcoming dance, but because they didn't tell the other (and because TJ fears saying \"no\" to their choices would hurt his family), he ended up getting three dates, and Mo's suggestion to hide it makes it hilariously worse.  to  Yvette, Floyd, and Marcus try to get TJ dates for the upcoming dance, but because they didn't tell the other (and because TJ fears saying \"no\" to their choices would hurt his family), he ended up gett\n",
      "Truncating  Many throughout, in order to avoid  the usual complaint  against such a  Long Runner ; the Hidden Immunity Idols and the initial tribe divisions (by gender, race, or age) are probably the  most notorious .  to  Many throughout, in order to avoid  the usual complaint  against such a  Long Runner ; the Hidden Immunity Idols and the initial tribe divisions (by gender, race, or age) are probably the  most notori\n",
      "Truncating  \"  In  One World , Colton and Alicia each gave one to Christina, harping on how hopeless her situation was and that she was going to be eliminated next, but they suffered a vicious Karmic backlash : Colton instead was eliminated in a medevac, Alicia didn't get his immunity idol, and Christina ended up making it to the Final Four and outlasting Alicia by one round.  to  \"  In  One World , Colton and Alicia each gave one to Christina, harping on how hopeless her situation was and that she was going to be eliminated next, but they suffered a vicious Karmic backlash : C\n",
      "Truncating  Guatemala  also featured two of the Ulong tribe members,  Redemption Island  had Boston Rob and Russell,  South Pacific  had Coach and Ozzy, and  Philippines  will have  Mike Skupin, Russell Swan, and Jonathan Penner .  to  Guatemala  also featured two of the Ulong tribe members,  Redemption Island  had Boston Rob and Russell,  South Pacific  had Coach and Ozzy, and  Philippines  will have  Mike Skupin, Russell Swan, and\n",
      "Truncating  He says on camera to his tribe that it's in Pagong's best interest to vote as a unified whole just in case Tagi was planning to do the same (and they were), and most of his tribe punished him for not being naive and assuming everyone would vote emotionally.  to  He says on camera to his tribe that it's in Pagong's best interest to vote as a unified whole just in case Tagi was planning to do the same (and they were), and most of his tribe punished him for not \n",
      "Truncating  Comes up in several seasons, and is a major reason for the trend of conservative play in recent oneseven if everyone wants a guy in a position of power voted out, nobody wants to be targeted for trying.  to  Comes up in several seasons, and is a major reason for the trend of conservative play in recent oneseven if everyone wants a guy in a position of power voted out, nobody wants to be targeted for tryin\n",
      "Truncating  The television series contains examples of:   Absurdly Ineffective Barricade Stiles tried to warn everyone that blocking the door with desks and chairs wouldn't do anything to secure the twenty-foot wall of windows, but gets  not now, kiddo'd .  to  The television series contains examples of:   Absurdly Ineffective Barricade Stiles tried to warn everyone that blocking the door with desks and chairs wouldn't do anything to secure the twenty-foot w\n",
      "Truncating  Lydia flirts with Stiles in the fifth episode when he came by to see if she was okay - much to his delight, at least until he finds out that she's only doing so because she was really drugged up and thought he was Jackson.  to  Lydia flirts with Stiles in the fifth episode when he came by to see if she was okay - much to his delight, at least until he finds out that she's only doing so because she was really drugged up and t\n",
      "Truncating  \"  When offering solutions to help the poor and unemployed without having to raise taxes for the wealthy, Colbert suggested that rich people should buy the natural rights of poorer individuals and took  Jonathan Swift 's  A Modest Proposal  seriously, calling for poor children to be sold as food for extra cash.  to  \"  When offering solutions to help the poor and unemployed without having to raise taxes for the wealthy, Colbert suggested that rich people should buy the natural rights of poorer individuals and too\n",
      "Truncating   - Subverted in the Job Center storyline, when Ross admits no one else knows about his report on Pauline, even adding that all the information is within a single folder he has right there but Pauline accepts defeat anyway.  to   - Subverted in the Job Center storyline, when Ross admits no one else knows about his report on Pauline, even adding that all the information is within a single folder he has right there but Pauline \n",
      "Truncating  Jamie, the aggressive, foul-mouthed Scottish press officer who is  even worse  than Malcolm (but without any of the intelligence or wit): Olly Reeder \"When I met you this morning I thought you were the  nice  Scot\"-  to  Jamie, the aggressive, foul-mouthed Scottish press officer who is  even worse  than Malcolm (but without any of the intelligence or wit): Olly Reeder \"When I met you this morning I thought you were th\n",
      "Truncating  The characters have a tendency to brag about the latest heroic scheme they're plotting or the stand they're planning to take, before chickening out of it at the last minute:   Hugh Abbott \"I'm going to go in to the PM and tell him straight upthis bill is a load of old bollocks!  to  The characters have a tendency to brag about the latest heroic scheme they're plotting or the stand they're planning to take, before chickening out of it at the last minute:   Hugh Abbott \"I'm going t\n",
      "Truncating  When Phil Smith tells Olly  Emma has dumped him  before Emma can break the news herself, Phil receives a hot cup of coffee in the groin:   Phil Smith \"It's a dark suit and it's only lukewarm, I STILL WIN!  to  When Phil Smith tells Olly  Emma has dumped him  before Emma can break the news herself, Phil receives a hot cup of coffee in the groin:   Phil Smith \"It's a dark suit and it's only lukewarm, I STILL \n",
      "Truncating  McBride was also forced to resign after his plans to set up a blog slandering  David Cameron  were leaked, some time after the show featured Malcolm Tucker getting into trouble for posting slanderous comments on Peter Mannion's blog.  to  McBride was also forced to resign after his plans to set up a blog slandering  David Cameron  were leaked, some time after the show featured Malcolm Tucker getting into trouble for posting slanderous \n",
      "Truncating  In the book they sign emails to each other as M x and S x.  Malcolm also has a pet the dog scene with Glenn   At the end of Spinners and Losers, Malcolm is rather nice to Glenn after he's had his mini-breakdown - he tries to make him feel important and included, and backs him up against Olly.  to  In the book they sign emails to each other as M x and S x.  Malcolm also has a pet the dog scene with Glenn   At the end of Spinners and Losers, Malcolm is rather nice to Glenn after he's had his mini\n",
      "Truncating  This is  Truth in Television civil servants aren't impossible to sack, but nearly so; troublesome, ineffective or surplus civil servants tend to be  Kicked Upstairs  or persuaded to take voluntary redundancy.  to  This is  Truth in Television civil servants aren't impossible to sack, but nearly so; troublesome, ineffective or surplus civil servants tend to be  Kicked Upstairs  or persuaded to take voluntary red\n",
      "Truncating  Based on  the 1961 film of the same name , in which our heroes defeat a  global heat wave  (caused by the then recently discovered Van Allen radiation belt  catching on fire ) through  Deus Ex Nukina .  to  Based on  the 1961 film of the same name , in which our heroes defeat a  global heat wave  (caused by the then recently discovered Van Allen radiation belt  catching on fire ) through  Deus Ex Nukina \n"
     ]
    },
    {
     "name": "stdout",
     "output_type": "stream",
     "text": [
      "Truncating  Most importantly, Jimmy owes Greg everything, without him Jimmy would be a homeless, unemployed utter failure as a human being, the quote \"I've done everything short of breathing air into your lungs\" comes to mind as it is entirely accurate.  to  Most importantly, Jimmy owes Greg everything, without him Jimmy would be a homeless, unemployed utter failure as a human being, the quote \"I've done everything short of breathing air into your lungs\" \n",
      "Finishes vectorize_X_dependency\n",
      "(1477, 160751)\n",
      "Accuracy: 0.640\n",
      "             precision    recall  f1-score   support\n",
      "\n",
      "      False      0.620     0.619     0.619       700\n",
      "       True      0.657     0.659     0.658       777\n",
      "\n",
      "avg / total      0.640     0.640     0.640      1477\n",
      "\n"
     ]
    },
    {
     "data": {
      "text/plain": [
       "0.6387770263064017"
      ]
     },
     "execution_count": 22,
     "metadata": {},
     "output_type": "execute_result"
    }
   ],
   "source": [
    "experiment(stemmed_phi, fit_svc, train, test, should_parse=True)"
   ]
  },
  {
   "cell_type": "code",
   "execution_count": 23,
   "metadata": {},
   "outputs": [
    {
     "name": "stdout",
     "output_type": "stream",
     "text": [
      "In train!\n",
      "Gets to vectorizer\n",
      "Finishes vectorize_X_dependency\n"
     ]
    },
    {
     "name": "stderr",
     "output_type": "stream",
     "text": [
      "/anaconda2/envs/nlu/lib/python3.6/site-packages/sklearn/decomposition/online_lda.py:536: DeprecationWarning: The default value for 'learning_method' will be changed from 'online' to 'batch' in the release 0.20. This warning was introduced in 0.18.\n",
      "  DeprecationWarning)\n"
     ]
    },
    {
     "name": "stdout",
     "output_type": "stream",
     "text": [
      "(11970, 500)\n",
      "500\n",
      "Not in train!\n",
      "Truncating  There was also a comic book adaptation which tended to play down the sitcom aspects in favor of giving him strange technological toys; it seemed more inspired by the  Animated Adaptation  than the original sitcom and would in fact often include stories set on Melmac, usually with the framing story of Alf telling the Tanners of life on his home planet.  to  There was also a comic book adaptation which tended to play down the sitcom aspects in favor of giving him strange technological toys; it seemed more inspired by the  Animated Adaptation  than the ori\n",
      "Truncating  Jay Mariotti was a regular panelist since the show's beginning, but he  hasn't appeared  since his  August 2010 domestic violence arrest , and ESPN has made it clear they aren't really interested in bringing him back.  to  Jay Mariotti was a regular panelist since the show's beginning, but he  hasn't appeared  since his  August 2010 domestic violence arrest , and ESPN has made it clear they aren't really interested in b\n",
      "Truncating  He points out that really what he wants is to   make George suffer in payback for him ripping Herrick limb from limb in Series 1  but invokes this trope as the reason he's going to spare her and promptly leaves.  to  He points out that really what he wants is to   make George suffer in payback for him ripping Herrick limb from limb in Series 1  but invokes this trope as the reason he's going to spare her and promp\n",
      "Truncating  Perhaps a better example would be the fact that there are currently two seemingly-unconnected parties out to kill Eve: the Old Ones, as represented by Cutler and Fergus since they're not in the country yet, who want to destroy the girl prophesied to kill them all, and an unidentified woman from the future, represented by   Kirby  since she's apparently stuck in the afterlife, who knows something no-one else does which means the baby has to die.  to  Perhaps a better example would be the fact that there are currently two seemingly-unconnected parties out to kill Eve: the Old Ones, as represented by Cutler and Fergus since they're not in the countr\n",
      "Truncating    Tully (revealed to have been killed in Professor Jaggat's experiments) and Daisy (revealed to have been killed by McNair)    Nina in between Series 3 and 4, killed by vampires , as well as Wyndham, apparently killed in revenge by   George .  to    Tully (revealed to have been killed in Professor Jaggat's experiments) and Daisy (revealed to have been killed by McNair)    Nina in between Series 3 and 4, killed by vampires , as well as Wyndham, \n",
      "Truncating  You'll be alive enough to feel pain, but dead enough to survive without your major organs,   which lead humans to dissect the first Type 4s, and later incinerate them as a biohazard, while they were still conscious.  to  You'll be alive enough to feel pain, but dead enough to survive without your major organs,   which lead humans to dissect the first Type 4s, and later incinerate them as a biohazard, while they were s\n",
      "Truncating  You're trapped in your body for several weeks after 'death,' until it decays enough that it simply can't sustain your soul any more, during which time it can't recover from any injuries you sustain, and  you can feel yourself decomposing on the inside.  to  You're trapped in your body for several weeks after 'death,' until it decays enough that it simply can't sustain your soul any more, during which time it can't recover from any injuries you sustain, a\n",
      "Truncating  One of  Mitchell's  strategies for trying to get   George to stake him is to try to convince him their friendship was a lie and he found George pathetic, but George knew he was doing this trope, and Mitchell didn't have the heart to keep up the act.  to  One of  Mitchell's  strategies for trying to get   George to stake him is to try to convince him their friendship was a lie and he found George pathetic, but George knew he was doing this trope, and M\n",
      "Truncating    George killing Herrick  may have resolved one problem but as it turns out in series 2 the repercussions involve    a power vacuum in the vampire lot , the loss of a system which kept the supernatural existence under wraps, and George becoming notorious enough to be targeted by vampires loyal to Herrick.  to    George killing Herrick  may have resolved one problem but as it turns out in series 2 the repercussions involve    a power vacuum in the vampire lot , the loss of a system which kept the supernatura\n",
      "Truncating  However it then leads to   Nancy getting Mitchell arrested and the whole masquerade of the supernatural existing is about to break , and even worse,   Herrick wiped out the remaining police in the house and he got his memory back .  to  However it then leads to   Nancy getting Mitchell arrested and the whole masquerade of the supernatural existing is about to break , and even worse,   Herrick wiped out the remaining police in the hou\n",
      "Truncating  Werewolves do carry some latent effects even while in human form, such as sharper senses leading up to and just after a full moon, and rapid (or at least, rapid er ) healing, in evidence after   Nina gets stabbed by Herrick .  to  Werewolves do carry some latent effects even while in human form, such as sharper senses leading up to and just after a full moon, and rapid (or at least, rapid er ) healing, in evidence after   Nina \n",
      "Truncating  With extreme effort, it is possible for a werewolf to partially change without the full moon,   though this does not heal away the damage they suffer in the transformation, so the werewolf will die of multiple organ failure in minutes .  to  With extreme effort, it is possible for a werewolf to partially change without the full moon,   though this does not heal away the damage they suffer in the transformation, so the werewolf will die of\n",
      "Truncating  Nina doesn't talk to George or Mitchell about  Mitchell being responsible for the Box Tunnel 20 , and Mitchell doesn't tell his best friend or his girlfriend about the prophecy he got from Lia  about the wolf-shaped bullet , despite the fact that he has proven time and time again he completely trusts George.  to  Nina doesn't talk to George or Mitchell about  Mitchell being responsible for the Box Tunnel 20 , and Mitchell doesn't tell his best friend or his girlfriend about the prophecy he got from Lia  about \n",
      "Truncating  The entire plot-line that ended with  Mitchell's death  was originally conceived when  Aidan Turner  was cast in  The Hobbit  and the producers knew that they were about to lose him to Hollywood, but they still wanted to give him a good send-off.  to  The entire plot-line that ended with  Mitchell's death  was originally conceived when  Aidan Turner  was cast in  The Hobbit  and the producers knew that they were about to lose him to Hollywood, but \n",
      "Truncating  :  Episode 21, \"Though the Heavens Fall\" involves   the death of McNair, \"Uncle Billy\" turning back into Herrick, Nancy discovering the existence of vampires and being killed, Annie committing murder and learning the truth about Mitchell, Mitchell being arrested, the police discovering his vampirism after he fails to show up in a photo and his fingerprints match a set on file from decades before, and the pregnant Nina being (possibly fatally) stabbed in the abdomen .  to  :  Episode 21, \"Though the Heavens Fall\" involves   the death of McNair, \"Uncle Billy\" turning back into Herrick, Nancy discovering the existence of vampires and being killed, Annie committing murder \n",
      "Truncating  George and Nina's baby is   prophesised to bring an end to the vampire race, Nina is revealed to have been murdered by vampires, it's shown vampires have basically taken over the world by 2039, and most of all  George dies  in a heroic sacrifice.  to  George and Nina's baby is   prophesised to bring an end to the vampire race, Nina is revealed to have been murdered by vampires, it's shown vampires have basically taken over the world by 2039, and mo\n",
      "Truncating  The metaphors become especially prevalent during season 2, when Mitchell begins a blood addicts support group, George   accidentally infects his girlfriend , and Annie, so long invisible to normal people, becomes giddy at the prospect of working at the pub down the street.  to  The metaphors become especially prevalent during season 2, when Mitchell begins a blood addicts support group, George   accidentally infects his girlfriend , and Annie, so long invisible to normal peo\n"
     ]
    },
    {
     "name": "stdout",
     "output_type": "stream",
     "text": [
      "Truncating  They are openly hostile to each other, the former being a \"Communist\" who claims the director his natural enemy  because of their opposite political leanings , but actually they are always making secret agreements and plotting together against the other workers for their own personal profit.  to  They are openly hostile to each other, the former being a \"Communist\" who claims the director his natural enemy  because of their opposite political leanings , but actually they are always making secr\n",
      "Truncating  Mostly noticeable in a sketch beginning with Luca screws up and gets tea instead of coffee; instead of simply throwing it away, he tries to give it to someone else *  (the former would be a solution, but  his strong Communist beliefs keep him from \"wasting\" tea, as it would be \"an instance of Capitalism\" )]].  to  Mostly noticeable in a sketch beginning with Luca screws up and gets tea instead of coffee; instead of simply throwing it away, he tries to give it to someone else *  (the former would be a solution, \n",
      "Truncating    Officer Gilbert's excuse for wanting to keep Drake and Josh from satisfying Mary Alice and her foster family is due to an incident he had when he got a monkey for Christmas like he wanted, but then it destroyed their tree and presents and escaped.  to    Officer Gilbert's excuse for wanting to keep Drake and Josh from satisfying Mary Alice and her foster family is due to an incident he had when he got a monkey for Christmas like he wanted, but then \n",
      "Truncating  Each episode opens with a minute-long  No Fourth Wall  skit of Drake and Josh conversing with the audience in separate locations of their residence, which may or may not be related to the main plot of the episode.  to  Each episode opens with a minute-long  No Fourth Wall  skit of Drake and Josh conversing with the audience in separate locations of their residence, which may or may not be related to the main plot of\n",
      "Truncating  Pilsook has one due to her chances of being in the student showcase getting dashed because she's a member of the special admissions class, her diet not working out, and finding out Jason is ususally nice to everyone, not just her.  to  Pilsook has one due to her chances of being in the student showcase getting dashed because she's a member of the special admissions class, her diet not working out, and finding out Jason is ususally n\n",
      "Truncating  :  Hyemi experiences one in which her life spirals downwards until she and her sister are living in cardboard boxes on the street and  her sister dies  because she refused to play along with Samdong on the talent search program and thus failed to bring him to Kirin.  to  :  Hyemi experiences one in which her life spirals downwards until she and her sister are living in cardboard boxes on the street and  her sister dies  because she refused to play along with Samdong o\n",
      "Truncating  However, when Reagan started downsizing and he lost his job, Kill Moves spiraled downward on a path of paranoia and schizophrenia and wandered the streets until  Gazoo   told him that he'd only find true happiness by living in a box.  to  However, when Reagan started downsizing and he lost his job, Kill Moves spiraled downward on a path of paranoia and schizophrenia and wandered the streets until  Gazoo   told him that he'd only find t\n",
      "Truncating  For some reason , none of them mention the more obvious possibility that the art stores are untouched because there's no point in booby-trapping locations of no strategic importance - the aliens may have art, but pretty pictures are not exactly a vital resource in war, so there's no reason to spend effort denying them to the enemy.  to  For some reason , none of them mention the more obvious possibility that the art stores are untouched because there's no point in booby-trapping locations of no strategic importance - the aliens may h\n",
      "Truncating  Mike, who   screws up the kid retrieval mission by acting like a panicky idiot, leading to the capture of a squadmate, and the slaying of a bunch of children  and then tries to make an alien speak  by sticking a gun in it's mouth .  to  Mike, who   screws up the kid retrieval mission by acting like a panicky idiot, leading to the capture of a squadmate, and the slaying of a bunch of children  and then tries to make an alien speak  by\n",
      "Truncating  A good number of fans actually believed Henry Winkler actually possessed Fonzie's  Rule Of Cool  powers, begging him to do things for them that ranged from  banging on a car's hood to make it work  to quieting all the animals in a zoo.  to  A good number of fans actually believed Henry Winkler actually possessed Fonzie's  Rule Of Cool  powers, begging him to do things for them that ranged from  banging on a car's hood to make it work  to\n",
      "Truncating  It returned with a vengeance in Season 8; firstly the red team had to eat a meal featuring the grossest seafood imaginable (although Gail wasn't actually disgusted at all by the seafood, which she commonly ate when she was younger), and then a few episodes later they had to eat a plate full of flowers  filled with insects .  to  It returned with a vengeance in Season 8; firstly the red team had to eat a meal featuring the grossest seafood imaginable (although Gail wasn't actually disgusted at all by the seafood, which she com\n",
      "Truncating  One service during season six got so bad that Ramsay actually just sort of stopped bothering, and wandered out of the kitchen and out of the restaurant, to walk around on the street saying over and over to a sous chef and the camera crew that he couldn't believe it had gotten so terrible.  to  One service during season six got so bad that Ramsay actually just sort of stopped bothering, and wandered out of the kitchen and out of the restaurant, to walk around on the street saying over and ov\n",
      "Truncating  When Jennifer was eliminated (the two never got along to begin with), Elise mouthed off about how much of a better chef than she was, causing Jennifer to  curse Elise out and flip her off when she walked off .  to  When Jennifer was eliminated (the two never got along to begin with), Elise mouthed off about how much of a better chef than she was, causing Jennifer to  curse Elise out and flip her off when she wal\n",
      "Truncating  Sure, he was rude to Danny on occasion, but that was mainly   because Danny called himself a better cook than Ben and even called him the worst cook of the remaining members of the blue team at one point, so it's natural that he'd feel at least a little insulted by that.  to  Sure, he was rude to Danny on occasion, but that was mainly   because Danny called himself a better cook than Ben and even called him the worst cook of the remaining members of the blue team at one po\n",
      "Truncating  His heart of gold comes through when   he puts their differences aside and tries his best to help Danny win the last dinner service rather than being apathetic about the whole thing like Lacey or Giovanni.  to  His heart of gold comes through when   he puts their differences aside and tries his best to help Danny win the last dinner service rather than being apathetic about the whole thing like Lacey or Giov\n",
      "Truncating  She inexplicably started doing a lot better for a couple episodes after   she was switched from the red team to the blue team and the blue team actually started  winning  with her , but then went back to being terrible shortly thereafter.  to  She inexplicably started doing a lot better for a couple episodes after   she was switched from the red team to the blue team and the blue team actually started  winning  with her , but then went back\n",
      "Truncating  Will, on the other hand, ended up with Krupa as his final pick to ensure that Carrie would be on Paul's team, and Krupa was spectacularly awful in the service that followed, almost single-handedly destroying any chance Will had of winning .  to  Will, on the other hand, ended up with Krupa as his final pick to ensure that Carrie would be on Paul's team, and Krupa was spectacularly awful in the service that followed, almost single-handedly des\n",
      "Truncating  Ridiculously averted by season 9's   Elise , who has made it to the final 4 despite being a contestant more manipulative, conniving, and not to mention WORTHLESS than someone on Survivor or Big Brother.  to  Ridiculously averted by season 9's   Elise , who has made it to the final 4 despite being a contestant more manipulative, conniving, and not to mention WORTHLESS than someone on Survivor or Big Brothe\n"
     ]
    },
    {
     "name": "stdout",
     "output_type": "stream",
     "text": [
      "Truncating  When arranged as a colour spectrum, this forms a time line, so in a case of fridge brilliance, Carrie made a connection between the chronology and the chromatology, again words with a very similar morphology.  to  When arranged as a colour spectrum, this forms a time line, so in a case of fridge brilliance, Carrie made a connection between the chronology and the chromatology, again words with a very similar mor\n",
      "Truncating  Brody   among other things: he sleeps on the floor to avoid assaulting his wife in his sleep, cowers in a corner of his bedroom all day after slipping into an  Angst Coma  and has  intimacy issues  due to his time as a POW.  to  Brody   among other things: he sleeps on the floor to avoid assaulting his wife in his sleep, cowers in a corner of his bedroom all day after slipping into an  Angst Coma  and has  intimacy issues  du\n",
      "Truncating  Or mutant sea monsters...  Also, HHTV's war correspondent invariably signs off with \"This is Mike Peabody, reporting for HHTV News live from [historical event],  really  wishing he were somewhere else...!  to  Or mutant sea monsters...  Also, HHTV's war correspondent invariably signs off with \"This is Mike Peabody, reporting for HHTV News live from [historical event],  really  wishing he were somewhere else\n",
      "Truncating    Sam goes back to his own time, realises the  Test Card F girl  was right all along, and takes a running jump off the roof of the police station while  Life On Mars  blares triumphantly in the background.  to    Sam goes back to his own time, realises the  Test Card F girl  was right all along, and takes a running jump off the roof of the police station while  Life On Mars  blares triumphantly in the backgr\n",
      "Truncating  \"    Which leads to a very dark  inversion  in the ending: when he gets back in 2007, he accidentally cuts himself during a meeting and realizes that he didn't feel it, leading to his decision to leave his 2007 life and go back to 1973.  to  \"    Which leads to a very dark  inversion  in the ending: when he gets back in 2007, he accidentally cuts himself during a meeting and realizes that he didn't feel it, leading to his decision to leav\n",
      "Truncating   /  Continuity Nod  : There are numerous subtle touches that make reference to previous events and imagery from previous episodes:  Pete's gun from \"Red in the Face\" reappears occasionally throughout the series, as if solely to remind the viewer that he still has it.  to   /  Continuity Nod  : There are numerous subtle touches that make reference to previous events and imagery from previous episodes:  Pete's gun from \"Red in the Face\" reappears occasionally throughout \n",
      "Truncating  He's still an entitled bully, as shown by his interactions with the black elevator operator, and his   borderline rape of his neighbor's Au Pair , but he actually shows guilt afterward and rapidly changes his behavior to his wife to prevent him from being a position to do that again.  to  He's still an entitled bully, as shown by his interactions with the black elevator operator, and his   borderline rape of his neighbor's Au Pair , but he actually shows guilt afterward and rapidly cha\n",
      "Truncating  While plenty of episodes are downers, Matthew Weiner seems to have an allergy to leaving the agency hanging at the end of the season; the prospects for Sterling Cooper and then SCDP are always looking up with the season finale.  to  While plenty of episodes are downers, Matthew Weiner seems to have an allergy to leaving the agency hanging at the end of the season; the prospects for Sterling Cooper and then SCDP are always looking\n",
      "Truncating  An earlier example in \"Ladies Room\" - Don is discussing the possibility of working on the Nixon campaign with Sterling and Cooper, and through the window to his office you can see a fireball as Cosgrove and some of the other guys in the office set a spray of the deodorant they're playing with aflame.  to  An earlier example in \"Ladies Room\" - Don is discussing the possibility of working on the Nixon campaign with Sterling and Cooper, and through the window to his office you can see a fireball as Cosgro\n",
      "Truncating  Don, how many times does   your  Martin Guerre  past have to be dragged out of you and how many anxiety attacks do you have to have because of it before you take Faye's advice and do something about it legally?  to  Don, how many times does   your  Martin Guerre  past have to be dragged out of you and how many anxiety attacks do you have to have because of it before you take Faye's advice and do something about i\n",
      "Truncating  One of the best examples of deconstructing the  Male Gaze  is the scene in \"Babylon\" where Joan bends over  very  slowly and knowingly in front of mirrored glass, displaying her, ah, assets for all the male execs to see.  to  One of the best examples of deconstructing the  Male Gaze  is the scene in \"Babylon\" where Joan bends over  very  slowly and knowingly in front of mirrored glass, displaying her, ah, assets for all th\n",
      "Truncating  More specifically, Matthew Weiner is interested in using the \"visual vocabulary\" of the early Sixties, which had the slightest tendency to over-shiny things, but on account of the realistic depiction, it provides a bit of dissonance.  to  More specifically, Matthew Weiner is interested in using the \"visual vocabulary\" of the early Sixties, which had the slightest tendency to over-shiny things, but on account of the realistic depiction,\n",
      "Truncating  The sarcastic \"equal opportunity employer\" ad in Season 5 premiere \"A Little Kiss\" basically forces lily-white SCDP to integrate, and in \"Tea Leaves\" Dawn the secretary has been hired as their first black employee.  to  The sarcastic \"equal opportunity employer\" ad in Season 5 premiere \"A Little Kiss\" basically forces lily-white SCDP to integrate, and in \"Tea Leaves\" Dawn the secretary has been hired as their first b\n",
      "Truncating  At the end of \"A Night to Remember\", after   Jimmy Barret confronts Don and Betty about Don's affair with his wife , Don and Betty are driving home, both obviously very upset, and Betty nervously upchucks all over the dash of Don's new Coupe DeVille.  to  At the end of \"A Night to Remember\", after   Jimmy Barret confronts Don and Betty about Don's affair with his wife , Don and Betty are driving home, both obviously very upset, and Betty nervously upch\n",
      "Truncating  The season 3 finale when   Don, Roger, Bert, and Lane conspire to leave and start their own agency after hearing that Sterling Cooper and Putnam, Powell,   Lowe was bought out by McCann Erickson (a real company, in case you're wondering).  to  The season 3 finale when   Don, Roger, Bert, and Lane conspire to leave and start their own agency after hearing that Sterling Cooper and Putnam, Powell,   Lowe was bought out by McCann Erickson (a re\n",
      "Truncating  The letter further comes back to haunt Don in Season 5's \"At the Codfish Ball\" when he receives an award for it, but simultaneously learns that   none of the corporate world's big fish want anything to do with SCDP because of that letter, as it showed Don is willing to publicly backstab even a longtime loyal client if they drop them .  to  The letter further comes back to haunt Don in Season 5's \"At the Codfish Ball\" when he receives an award for it, but simultaneously learns that   none of the corporate world's big fish want anything t\n",
      "Truncating  Early episodes show Peggy doing housework (even though it was established that she does a lousy job at it   especially  the cooking  part), Al initiating sex, and Kelly being of average intelligence (yet still getting poor grades in school).  to  Early episodes show Peggy doing housework (even though it was established that she does a lousy job at it   especially  the cooking  part), Al initiating sex, and Kelly being of average intelligence (\n",
      "Truncating  For all his tough-guy posturing, Ray-Ray (see  Older Hero Vs Younger Villain  and  Take a Third Option , below) hides behind the rest of his thugs and has them beat Al up with sheer numbers because he arguably knows he's not man enough to face up to Al in a real fight.  to  For all his tough-guy posturing, Ray-Ray (see  Older Hero Vs Younger Villain  and  Take a Third Option , below) hides behind the rest of his thugs and has them beat Al up with sheer numbers because he\n"
     ]
    },
    {
     "name": "stdout",
     "output_type": "stream",
     "text": [
      "Truncating  In the episode, \"You Better Shop Around\" Jerry Mathers (known for  Leave It To Beaver ) guest stars, playing himself as a washed-up former child star, who has resorted to judging shopping contests in supermarkets.  to  In the episode, \"You Better Shop Around\" Jerry Mathers (known for  Leave It To Beaver ) guest stars, playing himself as a washed-up former child star, who has resorted to judging shopping contests in \n",
      "Truncating  It's implied in several episodes that Kelly's promiscuity stems from being starved for attention and treated as the  Butt Monkey  in her own family (the episode where Al invents shoe-lights lampshaded this with Kelly's (who is being used as the guinea pig for shoe-lights) line: \"'Kelly, this meat is green.  to  It's implied in several episodes that Kelly's promiscuity stems from being starved for attention and treated as the  Butt Monkey  in her own family (the episode where Al invents shoe-lights lampshaded\n",
      "Truncating  At the end of the episode, Jefferson scares Al before playing it off as a large-scale hoax... until we hear on the still-playing television that the man who'd offered the reward had just died while watching a baseball game .  to  At the end of the episode, Jefferson scares Al before playing it off as a large-scale hoax... until we hear on the still-playing television that the man who'd offered the reward had just died while wa\n",
      "Truncating  Peg laughs it off by saying it's his  Porn Stash , but at the end of the episode it's revealed  it  was  a porn magazine... but more importantly,  a picture of his family looking happy  hidden in there.  to  Peg laughs it off by saying it's his  Porn Stash , but at the end of the episode it's revealed  it  was  a porn magazine... but more importantly,  a picture of his family looking happy  hidden in ther\n",
      "Truncating  What's really sad is that \"Top of the Heap\" is the 100th episodes and a lot of fans got mad that the 100th episode didn't focus on the Bundys (it had Al in it, but only at the beginning where he's trying to welsh out of his best friend's bet and at the end where  Al breaks in to his friend's apartment and steals back his television ).  to  What's really sad is that \"Top of the Heap\" is the 100th episodes and a lot of fans got mad that the 100th episode didn't focus on the Bundys (it had Al in it, but only at the beginning where he's try\n",
      "Truncating  So I get up, have my watered-down Tang and still-frozen Pop-Tart, get in my car with no upholstery, no gas, and six more payments to fight traffic just for the privilege of putting cheap shoes on the cloven hooves of people like you.  to  So I get up, have my watered-down Tang and still-frozen Pop-Tart, get in my car with no upholstery, no gas, and six more payments to fight traffic just for the privilege of putting cheap shoes on the \n",
      "Truncating  In addition, script supervisor Shelley Herman also worked on  Sesame Street  as assistant to the producer from 1973-1975, as did production executive Robert Braithwaite, who was  Sesame Street 's production supervisor from 1975-1976, in addition to being an associate producer for fellow CTW production  3-2-1 Contact .  to  In addition, script supervisor Shelley Herman also worked on  Sesame Street  as assistant to the producer from 1973-1975, as did production executive Robert Braithwaite, who was  Sesame Street 's prod\n",
      "Truncating  Not said, but invoked in imagery  la Sarah Connor at the end of  Terminator - the last scene of the first season is of   Nikita and Michael  discussing the potential future as they drive away, towards a gathering storm.  to  Not said, but invoked in imagery  la Sarah Connor at the end of  Terminator - the last scene of the first season is of   Nikita and Michael  discussing the potential future as they drive away, towards\n",
      "Truncating  In the same episode, we finally see Alex's earlier shown escape tunnel get used   by Nikita, who uses it to escape from Division following her breakout , after which Percy discovers it and has it sealed.  to  In the same episode, we finally see Alex's earlier shown escape tunnel get used   by Nikita, who uses it to escape from Division following her breakout , after which Percy discovers it and has it seal\n",
      "Truncating  In \"Pandora\", we find out that the nerve agent Jaden stole for Percy in \"Girl's Best Friend\" was   implanted in the fake Black Box he let Nikita steal, set to activate and kill the head of the CIA so that Percy can replace him .  to  In \"Pandora\", we find out that the nerve agent Jaden stole for Percy in \"Girl's Best Friend\" was   implanted in the fake Black Box he let Nikita steal, set to activate and kill the head of the CIA so \n",
      "Truncating  He  reveals  to Alex that he's known about Alex's true identity and her Michael, and Nikita's alliance against him since Kasim was killed, and shows her that Nikita was the one to  kill her father , turns back on her kill chip and forces her to kill Nikita, letting her know she's been monitored the entire time  Season 2 reveals that it's pretty much part of the job description.  to  He  reveals  to Alex that he's known about Alex's true identity and her Michael, and Nikita's alliance against him since Kasim was killed, and shows her that Nikita was the one to  kill her father , t\n",
      "Truncating  The episode \"Echoes\" (1x16) ends with a doozy of a cliffhanger -   while Percy and Amanda are discussing whether or not to \"cancel\" Alex, and Alex is thinking that it may be time to escape Division, the last scene shows Michael awaiting Nikita in her loft.  to  The episode \"Echoes\" (1x16) ends with a doozy of a cliffhanger -   while Percy and Amanda are discussing whether or not to \"cancel\" Alex, and Alex is thinking that it may be time to escape Division, t\n",
      "Truncating  Quite a few in \"All the Way\", for example, Birkhoff naming the Engineer as the one who helped him to   find a leak in Division's network  and Thom mentioning the Russian spy he had to kill to be promoted to field agent.  to  Quite a few in \"All the Way\", for example, Birkhoff naming the Engineer as the one who helped him to   find a leak in Division's network  and Thom mentioning the Russian spy he had to kill to be promo\n",
      "Truncating  In \"Fair Trade\", Birkhoff warns his   replacement  at Division that \"when they're done with you, they'll snap your neck and melt you in acid\", a reference to the Engineer's fate (though we only saw the former on screen).  to  In \"Fair Trade\", Birkhoff warns his   replacement  at Division that \"when they're done with you, they'll snap your neck and melt you in acid\", a reference to the Engineer's fate (though we only saw th\n",
      "Truncating  And the plot of \"Coup de Grace\" revolves around one of these: the attempt to assassinate the prince of Georgia and frame the Georgian president for it, in order to facilitate a coup by   the prince's wife .  to  And the plot of \"Coup de Grace\" revolves around one of these: the attempt to assassinate the prince of Georgia and frame the Georgian president for it, in order to facilitate a coup by   the prince's \n",
      "Truncating  The resulting mess   costs Percy his sole remaining Guardian (though Roan  might  have Guardian augmentation), Division several agents, Carla her life, and Team Nikita manages comes out on top, rescuing Ryan from Division.  to  The resulting mess   costs Percy his sole remaining Guardian (though Roan  might  have Guardian augmentation), Division several agents, Carla her life, and Team Nikita manages comes out on top, rescui\n",
      "Truncating  What Season 2 is shaping up to, with Nikita and company as the Good, Division/Oversight as the Bad, and Gogol/Zetrov as the Evil (though the latter two are pretty interchangeable),   especially now that Percy has recaptured Division from Amanda .  to  What Season 2 is shaping up to, with Nikita and company as the Good, Division/Oversight as the Bad, and Gogol/Zetrov as the Evil (though the latter two are pretty interchangeable),   especially now th\n",
      "Truncating  In \"Glass Houses\",  Jaden comes over to Alex's  place after honestly changing her (mutually) antagonistic attitude towards her after the mutual life risking they did for each other the previous episode, only to inadvertently learn of her double agent status and die in the ensuing fight.  to  In \"Glass Houses\",  Jaden comes over to Alex's  place after honestly changing her (mutually) antagonistic attitude towards her after the mutual life risking they did for each other the previous episod\n"
     ]
    },
    {
     "name": "stdout",
     "output_type": "stream",
     "text": [
      "Truncating  When this plan seemed no longer viable, Ari proposed to frame Semak for killing Alex, and stealing Gogol's operating budget in the ensuing chaos; while 300 million US dollars isn't a  Mega Corp , it's still an incredible amount of money for two people.  to  When this plan seemed no longer viable, Ari proposed to frame Semak for killing Alex, and stealing Gogol's operating budget in the ensuing chaos; while 300 million US dollars isn't a  Mega Corp , it's\n",
      "Truncating  All of Division's missions are named this way, but the most important is \"Operation Sparrow\", which is involved in the last several episodes of the first season, and is revealed in the finale to be   a ruse as part of a  Batman Gambit  to assassinate and replace the director of the CIA .  to  All of Division's missions are named this way, but the most important is \"Operation Sparrow\", which is involved in the last several episodes of the first season, and is revealed in the finale to be   \n",
      "Truncating  The final two minutes of 2.10 are immediately identifiable to  Alias  fans as either an homage or a blatant ripoff of the final two minutes of \"Almost Thirty Years\", right down to the    Not Quite Dead  mother of our heroine, and a shocked \"MOM?!  to  The final two minutes of 2.10 are immediately identifiable to  Alias  fans as either an homage or a blatant ripoff of the final two minutes of \"Almost Thirty Years\", right down to the    Not Quite Dea\n",
      "Truncating  The old Star Wars missile-defense sytem is mentioned, Percy's  Kill Sat  (dubbed the Death Star by Micheal) is called Crossbow (Like Chewie's bowcaster), Birkoff tells Nikita \"May the Force be with you\".  to  The old Star Wars missile-defense sytem is mentioned, Percy's  Kill Sat  (dubbed the Death Star by Micheal) is called Crossbow (Like Chewie's bowcaster), Birkoff tells Nikita \"May the Force be with yo\n",
      "Truncating   by revealing that Nikita was the one who killed her father; Michael's cover is blown and he's imprisoned in Division; the captured black box is revealed to the audience to be a  Trojan Horse  and part of Percy's move against the government; and the episode ends with Alex shooting Nikita .  to   by revealing that Nikita was the one who killed her father; Michael's cover is blown and he's imprisoned in Division; the captured black box is revealed to the audience to be a  Trojan Horse  and par\n",
      "Truncating  Paint the image of Victor's face into a pub sign with \"The Pain in the Arse\" written where the pub's name would normally go, then erect the sign on a flagpole outside the Meldrews' house in the early hours of the morning .  to  Paint the image of Victor's face into a pub sign with \"The Pain in the Arse\" written where the pub's name would normally go, then erect the sign on a flagpole outside the Meldrews' house in the early \n",
      "Truncating  Patrick seems to get away with this, since Margaret still believes the situation is Victor's own fault... until  Pippa unknowingly gives Victor a copy of Patrick's diary, in which he gloats about what he's been doing .  to  Patrick seems to get away with this, since Margaret still believes the situation is Victor's own fault... until  Pippa unknowingly gives Victor a copy of Patrick's diary, in which he gloats about what\n",
      "Truncating  Margaret despite often acting as the  more sensible and sociable of the couple  can often prove to be just as bad tempered and oddball as Victor (and is far more likely to  vent it out on her spouse than vice versa ).  to  Margaret despite often acting as the  more sensible and sociable of the couple  can often prove to be just as bad tempered and oddball as Victor (and is far more likely to  vent it out on her spouse t\n",
      "Truncating     The Meldrews had to move house in the first series 2 episode, due to the owners of the real-life house which had stood in for the Meldrews' house in the location scenes of series 1 wanting too much money to allow the BBC to keep on using it.  to     The Meldrews had to move house in the first series 2 episode, due to the owners of the real-life house which had stood in for the Meldrews' house in the location scenes of series 1 wanting too much\n",
      "Truncating  It later turns out that  the \"cot\" in question is actually a  cow , and a hint as to how the mix-up occurred is given with the accompanying delivery letter, which spells Margaret's name as \"Nargaret Medlrew.  to  It later turns out that  the \"cot\" in question is actually a  cow , and a hint as to how the mix-up occurred is given with the accompanying delivery letter, which spells Margaret's name as \"Nargaret M\n",
      "Truncating  \"  A  literal  example of this trope happens in \"Warm Champagne\"   the street the Meldrews live on after the first series is called Riverbank, and when a nearby old people's estate called River s bank opens it causes no end of confusion, eventually cumulating in one of the residents of Riversbank being mistakenly dropped off at Victor's house and put into the bed.  to  \"  A  literal  example of this trope happens in \"Warm Champagne\"   the street the Meldrews live on after the first series is called Riverbank, and when a nearby old people's estate called River s bank\n",
      "Truncating  The writer, David Renwick, seemed to delight in putting him through bizarre situations at least once an episode (ranging from the next-door neighbour installing a door in his fence to facilitate a nice chat to having to deal with an old lady's suicide), so it's not surprising he was so disgruntled.  to  The writer, David Renwick, seemed to delight in putting him through bizarre situations at least once an episode (ranging from the next-door neighbour installing a door in his fence to facilitate a nic\n",
      "Truncating  The sequel,  Going Straight , depicting Fletcher's life after his release, was also popular (though less so) and won a BAFTA but was limited to one series by  actor Richard Beckinsale's very untimely death .  to  The sequel,  Going Straight , depicting Fletcher's life after his release, was also popular (though less so) and won a BAFTA but was limited to one series by  actor Richard Beckinsale's very untimely \n",
      "Truncating  Originally written as a  dramedy , with Steele intended to be a comic-relief figurehead while the focus was on Laura, but Brosnan's charisma and the chemistry between him and Zimbalist took over the plots.  to  Originally written as a  dramedy , with Steele intended to be a comic-relief figurehead while the focus was on Laura, but Brosnan's charisma and the chemistry between him and Zimbalist took over the p\n",
      "Truncating  One episode actually used this practice as a major plot pointThe killer du jour had used a co-worker as an alibi, noting that the two had watched a classic TV show together at the time of the murder (unbeknownst to the co-worker, the culprit had  used a VCR and reset the clocks ; but it turned out that  due to syndication, the scene the two had watched together had been cut .  to  One episode actually used this practice as a major plot pointThe killer du jour had used a co-worker as an alibi, noting that the two had watched a classic TV show together at the time of the murder (\n",
      "Truncating  \"  Nicely played with in \"You're Steele the One for Me,\" where the expectation of a punny title (and the broken English in which the phrase is said in the episode) make the audience believe it's a pun for \"you're still the one for me,\" but it's actually meant literally, as in, \"you're Remington Steele, the person I'm trying to reach.  to  \"  Nicely played with in \"You're Steele the One for Me,\" where the expectation of a punny title (and the broken English in which the phrase is said in the episode) make the audience believe it's a pun\n",
      "Truncating  Averted; chainsaws were one of the least effective weapons seen on Robot Wars, even House Robot Matilda ditched hers after Series 4 (the new spinning disc was designed to be interchangable with the chainsaw, but the chainsaw was never used again).  to  Averted; chainsaws were one of the least effective weapons seen on Robot Wars, even House Robot Matilda ditched hers after Series 4 (the new spinning disc was designed to be interchangable with the ch\n",
      "Truncating  Terrorhurtz was a double-subversion; in its first Wars it failed to do any better than Killerhurtz despite the look, won only one battle (and that was because a house robot interfered) and only in the Sixth Wars did it really get going.  to  Terrorhurtz was a double-subversion; in its first Wars it failed to do any better than Killerhurtz despite the look, won only one battle (and that was because a house robot interfered) and only in the\n"
     ]
    },
    {
     "name": "stdout",
     "output_type": "stream",
     "text": [
      "Truncating  Elizabeth Berkley (\"Jessie\") was somewhat of a borderline case, as she was 17 when her character was introduced, pushing her to around 20-21 by the time the series wrapped (playing a high-school senior).  to  Elizabeth Berkley (\"Jessie\") was somewhat of a borderline case, as she was 17 when her character was introduced, pushing her to around 20-21 by the time the series wrapped (playing a high-school senio\n",
      "Truncating  As a result, the character of Tori was hastily created to fill in the roles left by the absence of the two aforementioned characters, and especially in the case of Kaposwki's absence,   serve as a love interest for Zack Morris.  to  As a result, the character of Tori was hastily created to fill in the roles left by the absence of the two aforementioned characters, and especially in the case of Kaposwki's absence,   serve as a lov\n",
      "Truncating  The Tori episodes were filmed after the series finale and the made-for-TV movie that were supposed to wrap up the plot of the series, but were inserted into the middle of the season, as their storylines take place at the high school, in the usual canon of the series.  to  The Tori episodes were filmed after the series finale and the made-for-TV movie that were supposed to wrap up the plot of the series, but were inserted into the middle of the season, as their storylin\n",
      "Truncating  This has lead to a series of gigantic plot holes that fans call the \"Tori Paradox\": Out of nowhere, Jessie and Kelly unexplainably disappear; Tori starts as a new student at the school and instantly befriends the main cast, who are carrying on as if Jessie and Kelly never existed; She is established as some kind of hybrid of Jessie and Kelly, thus she is beautiful and athletic while being smart, snarky and feminist;   Zack begins a romantic relationship with her with absolutely no mention of his relationship with Kelly and showing no remorse for the fact that he is potentially cheating on her with Tori ;   Zack and Tori break up  and all of a sudden, she is gone with no explanation of her fate; Jessie and Kelly reappear and everything reverts back to how it was before Tori appeared,   Zack and Kelly get engaged and everyone graduates  with no mention of Tori whatsoever, as if she was never there in the first place.  to  This has lead to a series of gigantic plot holes that fans call the \"Tori Paradox\": Out of nowhere, Jessie and Kelly unexplainably disappear; Tori starts as a new student at the school and instantly b\n",
      "Truncating  Jerry was the technical  Only Sane Man  between these colorful personalities, but a highly ineffective one because, like his friends, he is supremely indifferent towards others, opting instead for the role of  Deadpan Snarker  extraordinaire.  to  Jerry was the technical  Only Sane Man  between these colorful personalities, but a highly ineffective one because, like his friends, he is supremely indifferent towards others, opting instead for the\n",
      "Truncating  Susan's father apparently once had a torrid love affair with author John Cheever and late in season 4 Susan is seen dating another woman, although in her case it's implied that it's a result of dating George, since at the end of the episode she starts dating the woman George dated after her.  to  Susan's father apparently once had a torrid love affair with author John Cheever and late in season 4 Susan is seen dating another woman, although in her case it's implied that it's a result of dating\n",
      "Truncating  Bay and Emmett having a huge spat about Emmett's living arrangements...which happens at the same time that Toby and Simone have a spat about Simone's trustworthiness, leading to  Emmett and Simone sleeping together.  to  Bay and Emmett having a huge spat about Emmett's living arrangements...which happens at the same time that Toby and Simone have a spat about Simone's trustworthiness, leading to  Emmett and Simone sle\n",
      "Truncating    Emmett  turns out to have a surprisingly deep voice for a teenager, although that also can have something to do with him being deaf the deeper your voice goes, the easier it is to feel the vibrations and know you're making sound.  to    Emmett  turns out to have a surprisingly deep voice for a teenager, although that also can have something to do with him being deaf the deeper your voice goes, the easier it is to feel the vibration\n",
      "Truncating  Supporting actors included Don Knotts as Deputy Barney Fife;   Ron  Ronny Howard (pre- Happy Days ) as Andy's son, Opie; Frances Bavier as Andy's Aunt Bee Taylor, and George Lindsey and Jim Nabors as the Pyle cousins, Goober and Gomer Pyle.  to  Supporting actors included Don Knotts as Deputy Barney Fife;   Ron  Ronny Howard (pre- Happy Days ) as Andy's son, Opie; Frances Bavier as Andy's Aunt Bee Taylor, and George Lindsey and Jim Nabors as \n",
      "Truncating  Along with each animal on the countdown, the program presents a computer graphics segment which compares the animal's ability with something equivalent in humans by computer animation in green (in the short-lived half-hour mode, blue) also color of both logos, followed by an interview segment with people who share some common trait.  to  Along with each animal on the countdown, the program presents a computer graphics segment which compares the animal's ability with something equivalent in humans by computer animation in green (in the\n",
      "Truncating  A more appropriate anscestor for the Komodo dragon would be the mosasaur, a sea-going lizard that lived around the same time as the last dinosaurs and are thought to be distantly related to modern-day monitor lizards.  to  A more appropriate anscestor for the Komodo dragon would be the mosasaur, a sea-going lizard that lived around the same time as the last dinosaurs and are thought to be distantly related to modern-day\n",
      "Truncating  Talented artist/receptionist Dawn wanting to be an artist, but stuck working a dead-end job with a deadbeat lover who constantly belittles her talent, because he doesn't want her to give up the paycheck that supports the two.  to  Talented artist/receptionist Dawn wanting to be an artist, but stuck working a dead-end job with a deadbeat lover who constantly belittles her talent, because he doesn't want her to give up the payche\n",
      "Truncating  Current showrunner Paul Lieberstein has admitted that Jim's  demotion back to Assistant Regional Manager, after being promoted half a season earlier  was a result of poor audience response to the change and Dwight's resulting plot to  seriously get him fired .  to  Current showrunner Paul Lieberstein has admitted that Jim's  demotion back to Assistant Regional Manager, after being promoted half a season earlier  was a result of poor audience response to the chan\n",
      "Truncating  First, Dwight wears a ridiculous  Three Wolves Howling at the Moon t-shirt  that became an Amazon.com legend for the hilarious fake reviews, and second, the wedding itself, which took after  the YouTube video with the bridal party dancing down the aisle.  to  First, Dwight wears a ridiculous  Three Wolves Howling at the Moon t-shirt  that became an Amazon.com legend for the hilarious fake reviews, and second, the wedding itself, which took after  the YouTu\n",
      "Truncating  \" So apparently you can pretend to fire her, make fun of her behind her back, and smuggle a flock of geese into her car, but tell her that her boyfriend used to date another co-worker and you're  deader than dead .  to  \" So apparently you can pretend to fire her, make fun of her behind her back, and smuggle a flock of geese into her car, but tell her that her boyfriend used to date another co-worker and you're  dead\n",
      "Truncating  Averted in the season 7 Halloween special with Oscar complaining that the coupon book prize was stupid but   he was the one to win the 15000 dollar coupon book after saying it costs more to get all the things in it .  to  Averted in the season 7 Halloween special with Oscar complaining that the coupon book prize was stupid but   he was the one to win the 15000 dollar coupon book after saying it costs more to get all th\n",
      "Truncating  It's the only possible explanation for why Michael was never fired (or arrested); although he is known to be an extremely good salesman (and in one episode, it's alluded to that he was in fact one of the most successful salesmen in the company's history), his management skills are... inferior.  to  It's the only possible explanation for why Michael was never fired (or arrested); although he is known to be an extremely good salesman (and in one episode, it's alluded to that he was in fact one of \n"
     ]
    },
    {
     "name": "stdout",
     "output_type": "stream",
     "text": [
      "Truncating  Dwight, who manages a one night stand with one of Pam's friends at  her and Jim's wedding  and handles it with a level of expertise that suggests experience in the field   and when Pam's friend approaches Dwight at the wedding, he's doing well while chatting with another girl .  to  Dwight, who manages a one night stand with one of Pam's friends at  her and Jim's wedding  and handles it with a level of expertise that suggests experience in the field   and when Pam's friend approa\n",
      "Truncating  And on Take Your Daughter to Work Day, where he talks to the camera about how he has to make sure none of the young girls see the porn on his computer, then realizes they could be doing that right now.  to  And on Take Your Daughter to Work Day, where he talks to the camera about how he has to make sure none of the young girls see the porn on his computer, then realizes they could be doing that right now\n",
      "Truncating  When Dwight becomes acting manager he forces everyone to use an antiquated and dangerous punch clock, staggers their lunches so everyone eats alone, changes everyone's title to Junior Employee and has everyone enter a twenty one digit code everytime they use the photocopier.  to  When Dwight becomes acting manager he forces everyone to use an antiquated and dangerous punch clock, staggers their lunches so everyone eats alone, changes everyone's title to Junior Employee and has\n",
      "Truncating  If it's possible to take a straight example even further, Ry ji almost punching out the chief in #4, treated merely as a  Hot Blooded   Sh nen  staple, carries even more serious implications in #5  with the reveal of his  Superpowered   Ax Crazy side .  to  If it's possible to take a straight example even further, Ry ji almost punching out the chief in #4, treated merely as a  Hot Blooded   Sh nen  staple, carries even more serious implications in #5  wi\n",
      "Truncating  Lennartsson with Lucci, because 'Lucci' seems to have the mentality of a bloodcrazed megalomaniac , speaking in nonsensical gibbers  which only Lennartsson understands   things like \"Sunder and rule\",  and so, it seems he's the main inspiration behind Lennartsson's dedication to turn the Professor and the Count against each other so he can rule the galaxy alone .  to  Lennartsson with Lucci, because 'Lucci' seems to have the mentality of a bloodcrazed megalomaniac , speaking in nonsensical gibbers  which only Lennartsson understands   things like \"Sunder and rule\",\n",
      "Truncating  At the end of \"Secrets of the Father\": \"The\" D'Artagnan:  I ordered you confined to the garrison... and you disobeyed my orders yet again, knowing it would assure your expulsion from the Musketeers... and ( beat ) you saved my life.  to  At the end of \"Secrets of the Father\": \"The\" D'Artagnan:  I ordered you confined to the garrison... and you disobeyed my orders yet again, knowing it would assure your expulsion from the Musketeers...\n",
      "Truncating   \"The Invincible Sword\"  ends with  Jacqueline's experience with the  Evil Weapon  being  All Just a Dream , then reveals that  the sword wielder is actually an escaped mental patient and the sword is, presumably, neither magic nor evil.  to   \"The Invincible Sword\"  ends with  Jacqueline's experience with the  Evil Weapon  being  All Just a Dream , then reveals that  the sword wielder is actually an escaped mental patient and the sword is\n",
      "Finishes vectorize_X_dependency\n",
      "(1066, 500)\n",
      "Accuracy: 0.548\n",
      "             precision    recall  f1-score   support\n",
      "\n",
      "      False      0.519     0.395     0.449       496\n",
      "       True      0.564     0.681     0.617       570\n",
      "\n",
      "avg / total      0.543     0.548     0.539      1066\n",
      "\n"
     ]
    },
    {
     "data": {
      "text/plain": [
       "0.532682366038134"
      ]
     },
     "execution_count": 23,
     "metadata": {},
     "output_type": "execute_result"
    }
   ],
   "source": [
    "experiment(stemmed_phi, fit_svc, train, dev1, should_parse=True)"
   ]
  },
  {
   "cell_type": "code",
   "execution_count": null,
   "metadata": {},
   "outputs": [
    {
     "name": "stdout",
     "output_type": "stream",
     "text": [
      "In train!\n",
      "Gets to vectorizer\n",
      "Finishes vectorize_X_dependency\n"
     ]
    },
    {
     "name": "stderr",
     "output_type": "stream",
     "text": [
      "/anaconda2/envs/nlu/lib/python3.6/site-packages/sklearn/decomposition/online_lda.py:536: DeprecationWarning: The default value for 'learning_method' will be changed from 'online' to 'batch' in the release 0.20. This warning was introduced in 0.18.\n",
      "  DeprecationWarning)\n"
     ]
    },
    {
     "name": "stdout",
     "output_type": "stream",
     "text": [
      "(11970, 1000)\n",
      "1000\n",
      "Not in train!\n",
      "Truncating  There was also a comic book adaptation which tended to play down the sitcom aspects in favor of giving him strange technological toys; it seemed more inspired by the  Animated Adaptation  than the original sitcom and would in fact often include stories set on Melmac, usually with the framing story of Alf telling the Tanners of life on his home planet.  to  There was also a comic book adaptation which tended to play down the sitcom aspects in favor of giving him strange technological toys; it seemed more inspired by the  Animated Adaptation  than the ori\n",
      "Truncating  Jay Mariotti was a regular panelist since the show's beginning, but he  hasn't appeared  since his  August 2010 domestic violence arrest , and ESPN has made it clear they aren't really interested in bringing him back.  to  Jay Mariotti was a regular panelist since the show's beginning, but he  hasn't appeared  since his  August 2010 domestic violence arrest , and ESPN has made it clear they aren't really interested in b\n",
      "Truncating  He points out that really what he wants is to   make George suffer in payback for him ripping Herrick limb from limb in Series 1  but invokes this trope as the reason he's going to spare her and promptly leaves.  to  He points out that really what he wants is to   make George suffer in payback for him ripping Herrick limb from limb in Series 1  but invokes this trope as the reason he's going to spare her and promp\n",
      "Truncating  Perhaps a better example would be the fact that there are currently two seemingly-unconnected parties out to kill Eve: the Old Ones, as represented by Cutler and Fergus since they're not in the country yet, who want to destroy the girl prophesied to kill them all, and an unidentified woman from the future, represented by   Kirby  since she's apparently stuck in the afterlife, who knows something no-one else does which means the baby has to die.  to  Perhaps a better example would be the fact that there are currently two seemingly-unconnected parties out to kill Eve: the Old Ones, as represented by Cutler and Fergus since they're not in the countr\n",
      "Truncating    Tully (revealed to have been killed in Professor Jaggat's experiments) and Daisy (revealed to have been killed by McNair)    Nina in between Series 3 and 4, killed by vampires , as well as Wyndham, apparently killed in revenge by   George .  to    Tully (revealed to have been killed in Professor Jaggat's experiments) and Daisy (revealed to have been killed by McNair)    Nina in between Series 3 and 4, killed by vampires , as well as Wyndham, \n",
      "Truncating  You'll be alive enough to feel pain, but dead enough to survive without your major organs,   which lead humans to dissect the first Type 4s, and later incinerate them as a biohazard, while they were still conscious.  to  You'll be alive enough to feel pain, but dead enough to survive without your major organs,   which lead humans to dissect the first Type 4s, and later incinerate them as a biohazard, while they were s\n",
      "Truncating  You're trapped in your body for several weeks after 'death,' until it decays enough that it simply can't sustain your soul any more, during which time it can't recover from any injuries you sustain, and  you can feel yourself decomposing on the inside.  to  You're trapped in your body for several weeks after 'death,' until it decays enough that it simply can't sustain your soul any more, during which time it can't recover from any injuries you sustain, a\n",
      "Truncating  One of  Mitchell's  strategies for trying to get   George to stake him is to try to convince him their friendship was a lie and he found George pathetic, but George knew he was doing this trope, and Mitchell didn't have the heart to keep up the act.  to  One of  Mitchell's  strategies for trying to get   George to stake him is to try to convince him their friendship was a lie and he found George pathetic, but George knew he was doing this trope, and M\n",
      "Truncating    George killing Herrick  may have resolved one problem but as it turns out in series 2 the repercussions involve    a power vacuum in the vampire lot , the loss of a system which kept the supernatural existence under wraps, and George becoming notorious enough to be targeted by vampires loyal to Herrick.  to    George killing Herrick  may have resolved one problem but as it turns out in series 2 the repercussions involve    a power vacuum in the vampire lot , the loss of a system which kept the supernatura\n",
      "Truncating  However it then leads to   Nancy getting Mitchell arrested and the whole masquerade of the supernatural existing is about to break , and even worse,   Herrick wiped out the remaining police in the house and he got his memory back .  to  However it then leads to   Nancy getting Mitchell arrested and the whole masquerade of the supernatural existing is about to break , and even worse,   Herrick wiped out the remaining police in the hou\n",
      "Truncating  Werewolves do carry some latent effects even while in human form, such as sharper senses leading up to and just after a full moon, and rapid (or at least, rapid er ) healing, in evidence after   Nina gets stabbed by Herrick .  to  Werewolves do carry some latent effects even while in human form, such as sharper senses leading up to and just after a full moon, and rapid (or at least, rapid er ) healing, in evidence after   Nina \n",
      "Truncating  With extreme effort, it is possible for a werewolf to partially change without the full moon,   though this does not heal away the damage they suffer in the transformation, so the werewolf will die of multiple organ failure in minutes .  to  With extreme effort, it is possible for a werewolf to partially change without the full moon,   though this does not heal away the damage they suffer in the transformation, so the werewolf will die of\n",
      "Truncating  Nina doesn't talk to George or Mitchell about  Mitchell being responsible for the Box Tunnel 20 , and Mitchell doesn't tell his best friend or his girlfriend about the prophecy he got from Lia  about the wolf-shaped bullet , despite the fact that he has proven time and time again he completely trusts George.  to  Nina doesn't talk to George or Mitchell about  Mitchell being responsible for the Box Tunnel 20 , and Mitchell doesn't tell his best friend or his girlfriend about the prophecy he got from Lia  about \n",
      "Truncating  The entire plot-line that ended with  Mitchell's death  was originally conceived when  Aidan Turner  was cast in  The Hobbit  and the producers knew that they were about to lose him to Hollywood, but they still wanted to give him a good send-off.  to  The entire plot-line that ended with  Mitchell's death  was originally conceived when  Aidan Turner  was cast in  The Hobbit  and the producers knew that they were about to lose him to Hollywood, but \n",
      "Truncating  :  Episode 21, \"Though the Heavens Fall\" involves   the death of McNair, \"Uncle Billy\" turning back into Herrick, Nancy discovering the existence of vampires and being killed, Annie committing murder and learning the truth about Mitchell, Mitchell being arrested, the police discovering his vampirism after he fails to show up in a photo and his fingerprints match a set on file from decades before, and the pregnant Nina being (possibly fatally) stabbed in the abdomen .  to  :  Episode 21, \"Though the Heavens Fall\" involves   the death of McNair, \"Uncle Billy\" turning back into Herrick, Nancy discovering the existence of vampires and being killed, Annie committing murder \n",
      "Truncating  George and Nina's baby is   prophesised to bring an end to the vampire race, Nina is revealed to have been murdered by vampires, it's shown vampires have basically taken over the world by 2039, and most of all  George dies  in a heroic sacrifice.  to  George and Nina's baby is   prophesised to bring an end to the vampire race, Nina is revealed to have been murdered by vampires, it's shown vampires have basically taken over the world by 2039, and mo\n",
      "Truncating  The metaphors become especially prevalent during season 2, when Mitchell begins a blood addicts support group, George   accidentally infects his girlfriend , and Annie, so long invisible to normal people, becomes giddy at the prospect of working at the pub down the street.  to  The metaphors become especially prevalent during season 2, when Mitchell begins a blood addicts support group, George   accidentally infects his girlfriend , and Annie, so long invisible to normal peo\n"
     ]
    },
    {
     "name": "stdout",
     "output_type": "stream",
     "text": [
      "Truncating  They are openly hostile to each other, the former being a \"Communist\" who claims the director his natural enemy  because of their opposite political leanings , but actually they are always making secret agreements and plotting together against the other workers for their own personal profit.  to  They are openly hostile to each other, the former being a \"Communist\" who claims the director his natural enemy  because of their opposite political leanings , but actually they are always making secr\n",
      "Truncating  Mostly noticeable in a sketch beginning with Luca screws up and gets tea instead of coffee; instead of simply throwing it away, he tries to give it to someone else *  (the former would be a solution, but  his strong Communist beliefs keep him from \"wasting\" tea, as it would be \"an instance of Capitalism\" )]].  to  Mostly noticeable in a sketch beginning with Luca screws up and gets tea instead of coffee; instead of simply throwing it away, he tries to give it to someone else *  (the former would be a solution, \n",
      "Truncating    Officer Gilbert's excuse for wanting to keep Drake and Josh from satisfying Mary Alice and her foster family is due to an incident he had when he got a monkey for Christmas like he wanted, but then it destroyed their tree and presents and escaped.  to    Officer Gilbert's excuse for wanting to keep Drake and Josh from satisfying Mary Alice and her foster family is due to an incident he had when he got a monkey for Christmas like he wanted, but then \n",
      "Truncating  Each episode opens with a minute-long  No Fourth Wall  skit of Drake and Josh conversing with the audience in separate locations of their residence, which may or may not be related to the main plot of the episode.  to  Each episode opens with a minute-long  No Fourth Wall  skit of Drake and Josh conversing with the audience in separate locations of their residence, which may or may not be related to the main plot of\n",
      "Truncating  Pilsook has one due to her chances of being in the student showcase getting dashed because she's a member of the special admissions class, her diet not working out, and finding out Jason is ususally nice to everyone, not just her.  to  Pilsook has one due to her chances of being in the student showcase getting dashed because she's a member of the special admissions class, her diet not working out, and finding out Jason is ususally n\n",
      "Truncating  :  Hyemi experiences one in which her life spirals downwards until she and her sister are living in cardboard boxes on the street and  her sister dies  because she refused to play along with Samdong on the talent search program and thus failed to bring him to Kirin.  to  :  Hyemi experiences one in which her life spirals downwards until she and her sister are living in cardboard boxes on the street and  her sister dies  because she refused to play along with Samdong o\n",
      "Truncating  However, when Reagan started downsizing and he lost his job, Kill Moves spiraled downward on a path of paranoia and schizophrenia and wandered the streets until  Gazoo   told him that he'd only find true happiness by living in a box.  to  However, when Reagan started downsizing and he lost his job, Kill Moves spiraled downward on a path of paranoia and schizophrenia and wandered the streets until  Gazoo   told him that he'd only find t\n",
      "Truncating  For some reason , none of them mention the more obvious possibility that the art stores are untouched because there's no point in booby-trapping locations of no strategic importance - the aliens may have art, but pretty pictures are not exactly a vital resource in war, so there's no reason to spend effort denying them to the enemy.  to  For some reason , none of them mention the more obvious possibility that the art stores are untouched because there's no point in booby-trapping locations of no strategic importance - the aliens may h\n",
      "Truncating  Mike, who   screws up the kid retrieval mission by acting like a panicky idiot, leading to the capture of a squadmate, and the slaying of a bunch of children  and then tries to make an alien speak  by sticking a gun in it's mouth .  to  Mike, who   screws up the kid retrieval mission by acting like a panicky idiot, leading to the capture of a squadmate, and the slaying of a bunch of children  and then tries to make an alien speak  by\n",
      "Truncating  A good number of fans actually believed Henry Winkler actually possessed Fonzie's  Rule Of Cool  powers, begging him to do things for them that ranged from  banging on a car's hood to make it work  to quieting all the animals in a zoo.  to  A good number of fans actually believed Henry Winkler actually possessed Fonzie's  Rule Of Cool  powers, begging him to do things for them that ranged from  banging on a car's hood to make it work  to\n",
      "Truncating  It returned with a vengeance in Season 8; firstly the red team had to eat a meal featuring the grossest seafood imaginable (although Gail wasn't actually disgusted at all by the seafood, which she commonly ate when she was younger), and then a few episodes later they had to eat a plate full of flowers  filled with insects .  to  It returned with a vengeance in Season 8; firstly the red team had to eat a meal featuring the grossest seafood imaginable (although Gail wasn't actually disgusted at all by the seafood, which she com\n",
      "Truncating  One service during season six got so bad that Ramsay actually just sort of stopped bothering, and wandered out of the kitchen and out of the restaurant, to walk around on the street saying over and over to a sous chef and the camera crew that he couldn't believe it had gotten so terrible.  to  One service during season six got so bad that Ramsay actually just sort of stopped bothering, and wandered out of the kitchen and out of the restaurant, to walk around on the street saying over and ov\n",
      "Truncating  When Jennifer was eliminated (the two never got along to begin with), Elise mouthed off about how much of a better chef than she was, causing Jennifer to  curse Elise out and flip her off when she walked off .  to  When Jennifer was eliminated (the two never got along to begin with), Elise mouthed off about how much of a better chef than she was, causing Jennifer to  curse Elise out and flip her off when she wal\n",
      "Truncating  Sure, he was rude to Danny on occasion, but that was mainly   because Danny called himself a better cook than Ben and even called him the worst cook of the remaining members of the blue team at one point, so it's natural that he'd feel at least a little insulted by that.  to  Sure, he was rude to Danny on occasion, but that was mainly   because Danny called himself a better cook than Ben and even called him the worst cook of the remaining members of the blue team at one po\n",
      "Truncating  His heart of gold comes through when   he puts their differences aside and tries his best to help Danny win the last dinner service rather than being apathetic about the whole thing like Lacey or Giovanni.  to  His heart of gold comes through when   he puts their differences aside and tries his best to help Danny win the last dinner service rather than being apathetic about the whole thing like Lacey or Giov\n",
      "Truncating  She inexplicably started doing a lot better for a couple episodes after   she was switched from the red team to the blue team and the blue team actually started  winning  with her , but then went back to being terrible shortly thereafter.  to  She inexplicably started doing a lot better for a couple episodes after   she was switched from the red team to the blue team and the blue team actually started  winning  with her , but then went back\n",
      "Truncating  Will, on the other hand, ended up with Krupa as his final pick to ensure that Carrie would be on Paul's team, and Krupa was spectacularly awful in the service that followed, almost single-handedly destroying any chance Will had of winning .  to  Will, on the other hand, ended up with Krupa as his final pick to ensure that Carrie would be on Paul's team, and Krupa was spectacularly awful in the service that followed, almost single-handedly des\n",
      "Truncating  Ridiculously averted by season 9's   Elise , who has made it to the final 4 despite being a contestant more manipulative, conniving, and not to mention WORTHLESS than someone on Survivor or Big Brother.  to  Ridiculously averted by season 9's   Elise , who has made it to the final 4 despite being a contestant more manipulative, conniving, and not to mention WORTHLESS than someone on Survivor or Big Brothe\n"
     ]
    },
    {
     "name": "stdout",
     "output_type": "stream",
     "text": [
      "Truncating  When arranged as a colour spectrum, this forms a time line, so in a case of fridge brilliance, Carrie made a connection between the chronology and the chromatology, again words with a very similar morphology.  to  When arranged as a colour spectrum, this forms a time line, so in a case of fridge brilliance, Carrie made a connection between the chronology and the chromatology, again words with a very similar mor\n",
      "Truncating  Brody   among other things: he sleeps on the floor to avoid assaulting his wife in his sleep, cowers in a corner of his bedroom all day after slipping into an  Angst Coma  and has  intimacy issues  due to his time as a POW.  to  Brody   among other things: he sleeps on the floor to avoid assaulting his wife in his sleep, cowers in a corner of his bedroom all day after slipping into an  Angst Coma  and has  intimacy issues  du\n",
      "Truncating  Or mutant sea monsters...  Also, HHTV's war correspondent invariably signs off with \"This is Mike Peabody, reporting for HHTV News live from [historical event],  really  wishing he were somewhere else...!  to  Or mutant sea monsters...  Also, HHTV's war correspondent invariably signs off with \"This is Mike Peabody, reporting for HHTV News live from [historical event],  really  wishing he were somewhere else\n",
      "Truncating    Sam goes back to his own time, realises the  Test Card F girl  was right all along, and takes a running jump off the roof of the police station while  Life On Mars  blares triumphantly in the background.  to    Sam goes back to his own time, realises the  Test Card F girl  was right all along, and takes a running jump off the roof of the police station while  Life On Mars  blares triumphantly in the backgr\n",
      "Truncating  \"    Which leads to a very dark  inversion  in the ending: when he gets back in 2007, he accidentally cuts himself during a meeting and realizes that he didn't feel it, leading to his decision to leave his 2007 life and go back to 1973.  to  \"    Which leads to a very dark  inversion  in the ending: when he gets back in 2007, he accidentally cuts himself during a meeting and realizes that he didn't feel it, leading to his decision to leav\n",
      "Truncating   /  Continuity Nod  : There are numerous subtle touches that make reference to previous events and imagery from previous episodes:  Pete's gun from \"Red in the Face\" reappears occasionally throughout the series, as if solely to remind the viewer that he still has it.  to   /  Continuity Nod  : There are numerous subtle touches that make reference to previous events and imagery from previous episodes:  Pete's gun from \"Red in the Face\" reappears occasionally throughout \n",
      "Truncating  He's still an entitled bully, as shown by his interactions with the black elevator operator, and his   borderline rape of his neighbor's Au Pair , but he actually shows guilt afterward and rapidly changes his behavior to his wife to prevent him from being a position to do that again.  to  He's still an entitled bully, as shown by his interactions with the black elevator operator, and his   borderline rape of his neighbor's Au Pair , but he actually shows guilt afterward and rapidly cha\n",
      "Truncating  While plenty of episodes are downers, Matthew Weiner seems to have an allergy to leaving the agency hanging at the end of the season; the prospects for Sterling Cooper and then SCDP are always looking up with the season finale.  to  While plenty of episodes are downers, Matthew Weiner seems to have an allergy to leaving the agency hanging at the end of the season; the prospects for Sterling Cooper and then SCDP are always looking\n",
      "Truncating  An earlier example in \"Ladies Room\" - Don is discussing the possibility of working on the Nixon campaign with Sterling and Cooper, and through the window to his office you can see a fireball as Cosgrove and some of the other guys in the office set a spray of the deodorant they're playing with aflame.  to  An earlier example in \"Ladies Room\" - Don is discussing the possibility of working on the Nixon campaign with Sterling and Cooper, and through the window to his office you can see a fireball as Cosgro\n",
      "Truncating  Don, how many times does   your  Martin Guerre  past have to be dragged out of you and how many anxiety attacks do you have to have because of it before you take Faye's advice and do something about it legally?  to  Don, how many times does   your  Martin Guerre  past have to be dragged out of you and how many anxiety attacks do you have to have because of it before you take Faye's advice and do something about i\n",
      "Truncating  One of the best examples of deconstructing the  Male Gaze  is the scene in \"Babylon\" where Joan bends over  very  slowly and knowingly in front of mirrored glass, displaying her, ah, assets for all the male execs to see.  to  One of the best examples of deconstructing the  Male Gaze  is the scene in \"Babylon\" where Joan bends over  very  slowly and knowingly in front of mirrored glass, displaying her, ah, assets for all th\n",
      "Truncating  More specifically, Matthew Weiner is interested in using the \"visual vocabulary\" of the early Sixties, which had the slightest tendency to over-shiny things, but on account of the realistic depiction, it provides a bit of dissonance.  to  More specifically, Matthew Weiner is interested in using the \"visual vocabulary\" of the early Sixties, which had the slightest tendency to over-shiny things, but on account of the realistic depiction,\n",
      "Truncating  The sarcastic \"equal opportunity employer\" ad in Season 5 premiere \"A Little Kiss\" basically forces lily-white SCDP to integrate, and in \"Tea Leaves\" Dawn the secretary has been hired as their first black employee.  to  The sarcastic \"equal opportunity employer\" ad in Season 5 premiere \"A Little Kiss\" basically forces lily-white SCDP to integrate, and in \"Tea Leaves\" Dawn the secretary has been hired as their first b\n",
      "Truncating  At the end of \"A Night to Remember\", after   Jimmy Barret confronts Don and Betty about Don's affair with his wife , Don and Betty are driving home, both obviously very upset, and Betty nervously upchucks all over the dash of Don's new Coupe DeVille.  to  At the end of \"A Night to Remember\", after   Jimmy Barret confronts Don and Betty about Don's affair with his wife , Don and Betty are driving home, both obviously very upset, and Betty nervously upch\n",
      "Truncating  The season 3 finale when   Don, Roger, Bert, and Lane conspire to leave and start their own agency after hearing that Sterling Cooper and Putnam, Powell,   Lowe was bought out by McCann Erickson (a real company, in case you're wondering).  to  The season 3 finale when   Don, Roger, Bert, and Lane conspire to leave and start their own agency after hearing that Sterling Cooper and Putnam, Powell,   Lowe was bought out by McCann Erickson (a re\n",
      "Truncating  The letter further comes back to haunt Don in Season 5's \"At the Codfish Ball\" when he receives an award for it, but simultaneously learns that   none of the corporate world's big fish want anything to do with SCDP because of that letter, as it showed Don is willing to publicly backstab even a longtime loyal client if they drop them .  to  The letter further comes back to haunt Don in Season 5's \"At the Codfish Ball\" when he receives an award for it, but simultaneously learns that   none of the corporate world's big fish want anything t\n",
      "Truncating  Early episodes show Peggy doing housework (even though it was established that she does a lousy job at it   especially  the cooking  part), Al initiating sex, and Kelly being of average intelligence (yet still getting poor grades in school).  to  Early episodes show Peggy doing housework (even though it was established that she does a lousy job at it   especially  the cooking  part), Al initiating sex, and Kelly being of average intelligence (\n",
      "Truncating  For all his tough-guy posturing, Ray-Ray (see  Older Hero Vs Younger Villain  and  Take a Third Option , below) hides behind the rest of his thugs and has them beat Al up with sheer numbers because he arguably knows he's not man enough to face up to Al in a real fight.  to  For all his tough-guy posturing, Ray-Ray (see  Older Hero Vs Younger Villain  and  Take a Third Option , below) hides behind the rest of his thugs and has them beat Al up with sheer numbers because he\n"
     ]
    },
    {
     "name": "stdout",
     "output_type": "stream",
     "text": [
      "Truncating  In the episode, \"You Better Shop Around\" Jerry Mathers (known for  Leave It To Beaver ) guest stars, playing himself as a washed-up former child star, who has resorted to judging shopping contests in supermarkets.  to  In the episode, \"You Better Shop Around\" Jerry Mathers (known for  Leave It To Beaver ) guest stars, playing himself as a washed-up former child star, who has resorted to judging shopping contests in \n",
      "Truncating  It's implied in several episodes that Kelly's promiscuity stems from being starved for attention and treated as the  Butt Monkey  in her own family (the episode where Al invents shoe-lights lampshaded this with Kelly's (who is being used as the guinea pig for shoe-lights) line: \"'Kelly, this meat is green.  to  It's implied in several episodes that Kelly's promiscuity stems from being starved for attention and treated as the  Butt Monkey  in her own family (the episode where Al invents shoe-lights lampshaded\n",
      "Truncating  At the end of the episode, Jefferson scares Al before playing it off as a large-scale hoax... until we hear on the still-playing television that the man who'd offered the reward had just died while watching a baseball game .  to  At the end of the episode, Jefferson scares Al before playing it off as a large-scale hoax... until we hear on the still-playing television that the man who'd offered the reward had just died while wa\n",
      "Truncating  Peg laughs it off by saying it's his  Porn Stash , but at the end of the episode it's revealed  it  was  a porn magazine... but more importantly,  a picture of his family looking happy  hidden in there.  to  Peg laughs it off by saying it's his  Porn Stash , but at the end of the episode it's revealed  it  was  a porn magazine... but more importantly,  a picture of his family looking happy  hidden in ther\n",
      "Truncating  What's really sad is that \"Top of the Heap\" is the 100th episodes and a lot of fans got mad that the 100th episode didn't focus on the Bundys (it had Al in it, but only at the beginning where he's trying to welsh out of his best friend's bet and at the end where  Al breaks in to his friend's apartment and steals back his television ).  to  What's really sad is that \"Top of the Heap\" is the 100th episodes and a lot of fans got mad that the 100th episode didn't focus on the Bundys (it had Al in it, but only at the beginning where he's try\n",
      "Truncating  So I get up, have my watered-down Tang and still-frozen Pop-Tart, get in my car with no upholstery, no gas, and six more payments to fight traffic just for the privilege of putting cheap shoes on the cloven hooves of people like you.  to  So I get up, have my watered-down Tang and still-frozen Pop-Tart, get in my car with no upholstery, no gas, and six more payments to fight traffic just for the privilege of putting cheap shoes on the \n",
      "Truncating  In addition, script supervisor Shelley Herman also worked on  Sesame Street  as assistant to the producer from 1973-1975, as did production executive Robert Braithwaite, who was  Sesame Street 's production supervisor from 1975-1976, in addition to being an associate producer for fellow CTW production  3-2-1 Contact .  to  In addition, script supervisor Shelley Herman also worked on  Sesame Street  as assistant to the producer from 1973-1975, as did production executive Robert Braithwaite, who was  Sesame Street 's prod\n",
      "Truncating  Not said, but invoked in imagery  la Sarah Connor at the end of  Terminator - the last scene of the first season is of   Nikita and Michael  discussing the potential future as they drive away, towards a gathering storm.  to  Not said, but invoked in imagery  la Sarah Connor at the end of  Terminator - the last scene of the first season is of   Nikita and Michael  discussing the potential future as they drive away, towards\n",
      "Truncating  In the same episode, we finally see Alex's earlier shown escape tunnel get used   by Nikita, who uses it to escape from Division following her breakout , after which Percy discovers it and has it sealed.  to  In the same episode, we finally see Alex's earlier shown escape tunnel get used   by Nikita, who uses it to escape from Division following her breakout , after which Percy discovers it and has it seal\n",
      "Truncating  In \"Pandora\", we find out that the nerve agent Jaden stole for Percy in \"Girl's Best Friend\" was   implanted in the fake Black Box he let Nikita steal, set to activate and kill the head of the CIA so that Percy can replace him .  to  In \"Pandora\", we find out that the nerve agent Jaden stole for Percy in \"Girl's Best Friend\" was   implanted in the fake Black Box he let Nikita steal, set to activate and kill the head of the CIA so \n",
      "Truncating  He  reveals  to Alex that he's known about Alex's true identity and her Michael, and Nikita's alliance against him since Kasim was killed, and shows her that Nikita was the one to  kill her father , turns back on her kill chip and forces her to kill Nikita, letting her know she's been monitored the entire time  Season 2 reveals that it's pretty much part of the job description.  to  He  reveals  to Alex that he's known about Alex's true identity and her Michael, and Nikita's alliance against him since Kasim was killed, and shows her that Nikita was the one to  kill her father , t\n",
      "Truncating  The episode \"Echoes\" (1x16) ends with a doozy of a cliffhanger -   while Percy and Amanda are discussing whether or not to \"cancel\" Alex, and Alex is thinking that it may be time to escape Division, the last scene shows Michael awaiting Nikita in her loft.  to  The episode \"Echoes\" (1x16) ends with a doozy of a cliffhanger -   while Percy and Amanda are discussing whether or not to \"cancel\" Alex, and Alex is thinking that it may be time to escape Division, t\n",
      "Truncating  Quite a few in \"All the Way\", for example, Birkhoff naming the Engineer as the one who helped him to   find a leak in Division's network  and Thom mentioning the Russian spy he had to kill to be promoted to field agent.  to  Quite a few in \"All the Way\", for example, Birkhoff naming the Engineer as the one who helped him to   find a leak in Division's network  and Thom mentioning the Russian spy he had to kill to be promo\n",
      "Truncating  In \"Fair Trade\", Birkhoff warns his   replacement  at Division that \"when they're done with you, they'll snap your neck and melt you in acid\", a reference to the Engineer's fate (though we only saw the former on screen).  to  In \"Fair Trade\", Birkhoff warns his   replacement  at Division that \"when they're done with you, they'll snap your neck and melt you in acid\", a reference to the Engineer's fate (though we only saw th\n",
      "Truncating  And the plot of \"Coup de Grace\" revolves around one of these: the attempt to assassinate the prince of Georgia and frame the Georgian president for it, in order to facilitate a coup by   the prince's wife .  to  And the plot of \"Coup de Grace\" revolves around one of these: the attempt to assassinate the prince of Georgia and frame the Georgian president for it, in order to facilitate a coup by   the prince's \n",
      "Truncating  The resulting mess   costs Percy his sole remaining Guardian (though Roan  might  have Guardian augmentation), Division several agents, Carla her life, and Team Nikita manages comes out on top, rescuing Ryan from Division.  to  The resulting mess   costs Percy his sole remaining Guardian (though Roan  might  have Guardian augmentation), Division several agents, Carla her life, and Team Nikita manages comes out on top, rescui\n",
      "Truncating  What Season 2 is shaping up to, with Nikita and company as the Good, Division/Oversight as the Bad, and Gogol/Zetrov as the Evil (though the latter two are pretty interchangeable),   especially now that Percy has recaptured Division from Amanda .  to  What Season 2 is shaping up to, with Nikita and company as the Good, Division/Oversight as the Bad, and Gogol/Zetrov as the Evil (though the latter two are pretty interchangeable),   especially now th\n",
      "Truncating  In \"Glass Houses\",  Jaden comes over to Alex's  place after honestly changing her (mutually) antagonistic attitude towards her after the mutual life risking they did for each other the previous episode, only to inadvertently learn of her double agent status and die in the ensuing fight.  to  In \"Glass Houses\",  Jaden comes over to Alex's  place after honestly changing her (mutually) antagonistic attitude towards her after the mutual life risking they did for each other the previous episod\n"
     ]
    },
    {
     "name": "stdout",
     "output_type": "stream",
     "text": [
      "Truncating  When this plan seemed no longer viable, Ari proposed to frame Semak for killing Alex, and stealing Gogol's operating budget in the ensuing chaos; while 300 million US dollars isn't a  Mega Corp , it's still an incredible amount of money for two people.  to  When this plan seemed no longer viable, Ari proposed to frame Semak for killing Alex, and stealing Gogol's operating budget in the ensuing chaos; while 300 million US dollars isn't a  Mega Corp , it's\n",
      "Truncating  All of Division's missions are named this way, but the most important is \"Operation Sparrow\", which is involved in the last several episodes of the first season, and is revealed in the finale to be   a ruse as part of a  Batman Gambit  to assassinate and replace the director of the CIA .  to  All of Division's missions are named this way, but the most important is \"Operation Sparrow\", which is involved in the last several episodes of the first season, and is revealed in the finale to be   \n",
      "Truncating  The final two minutes of 2.10 are immediately identifiable to  Alias  fans as either an homage or a blatant ripoff of the final two minutes of \"Almost Thirty Years\", right down to the    Not Quite Dead  mother of our heroine, and a shocked \"MOM?!  to  The final two minutes of 2.10 are immediately identifiable to  Alias  fans as either an homage or a blatant ripoff of the final two minutes of \"Almost Thirty Years\", right down to the    Not Quite Dea\n",
      "Truncating  The old Star Wars missile-defense sytem is mentioned, Percy's  Kill Sat  (dubbed the Death Star by Micheal) is called Crossbow (Like Chewie's bowcaster), Birkoff tells Nikita \"May the Force be with you\".  to  The old Star Wars missile-defense sytem is mentioned, Percy's  Kill Sat  (dubbed the Death Star by Micheal) is called Crossbow (Like Chewie's bowcaster), Birkoff tells Nikita \"May the Force be with yo\n",
      "Truncating   by revealing that Nikita was the one who killed her father; Michael's cover is blown and he's imprisoned in Division; the captured black box is revealed to the audience to be a  Trojan Horse  and part of Percy's move against the government; and the episode ends with Alex shooting Nikita .  to   by revealing that Nikita was the one who killed her father; Michael's cover is blown and he's imprisoned in Division; the captured black box is revealed to the audience to be a  Trojan Horse  and par\n",
      "Truncating  Paint the image of Victor's face into a pub sign with \"The Pain in the Arse\" written where the pub's name would normally go, then erect the sign on a flagpole outside the Meldrews' house in the early hours of the morning .  to  Paint the image of Victor's face into a pub sign with \"The Pain in the Arse\" written where the pub's name would normally go, then erect the sign on a flagpole outside the Meldrews' house in the early \n",
      "Truncating  Patrick seems to get away with this, since Margaret still believes the situation is Victor's own fault... until  Pippa unknowingly gives Victor a copy of Patrick's diary, in which he gloats about what he's been doing .  to  Patrick seems to get away with this, since Margaret still believes the situation is Victor's own fault... until  Pippa unknowingly gives Victor a copy of Patrick's diary, in which he gloats about what\n",
      "Truncating  Margaret despite often acting as the  more sensible and sociable of the couple  can often prove to be just as bad tempered and oddball as Victor (and is far more likely to  vent it out on her spouse than vice versa ).  to  Margaret despite often acting as the  more sensible and sociable of the couple  can often prove to be just as bad tempered and oddball as Victor (and is far more likely to  vent it out on her spouse t\n",
      "Truncating     The Meldrews had to move house in the first series 2 episode, due to the owners of the real-life house which had stood in for the Meldrews' house in the location scenes of series 1 wanting too much money to allow the BBC to keep on using it.  to     The Meldrews had to move house in the first series 2 episode, due to the owners of the real-life house which had stood in for the Meldrews' house in the location scenes of series 1 wanting too much\n",
      "Truncating  It later turns out that  the \"cot\" in question is actually a  cow , and a hint as to how the mix-up occurred is given with the accompanying delivery letter, which spells Margaret's name as \"Nargaret Medlrew.  to  It later turns out that  the \"cot\" in question is actually a  cow , and a hint as to how the mix-up occurred is given with the accompanying delivery letter, which spells Margaret's name as \"Nargaret M\n",
      "Truncating  \"  A  literal  example of this trope happens in \"Warm Champagne\"   the street the Meldrews live on after the first series is called Riverbank, and when a nearby old people's estate called River s bank opens it causes no end of confusion, eventually cumulating in one of the residents of Riversbank being mistakenly dropped off at Victor's house and put into the bed.  to  \"  A  literal  example of this trope happens in \"Warm Champagne\"   the street the Meldrews live on after the first series is called Riverbank, and when a nearby old people's estate called River s bank\n",
      "Truncating  The writer, David Renwick, seemed to delight in putting him through bizarre situations at least once an episode (ranging from the next-door neighbour installing a door in his fence to facilitate a nice chat to having to deal with an old lady's suicide), so it's not surprising he was so disgruntled.  to  The writer, David Renwick, seemed to delight in putting him through bizarre situations at least once an episode (ranging from the next-door neighbour installing a door in his fence to facilitate a nic\n",
      "Truncating  The sequel,  Going Straight , depicting Fletcher's life after his release, was also popular (though less so) and won a BAFTA but was limited to one series by  actor Richard Beckinsale's very untimely death .  to  The sequel,  Going Straight , depicting Fletcher's life after his release, was also popular (though less so) and won a BAFTA but was limited to one series by  actor Richard Beckinsale's very untimely \n",
      "Truncating  Originally written as a  dramedy , with Steele intended to be a comic-relief figurehead while the focus was on Laura, but Brosnan's charisma and the chemistry between him and Zimbalist took over the plots.  to  Originally written as a  dramedy , with Steele intended to be a comic-relief figurehead while the focus was on Laura, but Brosnan's charisma and the chemistry between him and Zimbalist took over the p\n",
      "Truncating  One episode actually used this practice as a major plot pointThe killer du jour had used a co-worker as an alibi, noting that the two had watched a classic TV show together at the time of the murder (unbeknownst to the co-worker, the culprit had  used a VCR and reset the clocks ; but it turned out that  due to syndication, the scene the two had watched together had been cut .  to  One episode actually used this practice as a major plot pointThe killer du jour had used a co-worker as an alibi, noting that the two had watched a classic TV show together at the time of the murder (\n",
      "Truncating  \"  Nicely played with in \"You're Steele the One for Me,\" where the expectation of a punny title (and the broken English in which the phrase is said in the episode) make the audience believe it's a pun for \"you're still the one for me,\" but it's actually meant literally, as in, \"you're Remington Steele, the person I'm trying to reach.  to  \"  Nicely played with in \"You're Steele the One for Me,\" where the expectation of a punny title (and the broken English in which the phrase is said in the episode) make the audience believe it's a pun\n",
      "Truncating  Averted; chainsaws were one of the least effective weapons seen on Robot Wars, even House Robot Matilda ditched hers after Series 4 (the new spinning disc was designed to be interchangable with the chainsaw, but the chainsaw was never used again).  to  Averted; chainsaws were one of the least effective weapons seen on Robot Wars, even House Robot Matilda ditched hers after Series 4 (the new spinning disc was designed to be interchangable with the ch\n",
      "Truncating  Terrorhurtz was a double-subversion; in its first Wars it failed to do any better than Killerhurtz despite the look, won only one battle (and that was because a house robot interfered) and only in the Sixth Wars did it really get going.  to  Terrorhurtz was a double-subversion; in its first Wars it failed to do any better than Killerhurtz despite the look, won only one battle (and that was because a house robot interfered) and only in the\n"
     ]
    },
    {
     "name": "stdout",
     "output_type": "stream",
     "text": [
      "Truncating  Elizabeth Berkley (\"Jessie\") was somewhat of a borderline case, as she was 17 when her character was introduced, pushing her to around 20-21 by the time the series wrapped (playing a high-school senior).  to  Elizabeth Berkley (\"Jessie\") was somewhat of a borderline case, as she was 17 when her character was introduced, pushing her to around 20-21 by the time the series wrapped (playing a high-school senio\n",
      "Truncating  As a result, the character of Tori was hastily created to fill in the roles left by the absence of the two aforementioned characters, and especially in the case of Kaposwki's absence,   serve as a love interest for Zack Morris.  to  As a result, the character of Tori was hastily created to fill in the roles left by the absence of the two aforementioned characters, and especially in the case of Kaposwki's absence,   serve as a lov\n",
      "Truncating  The Tori episodes were filmed after the series finale and the made-for-TV movie that were supposed to wrap up the plot of the series, but were inserted into the middle of the season, as their storylines take place at the high school, in the usual canon of the series.  to  The Tori episodes were filmed after the series finale and the made-for-TV movie that were supposed to wrap up the plot of the series, but were inserted into the middle of the season, as their storylin\n",
      "Truncating  This has lead to a series of gigantic plot holes that fans call the \"Tori Paradox\": Out of nowhere, Jessie and Kelly unexplainably disappear; Tori starts as a new student at the school and instantly befriends the main cast, who are carrying on as if Jessie and Kelly never existed; She is established as some kind of hybrid of Jessie and Kelly, thus she is beautiful and athletic while being smart, snarky and feminist;   Zack begins a romantic relationship with her with absolutely no mention of his relationship with Kelly and showing no remorse for the fact that he is potentially cheating on her with Tori ;   Zack and Tori break up  and all of a sudden, she is gone with no explanation of her fate; Jessie and Kelly reappear and everything reverts back to how it was before Tori appeared,   Zack and Kelly get engaged and everyone graduates  with no mention of Tori whatsoever, as if she was never there in the first place.  to  This has lead to a series of gigantic plot holes that fans call the \"Tori Paradox\": Out of nowhere, Jessie and Kelly unexplainably disappear; Tori starts as a new student at the school and instantly b\n",
      "Truncating  Jerry was the technical  Only Sane Man  between these colorful personalities, but a highly ineffective one because, like his friends, he is supremely indifferent towards others, opting instead for the role of  Deadpan Snarker  extraordinaire.  to  Jerry was the technical  Only Sane Man  between these colorful personalities, but a highly ineffective one because, like his friends, he is supremely indifferent towards others, opting instead for the\n",
      "Truncating  Susan's father apparently once had a torrid love affair with author John Cheever and late in season 4 Susan is seen dating another woman, although in her case it's implied that it's a result of dating George, since at the end of the episode she starts dating the woman George dated after her.  to  Susan's father apparently once had a torrid love affair with author John Cheever and late in season 4 Susan is seen dating another woman, although in her case it's implied that it's a result of dating\n",
      "Truncating  Bay and Emmett having a huge spat about Emmett's living arrangements...which happens at the same time that Toby and Simone have a spat about Simone's trustworthiness, leading to  Emmett and Simone sleeping together.  to  Bay and Emmett having a huge spat about Emmett's living arrangements...which happens at the same time that Toby and Simone have a spat about Simone's trustworthiness, leading to  Emmett and Simone sle\n",
      "Truncating    Emmett  turns out to have a surprisingly deep voice for a teenager, although that also can have something to do with him being deaf the deeper your voice goes, the easier it is to feel the vibrations and know you're making sound.  to    Emmett  turns out to have a surprisingly deep voice for a teenager, although that also can have something to do with him being deaf the deeper your voice goes, the easier it is to feel the vibration\n",
      "Truncating  Supporting actors included Don Knotts as Deputy Barney Fife;   Ron  Ronny Howard (pre- Happy Days ) as Andy's son, Opie; Frances Bavier as Andy's Aunt Bee Taylor, and George Lindsey and Jim Nabors as the Pyle cousins, Goober and Gomer Pyle.  to  Supporting actors included Don Knotts as Deputy Barney Fife;   Ron  Ronny Howard (pre- Happy Days ) as Andy's son, Opie; Frances Bavier as Andy's Aunt Bee Taylor, and George Lindsey and Jim Nabors as \n",
      "Truncating  Along with each animal on the countdown, the program presents a computer graphics segment which compares the animal's ability with something equivalent in humans by computer animation in green (in the short-lived half-hour mode, blue) also color of both logos, followed by an interview segment with people who share some common trait.  to  Along with each animal on the countdown, the program presents a computer graphics segment which compares the animal's ability with something equivalent in humans by computer animation in green (in the\n",
      "Truncating  A more appropriate anscestor for the Komodo dragon would be the mosasaur, a sea-going lizard that lived around the same time as the last dinosaurs and are thought to be distantly related to modern-day monitor lizards.  to  A more appropriate anscestor for the Komodo dragon would be the mosasaur, a sea-going lizard that lived around the same time as the last dinosaurs and are thought to be distantly related to modern-day\n",
      "Truncating  Talented artist/receptionist Dawn wanting to be an artist, but stuck working a dead-end job with a deadbeat lover who constantly belittles her talent, because he doesn't want her to give up the paycheck that supports the two.  to  Talented artist/receptionist Dawn wanting to be an artist, but stuck working a dead-end job with a deadbeat lover who constantly belittles her talent, because he doesn't want her to give up the payche\n",
      "Truncating  Current showrunner Paul Lieberstein has admitted that Jim's  demotion back to Assistant Regional Manager, after being promoted half a season earlier  was a result of poor audience response to the change and Dwight's resulting plot to  seriously get him fired .  to  Current showrunner Paul Lieberstein has admitted that Jim's  demotion back to Assistant Regional Manager, after being promoted half a season earlier  was a result of poor audience response to the chan\n",
      "Truncating  First, Dwight wears a ridiculous  Three Wolves Howling at the Moon t-shirt  that became an Amazon.com legend for the hilarious fake reviews, and second, the wedding itself, which took after  the YouTube video with the bridal party dancing down the aisle.  to  First, Dwight wears a ridiculous  Three Wolves Howling at the Moon t-shirt  that became an Amazon.com legend for the hilarious fake reviews, and second, the wedding itself, which took after  the YouTu\n",
      "Truncating  \" So apparently you can pretend to fire her, make fun of her behind her back, and smuggle a flock of geese into her car, but tell her that her boyfriend used to date another co-worker and you're  deader than dead .  to  \" So apparently you can pretend to fire her, make fun of her behind her back, and smuggle a flock of geese into her car, but tell her that her boyfriend used to date another co-worker and you're  dead\n",
      "Truncating  Averted in the season 7 Halloween special with Oscar complaining that the coupon book prize was stupid but   he was the one to win the 15000 dollar coupon book after saying it costs more to get all the things in it .  to  Averted in the season 7 Halloween special with Oscar complaining that the coupon book prize was stupid but   he was the one to win the 15000 dollar coupon book after saying it costs more to get all th\n",
      "Truncating  It's the only possible explanation for why Michael was never fired (or arrested); although he is known to be an extremely good salesman (and in one episode, it's alluded to that he was in fact one of the most successful salesmen in the company's history), his management skills are... inferior.  to  It's the only possible explanation for why Michael was never fired (or arrested); although he is known to be an extremely good salesman (and in one episode, it's alluded to that he was in fact one of \n"
     ]
    },
    {
     "name": "stdout",
     "output_type": "stream",
     "text": [
      "Truncating  Dwight, who manages a one night stand with one of Pam's friends at  her and Jim's wedding  and handles it with a level of expertise that suggests experience in the field   and when Pam's friend approaches Dwight at the wedding, he's doing well while chatting with another girl .  to  Dwight, who manages a one night stand with one of Pam's friends at  her and Jim's wedding  and handles it with a level of expertise that suggests experience in the field   and when Pam's friend approa\n",
      "Truncating  And on Take Your Daughter to Work Day, where he talks to the camera about how he has to make sure none of the young girls see the porn on his computer, then realizes they could be doing that right now.  to  And on Take Your Daughter to Work Day, where he talks to the camera about how he has to make sure none of the young girls see the porn on his computer, then realizes they could be doing that right now\n",
      "Truncating  When Dwight becomes acting manager he forces everyone to use an antiquated and dangerous punch clock, staggers their lunches so everyone eats alone, changes everyone's title to Junior Employee and has everyone enter a twenty one digit code everytime they use the photocopier.  to  When Dwight becomes acting manager he forces everyone to use an antiquated and dangerous punch clock, staggers their lunches so everyone eats alone, changes everyone's title to Junior Employee and has\n",
      "Truncating  If it's possible to take a straight example even further, Ry ji almost punching out the chief in #4, treated merely as a  Hot Blooded   Sh nen  staple, carries even more serious implications in #5  with the reveal of his  Superpowered   Ax Crazy side .  to  If it's possible to take a straight example even further, Ry ji almost punching out the chief in #4, treated merely as a  Hot Blooded   Sh nen  staple, carries even more serious implications in #5  wi\n",
      "Truncating  Lennartsson with Lucci, because 'Lucci' seems to have the mentality of a bloodcrazed megalomaniac , speaking in nonsensical gibbers  which only Lennartsson understands   things like \"Sunder and rule\",  and so, it seems he's the main inspiration behind Lennartsson's dedication to turn the Professor and the Count against each other so he can rule the galaxy alone .  to  Lennartsson with Lucci, because 'Lucci' seems to have the mentality of a bloodcrazed megalomaniac , speaking in nonsensical gibbers  which only Lennartsson understands   things like \"Sunder and rule\",\n",
      "Truncating  At the end of \"Secrets of the Father\": \"The\" D'Artagnan:  I ordered you confined to the garrison... and you disobeyed my orders yet again, knowing it would assure your expulsion from the Musketeers... and ( beat ) you saved my life.  to  At the end of \"Secrets of the Father\": \"The\" D'Artagnan:  I ordered you confined to the garrison... and you disobeyed my orders yet again, knowing it would assure your expulsion from the Musketeers...\n"
     ]
    }
   ],
   "source": [
    "experiment(stemmed_phi, fit_svc, train, dev1, should_parse=True)"
   ]
  },
  {
   "cell_type": "markdown",
   "metadata": {},
   "source": [
    "#### Creating train_parsed_full.txt"
   ]
  },
  {
   "cell_type": "code",
   "execution_count": null,
   "metadata": {
    "collapsed": true
   },
   "outputs": [],
   "source": [
    "test = Counter({'fox-jumps': 1, 'The-fox': 1, 'quick-fox': 1, 'brown-fox': 1, 'dog-jumps': 1, 'over-dog': 1, 'the-dog': 1, 'lazy-dog': 1})"
   ]
  },
  {
   "cell_type": "code",
   "execution_count": null,
   "metadata": {
    "collapsed": true
   },
   "outputs": [],
   "source": [
    "print(test)"
   ]
  },
  {
   "cell_type": "code",
   "execution_count": null,
   "metadata": {
    "collapsed": true
   },
   "outputs": [],
   "source": [
    "import pickle\n",
    "output = pickle.dumps(test)\n",
    "pickle.loads(output)"
   ]
  },
  {
   "cell_type": "code",
   "execution_count": 23,
   "metadata": {
    "collapsed": true
   },
   "outputs": [],
   "source": [
    "X = [train.loc[i, 'sentence'] for i in range(len(train.index))]"
   ]
  },
  {
   "cell_type": "code",
   "execution_count": null,
   "metadata": {
    "collapsed": true
   },
   "outputs": [],
   "source": [
    "file = open(\"train_parsed.txt\", \"wb\")\n",
    "for example in X:\n",
    "    output = pickle.dump(dep_phi(example), file)\n",
    "file.close() "
   ]
  },
  {
   "cell_type": "code",
   "execution_count": 25,
   "metadata": {
    "collapsed": true
   },
   "outputs": [],
   "source": [
    "f = open(\"train_parsed.txt\", \"rb\")"
   ]
  },
  {
   "cell_type": "code",
   "execution_count": 72,
   "metadata": {},
   "outputs": [
    {
     "data": {
      "text/plain": [
       "Counter({'Because-Die': 1,\n",
       "         'Die-became': 1,\n",
       "         'EVEN-WORSE': 1,\n",
       "         'Never-Die': 1,\n",
       "         'Say-Die': 1,\n",
       "         'WORSE-became': 1,\n",
       "         'a-scene': 1,\n",
       "         'arguably-WORSE': 1,\n",
       "         'horrifying-scene': 1,\n",
       "         'of-Die': 1,\n",
       "         'scene-became': 1})"
      ]
     },
     "execution_count": 72,
     "metadata": {},
     "output_type": "execute_result"
    }
   ],
   "source": [
    "pickle.load(f)"
   ]
  },
  {
   "cell_type": "code",
   "execution_count": 26,
   "metadata": {
    "collapsed": true
   },
   "outputs": [],
   "source": [
    "objs = []\n",
    "while 1:\n",
    "    try:\n",
    "        o = pickle.load(f)\n",
    "    except EOFError:\n",
    "        break\n",
    "    objs.append(o)"
   ]
  },
  {
   "cell_type": "code",
   "execution_count": 38,
   "metadata": {},
   "outputs": [
    {
     "name": "stdout",
     "output_type": "stream",
     "text": [
      "10506\n",
      "Counter({'CMOA-suspected': 1, 'Doubles-CMOA': 1, 'as-CMOA': 1, 'a-CMOA': 1, 'Craig-CMOA': 1, 'for-Craig': 1, 'ruining-suspected': 1, 'as-ruining': 1, 'despite-ruining': 1, 'single-handedly-ruining': 1, 'mission-ruining': 1, 'that-mission': 1, 'person-suspected': 1, 'not-person': 1, 'one-person': 1, 'him-suspected': 1, 'Mole-suspected': 1, 'of-Mole': 1, 'being-Mole': 1, 'The-Mole': 1})\n",
      "When the first, the extremely weird  33 1/3 Revolutions per Monkee , bombed in the ratings, plans for the other two specials were cancelled.\n"
     ]
    }
   ],
   "source": [
    "print(len(objs))\n",
    "print(objs[10505])\n",
    "print(X[10506])"
   ]
  },
  {
   "cell_type": "code",
   "execution_count": 89,
   "metadata": {},
   "outputs": [
    {
     "name": "stdout",
     "output_type": "stream",
     "text": [
      "Counter({'Michelotto-matter-of-fact': 1, 'is-matter-of-fact': 1, 'utterly-matter-of-fact': 1, 'informs-matter-of-fact': 1, 'when-informs': 1, 'he-informs': 1, 'Cesare-informs': 1, 'murdered-informs': 1, 'that-murdered': 1, 'he-murdered': 1, 'father-murdered': 1, 'his-father': 1, 'own-father': 1, 'and-matter-of-fact': 1, 'unfazed-matter-of-fact': 1, 'reaction-unfazed': 1, 'Cesare-reaction': 1, \"'s-Cesare\": 1, 'is-unfazed': 1, 'equally-unfazed': 1})\n"
     ]
    }
   ],
   "source": [
    "print(dep_phi(\" Michelotto  is utterly matter-of-fact when he informs Cesare that he  murdered his own father , and Cesare's reaction is equally unfazed.\"))"
   ]
  },
  {
   "cell_type": "code",
   "execution_count": 79,
   "metadata": {},
   "outputs": [
    {
     "name": "stdout",
     "output_type": "stream",
     "text": [
      "Counter({'Die-became': 1, 'Because-Die': 1, 'of-Die': 1, 'Never-Die': 1, 'Say-Die': 1, 'scene-became': 1, 'a-scene': 1, 'horrifying-scene': 1, 'WORSE-became': 1, 'arguably-WORSE': 1, 'EVEN-WORSE': 1})\n"
     ]
    }
   ],
   "source": [
    "print(objs[0])"
   ]
  },
  {
   "cell_type": "code",
   "execution_count": 90,
   "metadata": {
    "collapsed": true
   },
   "outputs": [],
   "source": [
    "f.close()"
   ]
  },
  {
   "cell_type": "code",
   "execution_count": null,
   "metadata": {
    "collapsed": true
   },
   "outputs": [],
   "source": [
    "file = open(\"train_parsed2.txt\", \"wb\")\n",
    "for example in X[9910:]:\n",
    "    output = pickle.dump(dep_phi(example), file)\n",
    "file.close() "
   ]
  },
  {
   "cell_type": "code",
   "execution_count": 29,
   "metadata": {
    "collapsed": true
   },
   "outputs": [],
   "source": [
    "f = open(\"train_parsed2.txt\", \"rb\")"
   ]
  },
  {
   "cell_type": "code",
   "execution_count": 30,
   "metadata": {
    "collapsed": true
   },
   "outputs": [],
   "source": [
    "objs2 = []\n",
    "while 1:\n",
    "    try:\n",
    "        o = pickle.load(f)\n",
    "    except EOFError:\n",
    "        break\n",
    "    objs2.append(o)"
   ]
  },
  {
   "cell_type": "code",
   "execution_count": 31,
   "metadata": {
    "collapsed": true
   },
   "outputs": [],
   "source": [
    "f.close()"
   ]
  },
  {
   "cell_type": "code",
   "execution_count": 32,
   "metadata": {},
   "outputs": [
    {
     "name": "stdout",
     "output_type": "stream",
     "text": [
      "596\n"
     ]
    }
   ],
   "source": [
    "print(len(objs2))"
   ]
  },
  {
   "cell_type": "code",
   "execution_count": 111,
   "metadata": {},
   "outputs": [
    {
     "name": "stdout",
     "output_type": "stream",
     "text": [
      "10506\n",
      "Counter({'CMOA-suspected': 1, 'Doubles-CMOA': 1, 'as-CMOA': 1, 'a-CMOA': 1, 'Craig-CMOA': 1, 'for-Craig': 1, 'ruining-suspected': 1, 'as-ruining': 1, 'despite-ruining': 1, 'single-handedly-ruining': 1, 'mission-ruining': 1, 'that-mission': 1, 'person-suspected': 1, 'not-person': 1, 'one-person': 1, 'him-suspected': 1, 'Mole-suspected': 1, 'of-Mole': 1, 'being-Mole': 1, 'The-Mole': 1})\n",
      "When the first, the extremely weird  33 1/3 Revolutions per Monkee , bombed in the ratings, plans for the other two specials were cancelled.\n"
     ]
    }
   ],
   "source": [
    "final = objs+objs2\n",
    "print(len(final))\n",
    "print(final[-1])\n",
    "print(X[10506])"
   ]
  },
  {
   "cell_type": "code",
   "execution_count": 108,
   "metadata": {},
   "outputs": [
    {
     "name": "stdout",
     "output_type": "stream",
     "text": [
      "596\n",
      "Counter({'CMOA-suspected': 1, 'Doubles-CMOA': 1, 'as-CMOA': 1, 'a-CMOA': 1, 'Craig-CMOA': 1, 'for-Craig': 1, 'ruining-suspected': 1, 'as-ruining': 1, 'despite-ruining': 1, 'single-handedly-ruining': 1, 'mission-ruining': 1, 'that-mission': 1, 'person-suspected': 1, 'not-person': 1, 'one-person': 1, 'him-suspected': 1, 'Mole-suspected': 1, 'of-Mole': 1, 'being-Mole': 1, 'The-Mole': 1})\n"
     ]
    }
   ],
   "source": [
    "print(len(objs2))\n",
    "print(objs2[-1])"
   ]
  },
  {
   "cell_type": "code",
   "execution_count": 41,
   "metadata": {},
   "outputs": [
    {
     "name": "stdout",
     "output_type": "stream",
     "text": [
      "Counter({'bombed-cancelled': 1, 'When-bombed': 1, 'first-bombed': 1, 'the-first': 1, 'Revolutions-first': 1, 'the-Revolutions': 1, 'weird-Revolutions': 1, 'extremely-weird': 1, '33-1/3-Revolutions': 1, 'Monkee-Revolutions': 1, 'per-Monkee': 1, 'ratings-bombed': 1, 'in-ratings': 1, 'the-ratings': 1, 'plans-cancelled': 1, 'specials-plans': 1, 'for-specials': 1, 'the-specials': 1, 'other-specials': 1, 'two-specials': 1, 'were-cancelled': 1})\n"
     ]
    }
   ],
   "source": [
    "print(dep_phi(\"When the first, the extremely weird 33-1/3 Revolutions per Monkee , bombed in the ratings, plans for the other two specials were cancelled.\"))"
   ]
  },
  {
   "cell_type": "code",
   "execution_count": null,
   "metadata": {
    "collapsed": true
   },
   "outputs": [],
   "source": [
    "file = open(\"train_parsed3.txt\", \"wb\")\n",
    "pickle.dump(dep_phi(\"When the first, the extremely weird 33-1/3 Revolutions per Monkee , bombed in the ratings, plans for the other two specials were cancelled.\"), file)\n",
    "for example in X[10507:]:\n",
    "    print(example)\n",
    "    output = pickle.dump(dep_phi(example), file)\n",
    "file.close() "
   ]
  },
  {
   "cell_type": "code",
   "execution_count": 43,
   "metadata": {
    "collapsed": true
   },
   "outputs": [],
   "source": [
    "file.close()"
   ]
  },
  {
   "cell_type": "code",
   "execution_count": 44,
   "metadata": {
    "collapsed": true
   },
   "outputs": [],
   "source": [
    "f = open(\"train_parsed3.txt\", \"rb\")"
   ]
  },
  {
   "cell_type": "code",
   "execution_count": 45,
   "metadata": {
    "collapsed": true
   },
   "outputs": [],
   "source": [
    "objs3 = []\n",
    "while 1:\n",
    "    try:\n",
    "        o = pickle.load(f)\n",
    "    except EOFError:\n",
    "        break\n",
    "    objs3.append(o)"
   ]
  },
  {
   "cell_type": "code",
   "execution_count": 54,
   "metadata": {
    "collapsed": true
   },
   "outputs": [],
   "source": [
    "f.close()"
   ]
  },
  {
   "cell_type": "code",
   "execution_count": 46,
   "metadata": {},
   "outputs": [
    {
     "name": "stdout",
     "output_type": "stream",
     "text": [
      "1260\n",
      "Counter({'Where-go': 1, 'do-go': 1, 'I-go': 1})\n"
     ]
    }
   ],
   "source": [
    "print(len(objs3))\n",
    "print(objs3[-1])"
   ]
  },
  {
   "cell_type": "code",
   "execution_count": 48,
   "metadata": {
    "collapsed": true
   },
   "outputs": [],
   "source": [
    "final = objs + objs3"
   ]
  },
  {
   "cell_type": "code",
   "execution_count": 55,
   "metadata": {},
   "outputs": [
    {
     "name": "stdout",
     "output_type": "stream",
     "text": [
      "11766\n",
      "Counter({'Where-go': 1, 'do-go': 1, 'I-go': 1})\n",
      "After the gang has learned that  Cloudcuckoolander  Lowell's family possesses a huge family trust which all Mathers get a huge payout from upon turning 31 1/2 years old: Antonio:  God, if only I'd been born a Mather!\n"
     ]
    }
   ],
   "source": [
    "print(len(final))\n",
    "print(final[-1])\n",
    "print(X[11766])"
   ]
  },
  {
   "cell_type": "code",
   "execution_count": null,
   "metadata": {
    "collapsed": true
   },
   "outputs": [],
   "source": [
    "file = open(\"train_parsed4.txt\", \"wb\")\n",
    "pickle.dump(dep_phi(\"After the gang has learned that  Cloudcuckoolander  Lowell's family possesses a huge family trust which all Mathers get a huge payout from upon turning 31-1/2 years old: Antonio:  God, if only I'd been born a Mather!\"), file)\n",
    "for example in X[11767:]:\n",
    "    print(example)\n",
    "    output = pickle.dump(dep_phi(example), file)\n",
    "file.close() "
   ]
  },
  {
   "cell_type": "code",
   "execution_count": 57,
   "metadata": {
    "collapsed": true
   },
   "outputs": [],
   "source": [
    "f = open(\"train_parsed4.txt\", \"rb\")\n",
    "objs4 = []\n",
    "while 1:\n",
    "    try:\n",
    "        o = pickle.load(f)\n",
    "    except EOFError:\n",
    "        break\n",
    "    objs4.append(o)\n",
    "f.close()"
   ]
  },
  {
   "cell_type": "code",
   "execution_count": 58,
   "metadata": {},
   "outputs": [
    {
     "name": "stdout",
     "output_type": "stream",
     "text": [
      "204\n"
     ]
    }
   ],
   "source": [
    "print(len(objs4))"
   ]
  },
  {
   "cell_type": "code",
   "execution_count": 59,
   "metadata": {},
   "outputs": [
    {
     "name": "stdout",
     "output_type": "stream",
     "text": [
      "11970\n",
      "11970\n"
     ]
    }
   ],
   "source": [
    "final = final + objs4\n",
    "print(len(final))\n",
    "print(len(X))"
   ]
  },
  {
   "cell_type": "code",
   "execution_count": 62,
   "metadata": {
    "collapsed": true
   },
   "outputs": [],
   "source": [
    "f = open(\"train_parsed_full.txt\", \"rb\")\n",
    "train_parsed = []\n",
    "while 1:\n",
    "    try:\n",
    "        o = pickle.load(f)\n",
    "    except EOFError:\n",
    "        break\n",
    "    train_parsed.append(o)\n",
    "f.close()"
   ]
  },
  {
   "cell_type": "code",
   "execution_count": 63,
   "metadata": {},
   "outputs": [
    {
     "name": "stdout",
     "output_type": "stream",
     "text": [
      "11970\n"
     ]
    }
   ],
   "source": [
    "print(len(train_parsed))"
   ]
  },
  {
   "cell_type": "code",
   "execution_count": 67,
   "metadata": {},
   "outputs": [
    {
     "name": "stdout",
     "output_type": "stream",
     "text": [
      "Counter({'Marshals-burst': 1, 'claiming-burst': 1, 'is-claiming': 1, 'that-is': 1, 'fugitive-is': 1, 'a-fugitive': 1, 'there-is': 1, 'they-burst': 1, 'so-they': 1, 'in-burst': 1, 'arrest-burst': 1, 'to-arrest': 1, 'him-arrest': 1, 'and-arrest': 1, 'cause-arrest': 1, 'shootout-cause': 1, 'a-shootout': 1})\n",
      "Marshals, claiming that a fugitive is there, so they burst in to arrest him and cause a shootout.\n"
     ]
    }
   ],
   "source": [
    "print(train_parsed[11003])\n",
    "print(X[11003])"
   ]
  },
  {
   "cell_type": "code",
   "execution_count": 66,
   "metadata": {},
   "outputs": [
    {
     "name": "stdout",
     "output_type": "stream",
     "text": [
      "SLF4J: Failed to load class \"org.slf4j.impl.StaticLoggerBinder\".\n",
      "SLF4J: Defaulting to no-operation (NOP) logger implementation\n",
      "SLF4J: See http://www.slf4j.org/codes.html#StaticLoggerBinder for further details.\n",
      "Parsing file: /var/folders/tk/sdl353716c17z4dyf_77pmd00000gp/T/tmp_u83c9q8\n",
      "Parsing [sent. 1 len. 167]: Well ... Peter is in love with Olivia who liked John at first but he died and she liked Peter back but she does n't remember him as of season 4 and now has a thing for Lincoln who is quite smitten back but is friends with Peter who seems to ship them as well for some reason but Olivia remembered Peter again and now Lincoln is broken hearted and in the alternate time line Peter thought that Fauxlivia was Olivia and spent seven episodes enamoured with her but she was dating Frank but Alternate Lincoln liked her too and seemed to be fond of our Olivia as well when Walternate mind raped her into thinking she was Fauxlivia but in the amber timeline Fauxlivia has broken up with Frank and Lincoln was her `` shoulder to cry on '' but then he died but the other Lincoln said he 'd stay and help and Seth Gabel ships them and ... I think that 's it .\n",
      "Exception in thread \"main\" java.lang.OutOfMemoryError: GC overhead limit exceeded\n",
      "\tat edu.stanford.nlp.process.PTB2TextLexer.<init>(PTB2TextLexer.java:827)\n",
      "\tat edu.stanford.nlp.process.PTBTokenizer.ptb2Text(PTBTokenizer.java:333)\n",
      "\tat edu.stanford.nlp.process.PTBTokenizer.ptbToken2Text(PTBTokenizer.java:349)\n",
      "\tat edu.stanford.nlp.trees.TreePrint.printTreeInternal(TreePrint.java:581)\n",
      "\tat edu.stanford.nlp.trees.TreePrint.printTree(TreePrint.java:267)\n",
      "\tat edu.stanford.nlp.parser.lexparser.ParseFiles.processResults(ParseFiles.java:287)\n",
      "\tat edu.stanford.nlp.parser.lexparser.ParseFiles.parseFiles(ParseFiles.java:216)\n",
      "\tat edu.stanford.nlp.parser.lexparser.ParseFiles.parseFiles(ParseFiles.java:75)\n",
      "\tat edu.stanford.nlp.parser.lexparser.LexicalizedParser.main(LexicalizedParser.java:1518)\n",
      "\n"
     ]
    },
    {
     "data": {
      "text/plain": [
       "0.6141201960551175"
      ]
     },
     "execution_count": 17,
     "metadata": {},
     "output_type": "execute_result"
    }
   ],
   "source": [
    "experiment(dep_phi, fit_svc, train, dev1, should_parse=False)"
   ]
  },
  {
   "cell_type": "markdown",
   "metadata": {},
   "source": [
    "# Latent Dirichlet Allocation"
   ]
  },
  {
   "cell_type": "code",
   "execution_count": 22,
   "metadata": {
    "collapsed": true
   },
   "outputs": [],
   "source": [
    "from sklearn.decomposition import LatentDirichletAllocation"
   ]
  },
  {
   "cell_type": "code",
   "execution_count": 23,
   "metadata": {
    "collapsed": true
   },
   "outputs": [],
   "source": [
    "def build_dataset(data, phi, vectorizer=None, lda=None):\n",
    "    X = [data.loc[i, 'sentence'] for i in range(len(data.index))]\n",
    "    y = [data.loc[i, 'spoiler'] for i in range(len(data.index))]\n",
    "    feat_matrix, vectorizer = vectorize_X(X, phi, vectorizer)\n",
    "    if lda==None:\n",
    "        lda = LatentDirichletAllocation(n_components=500)\n",
    "        feat_matrix = lda.fit_transform(feat_matrix)\n",
    "    else:\n",
    "        feat_matrix = lda.transform(feat_matrix)\n",
    "    return (normalize(feat_matrix), y, vectorizer, lda)"
   ]
  },
  {
   "cell_type": "code",
   "execution_count": 24,
   "metadata": {
    "collapsed": true
   },
   "outputs": [],
   "source": [
    "def experiment(phi, train_func, train_data, test_data):\n",
    "    X, y, vectorizer, lda = build_dataset(train_data, phi)\n",
    "    print(len(X[0]))\n",
    "    mod = train_func(X, y)\n",
    "    X_test, y_test, vectorizer, lda = build_dataset(test_data, phi, vectorizer=vectorizer, lda=lda)\n",
    "    predictions = mod.predict(X_test)\n",
    "    print('Accuracy: %0.03f' % accuracy_score(y_test, predictions))\n",
    "    print(classification_report(y_test, predictions, digits=3))\n",
    "    return f1_score(y_test, predictions, average = 'macro', pos_label=None)"
   ]
  },
  {
   "cell_type": "code",
   "execution_count": 25,
   "metadata": {},
   "outputs": [
    {
     "name": "stderr",
     "output_type": "stream",
     "text": [
      "/anaconda2/envs/nlu/lib/python3.6/site-packages/sklearn/decomposition/online_lda.py:536: DeprecationWarning: The default value for 'learning_method' will be changed from 'online' to 'batch' in the release 0.20. This warning was introduced in 0.18.\n",
      "  DeprecationWarning)\n"
     ]
    },
    {
     "name": "stdout",
     "output_type": "stream",
     "text": [
      "500\n",
      "Accuracy: 0.567\n",
      "             precision    recall  f1-score   support\n",
      "\n",
      "      False      0.555     0.437     0.489       700\n",
      "       True      0.575     0.685     0.625       777\n",
      "\n",
      "avg / total      0.565     0.567     0.561      1477\n",
      "\n"
     ]
    },
    {
     "data": {
      "text/plain": [
       "0.5569942167229223"
      ]
     },
     "execution_count": 25,
     "metadata": {},
     "output_type": "execute_result"
    }
   ],
   "source": [
    "experiment(stemmed_phi, fit_svc, train, test)"
   ]
  },
  {
   "cell_type": "code",
   "execution_count": 26,
   "metadata": {},
   "outputs": [
    {
     "name": "stderr",
     "output_type": "stream",
     "text": [
      "/anaconda2/envs/nlu/lib/python3.6/site-packages/sklearn/decomposition/online_lda.py:536: DeprecationWarning: The default value for 'learning_method' will be changed from 'online' to 'batch' in the release 0.20. This warning was introduced in 0.18.\n",
      "  DeprecationWarning)\n"
     ]
    },
    {
     "name": "stdout",
     "output_type": "stream",
     "text": [
      "500\n",
      "Accuracy: 0.574\n",
      "             precision    recall  f1-score   support\n",
      "\n",
      "      False      0.560     0.473     0.513       700\n",
      "       True      0.584     0.665     0.622       777\n",
      "\n",
      "avg / total      0.572     0.574     0.570      1477\n",
      "\n"
     ]
    },
    {
     "data": {
      "text/plain": [
       "0.5672743397208949"
      ]
     },
     "execution_count": 26,
     "metadata": {},
     "output_type": "execute_result"
    }
   ],
   "source": [
    "experiment(unigrams_phi, fit_svc, train, test)"
   ]
  },
  {
   "cell_type": "code",
   "execution_count": null,
   "metadata": {
    "collapsed": true
   },
   "outputs": [],
   "source": []
  }
 ],
 "metadata": {
  "celltoolbar": "Slideshow",
  "kernelspec": {
   "display_name": "nlu",
   "language": "python",
   "name": "nlu"
  },
  "language_info": {
   "codemirror_mode": {
    "name": "ipython",
    "version": 3
   },
   "file_extension": ".py",
   "mimetype": "text/x-python",
   "name": "python",
   "nbconvert_exporter": "python",
   "pygments_lexer": "ipython3",
   "version": "3.6.4"
  },
  "widgets": {
   "state": {},
   "version": "1.1.2"
  }
 },
 "nbformat": 4,
 "nbformat_minor": 2
}
