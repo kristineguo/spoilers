{
 "cells": [
  {
   "cell_type": "markdown",
   "metadata": {
    "slideshow": {
     "slide_type": "slide"
    }
   },
   "source": [
    "# Spoilers"
   ]
  },
  {
   "cell_type": "code",
   "execution_count": 1,
   "metadata": {
    "collapsed": true
   },
   "outputs": [],
   "source": [
    "__author__ = \"Kristine Guo and Caroline Ho\"\n",
    "__version__ = \"CS224u, Stanford, Spring 2018 term\""
   ]
  },
  {
   "cell_type": "markdown",
   "metadata": {
    "slideshow": {
     "slide_type": "slide"
    }
   },
   "source": [
    "## Contents\n",
    "\n",
    "0. [Overview](#Overview)\n",
    "0. [Set-up](#Set-up)\n",
    "0. [Baseline](#Baseline)\n",
    "  0. [Features](#Features)\n",
    "  0. [Experiment](#Experiment)\n",
    "0. [Sentiment](#Sentiment)\n",
    "0. [Dependency Parsing](#Dependency-Parsing)"
   ]
  },
  {
   "cell_type": "markdown",
   "metadata": {
    "slideshow": {
     "slide_type": "slide"
    }
   },
   "source": [
    "## Overview\n",
    "\n"
   ]
  },
  {
   "cell_type": "markdown",
   "metadata": {
    "slideshow": {
     "slide_type": "slide"
    }
   },
   "source": [
    "## Set-up\n",
    "\n",
    "* Make sure your environment meets all the requirements for [the cs224u repository](https://github.com/cgpotts/cs224u/). For help getting set-up, see [setup.ipynb](setup.ipynb).\n",
    "\n",
    "* Make sure you've downloaded [the data distribution for this unit](http://web.stanford.edu/class/cs224u/data/vsmdata.zip), unpacked it, and placed it in the current directory (or wherever you point `data_home` to below)."
   ]
  },
  {
   "cell_type": "code",
   "execution_count": 1,
   "metadata": {
    "collapsed": true
   },
   "outputs": [],
   "source": [
    "from collections import Counter\n",
    "import copy\n",
    "from nltk.corpus import stopwords\n",
    "from nltk.parse.stanford import StanfordDependencyParser\n",
    "import numpy as np\n",
    "import os\n",
    "import pandas as pd\n",
    "import PorterStemmer\n",
    "import scipy.stats\n",
    "from sklearn.feature_extraction import DictVectorizer\n",
    "from sklearn.metrics import classification_report, accuracy_score, f1_score\n",
    "from sklearn.preprocessing import normalize\n",
    "from sklearn.svm import LinearSVC\n",
    "import string"
   ]
  },
  {
   "cell_type": "code",
   "execution_count": 2,
   "metadata": {
    "collapsed": true
   },
   "outputs": [],
   "source": [
    "data_home = 'tvtropes'"
   ]
  },
  {
   "cell_type": "code",
   "execution_count": 3,
   "metadata": {
    "collapsed": true
   },
   "outputs": [],
   "source": [
    "dev1 = pd.read_csv(\n",
    "    os.path.join(data_home, 'dev1.balanced.csv'))"
   ]
  },
  {
   "cell_type": "code",
   "execution_count": 4,
   "metadata": {
    "collapsed": true
   },
   "outputs": [],
   "source": [
    "dev2 = pd.read_csv(\n",
    "    os.path.join(data_home, 'dev2.balanced.csv'))"
   ]
  },
  {
   "cell_type": "code",
   "execution_count": 5,
   "metadata": {
    "collapsed": true
   },
   "outputs": [],
   "source": [
    "test = pd.read_csv(\n",
    "    os.path.join(data_home, 'test.balanced.csv'))"
   ]
  },
  {
   "cell_type": "code",
   "execution_count": 6,
   "metadata": {
    "collapsed": true
   },
   "outputs": [],
   "source": [
    "train = pd.read_csv(\n",
    "    os.path.join(data_home, 'train.balanced.csv'))"
   ]
  },
  {
   "cell_type": "code",
   "execution_count": 7,
   "metadata": {},
   "outputs": [
    {
     "name": "stdout",
     "output_type": "stream",
     "text": [
      "WorkCom\n"
     ]
    }
   ],
   "source": [
    "print(test.loc[0, 'trope'])"
   ]
  },
  {
   "cell_type": "markdown",
   "metadata": {},
   "source": [
    "## Baseline"
   ]
  },
  {
   "cell_type": "code",
   "execution_count": 7,
   "metadata": {
    "collapsed": true,
    "slideshow": {
     "slide_type": "-"
    }
   },
   "outputs": [],
   "source": [
    "ps = PorterStemmer.PorterStemmer()\n",
    "translator = str.maketrans(string.punctuation, ' '*len(string.punctuation))\n",
    "stop_words = set(stopwords.words('english'))\n",
    "\n",
    "def parse_sentence(sentence):\n",
    "    s = sentence.translate(translator).split()\n",
    "    for i in range(len(s)):\n",
    "        s[i] = s[i].strip(string.punctuation).lower()\n",
    "    s = list(filter(None, s))\n",
    "    return [word for word in s if word not in stop_words]"
   ]
  },
  {
   "cell_type": "markdown",
   "metadata": {
    "slideshow": {
     "slide_type": "slide"
    }
   },
   "source": [
    "### Features\n",
    "\n",
    "Description here"
   ]
  },
  {
   "cell_type": "code",
   "execution_count": 8,
   "metadata": {
    "collapsed": true,
    "scrolled": true
   },
   "outputs": [],
   "source": [
    "def unigrams_phi(s):\n",
    "    return Counter(s)"
   ]
  },
  {
   "cell_type": "code",
   "execution_count": 9,
   "metadata": {
    "collapsed": true
   },
   "outputs": [],
   "source": [
    "def stemmed_phi(s):\n",
    "    return Counter([ps.stem(word) for word in s])"
   ]
  },
  {
   "cell_type": "code",
   "execution_count": 10,
   "metadata": {
    "collapsed": true
   },
   "outputs": [],
   "source": [
    "def bigrams_phi(s):\n",
    "    t = copy.deepcopy(s)\n",
    "    t.insert(0, '<S>')\n",
    "    t.append('</S>')\n",
    "    bigrams = [tuple([t[i], t[i + 1]]) for i in range(len(t) - 1)]\n",
    "    return Counter(bigrams)"
   ]
  },
  {
   "cell_type": "markdown",
   "metadata": {
    "slideshow": {
     "slide_type": "slide"
    }
   },
   "source": [
    "### Experiment\n",
    "\n",
    "Description"
   ]
  },
  {
   "cell_type": "code",
   "execution_count": 11,
   "metadata": {
    "collapsed": true
   },
   "outputs": [],
   "source": [
    "def trunc_sent(sentence):\n",
    "    if (len(sentence) > 200):\n",
    "        print(\"Truncating \", sentence, \" to \", sentence[:200])\n",
    "        return sentence[:200]\n",
    "    else:\n",
    "        return sentence\n",
    "\n",
    "def vectorize_X_dependency(X, phi, vectorizer=None, should_parse=True):\n",
    "    feat_dicts = []\n",
    "    if should_parse:\n",
    "        if len(X) == 11970:\n",
    "            print(\"In train!\")\n",
    "            feat_dicts = [phi(parse_sentence(sentence)) + train_parsed_lowered[i] for i, sentence in enumerate(X)]\n",
    "        else:\n",
    "            print(\"Not in train!\")\n",
    "            feat_dicts = [phi(parse_sentence(sentence)) + dep_phi(trunc_sent(sentence)) for sentence in X]\n",
    "    else: feat_dicts = [phi(sentence) for sentence in X]\n",
    "\n",
    "    if vectorizer == None:\n",
    "        vectorizer = DictVectorizer(sparse=False)\n",
    "        print(\"Gets to vectorizer\")\n",
    "        return (vectorizer.fit_transform(feat_dicts), vectorizer)\n",
    "    else:\n",
    "        return (vectorizer.transform(feat_dicts), vectorizer)"
   ]
  },
  {
   "cell_type": "code",
   "execution_count": 12,
   "metadata": {
    "collapsed": true
   },
   "outputs": [],
   "source": [
    "def vectorize_X(X, phi, vectorizer=None, should_parse=True):\n",
    "    feat_dicts = []\n",
    "    if should_parse: feat_dicts = [phi(parse_sentence(sentence)) + train_parsed[i] for i, sentence in enumerate(X)]\n",
    "    else: feat_dicts = [phi(sentence) for sentence in X]\n",
    "\n",
    "    if vectorizer == None:\n",
    "        vectorizer = DictVectorizer(sparse=False)\n",
    "        return (vectorizer.fit_transform(feat_dicts), vectorizer)\n",
    "    else:\n",
    "        return (vectorizer.transform(feat_dicts), vectorizer)"
   ]
  },
  {
   "cell_type": "code",
   "execution_count": 13,
   "metadata": {
    "collapsed": true
   },
   "outputs": [],
   "source": [
    "def build_dataset(data, phi, vectorizer=None, should_parse=True, lda=None):\n",
    "    X = [data.loc[i, 'sentence'] for i in range(len(data.index))]\n",
    "    y = [data.loc[i, 'spoiler'] for i in range(len(data.index))]\n",
    "    feat_matrix, vectorizer = vectorize_X_dependency(X, phi, vectorizer=vectorizer, should_parse=should_parse)\n",
    "    print(\"Finishes vectorize_X_dependency\")\n",
    "    if lda==None:\n",
    "        lda = LatentDirichletAllocation(n_components=500)\n",
    "        feat_matrix = lda.fit_transform(feat_matrix)\n",
    "    else:\n",
    "        feat_matrix = lda.transform(feat_matrix)\n",
    "    print(feat_matrix.shape)\n",
    "    return (normalize(feat_matrix), y, vectorizer, lda)"
   ]
  },
  {
   "cell_type": "code",
   "execution_count": 14,
   "metadata": {
    "collapsed": true
   },
   "outputs": [],
   "source": [
    "def fit_svc(X, y):\n",
    "    mod = LinearSVC()\n",
    "    mod.fit(X, y)\n",
    "    return mod"
   ]
  },
  {
   "cell_type": "code",
   "execution_count": 15,
   "metadata": {
    "collapsed": true
   },
   "outputs": [],
   "source": [
    "def experiment(phi, train_func, train_data, test_data, should_parse=True):\n",
    "    X, y, vectorizer, lda = build_dataset(train_data, phi, should_parse=should_parse)\n",
    "    print(len(X[0]))\n",
    "    mod = train_func(X, y)\n",
    "    X_test, y_test, vectorizer, lda = build_dataset(test_data, phi, vectorizer=vectorizer, should_parse=should_parse, lda=lda)\n",
    "    predictions = mod.predict(X_test)\n",
    "    print('Accuracy: %0.03f' % accuracy_score(y_test, predictions))\n",
    "    print(classification_report(y_test, predictions, digits=3))\n",
    "    return f1_score(y_test, predictions, average = 'macro', pos_label=None)"
   ]
  },
  {
   "cell_type": "code",
   "execution_count": 17,
   "metadata": {},
   "outputs": [
    {
     "name": "stdout",
     "output_type": "stream",
     "text": [
      "18968\n",
      "Accuracy: 0.614\n",
      "             precision    recall  f1-score   support\n",
      "\n",
      "      False      0.578     0.633     0.604       496\n",
      "       True      0.652     0.598     0.624       570\n",
      "\n",
      "avg / total      0.618     0.614     0.615      1066\n",
      "\n",
      "13520\n",
      "Accuracy: 0.618\n",
      "             precision    recall  f1-score   support\n",
      "\n",
      "      False      0.584     0.623     0.603       496\n",
      "       True      0.652     0.614     0.632       570\n",
      "\n",
      "avg / total      0.620     0.618     0.619      1066\n",
      "\n",
      "110710\n",
      "Accuracy: 0.598\n",
      "             precision    recall  f1-score   support\n",
      "\n",
      "      False      0.568     0.567     0.567       496\n",
      "       True      0.623     0.625     0.624       570\n",
      "\n",
      "avg / total      0.598     0.598     0.598      1066\n",
      "\n"
     ]
    },
    {
     "data": {
      "text/plain": [
       "0.5955589791028989"
      ]
     },
     "execution_count": 17,
     "metadata": {},
     "output_type": "execute_result"
    }
   ],
   "source": [
    "experiment(unigrams_phi, fit_svc, train, dev1)\n",
    "experiment(stemmed_phi, fit_svc, train, dev1)\n",
    "experiment(bigrams_phi, fit_svc, train, dev1)"
   ]
  },
  {
   "cell_type": "markdown",
   "metadata": {},
   "source": [
    "## Sentiment"
   ]
  },
  {
   "cell_type": "code",
   "execution_count": 15,
   "metadata": {
    "collapsed": true
   },
   "outputs": [],
   "source": [
    "def sentiment_phi(s):\n",
    "    t = copy.deepcopy(s)\n",
    "    is_neg = 0\n",
    "    for i in range(len(t)):\n",
    "        if is_neg > 4: is_neg = 0\n",
    "        if is_neg > 0:\n",
    "            is_neg += 1\n",
    "            t[i] = 'NOT_' + t[i]\n",
    "        if 'n\\'t' in t[i] or t[i] in ['not', 'no', 'never']: is_neg = 1\n",
    "    return Counter(t)"
   ]
  },
  {
   "cell_type": "code",
   "execution_count": 19,
   "metadata": {
    "collapsed": true
   },
   "outputs": [],
   "source": [
    "# experiment(sentiment_phi, fit_svc, train, dev1)"
   ]
  },
  {
   "cell_type": "markdown",
   "metadata": {
    "slideshow": {
     "slide_type": "slide"
    }
   },
   "source": [
    "## Dependency Parsing"
   ]
  },
  {
   "cell_type": "code",
   "execution_count": 16,
   "metadata": {
    "collapsed": true
   },
   "outputs": [],
   "source": [
    "path_to_jar = 'stanford-parser-full-2018-02-27/stanford-parser.jar'\n",
    "path_to_models_jar = 'stanford-english-corenlp-2018-02-27-models.jar'\n",
    "\n",
    "dep_parser = StanfordDependencyParser(path_to_jar=path_to_jar, path_to_models_jar=path_to_models_jar)"
   ]
  },
  {
   "cell_type": "code",
   "execution_count": 17,
   "metadata": {
    "collapsed": true
   },
   "outputs": [],
   "source": [
    "def dep_phi(sentence):\n",
    "    deps = []\n",
    "    for parse in dep_parser.raw_parse(sentence):\n",
    "        for t in parse.triples():\n",
    "            deps.append(t[2][0] + '-' + t[0][0])\n",
    "    return Counter({process(k): v for k, v in Counter(deps).items()})"
   ]
  },
  {
   "cell_type": "code",
   "execution_count": 18,
   "metadata": {
    "collapsed": true
   },
   "outputs": [],
   "source": [
    "import pickle\n",
    "f = open(\"train_parsed_full.txt\", \"rb\")\n",
    "train_parsed = []\n",
    "while 1:\n",
    "    try:\n",
    "        o = pickle.load(f)\n",
    "    except EOFError:\n",
    "        break\n",
    "    train_parsed.append(o)\n",
    "f.close()"
   ]
  },
  {
   "cell_type": "code",
   "execution_count": 19,
   "metadata": {
    "collapsed": true
   },
   "outputs": [],
   "source": [
    "def process(k):\n",
    "    arr = k.split('-')\n",
    "    arr = [ps.stem(a.lower()) for a in arr]\n",
    "    return '-'.join(arr)"
   ]
  },
  {
   "cell_type": "code",
   "execution_count": 20,
   "metadata": {
    "collapsed": true
   },
   "outputs": [],
   "source": [
    "train_parsed_lowered = []\n",
    "for a in train_parsed:\n",
    "    train_parsed_lowered.append(Counter({process(k): v for k, v in a.items()}))"
   ]
  },
  {
   "cell_type": "code",
   "execution_count": 21,
   "metadata": {},
   "outputs": [
    {
     "name": "stdout",
     "output_type": "stream",
     "text": [
      "11970\n"
     ]
    }
   ],
   "source": [
    "print(len(train_parsed_lowered))"
   ]
  },
  {
   "cell_type": "code",
   "execution_count": 22,
   "metadata": {},
   "outputs": [
    {
     "name": "stdout",
     "output_type": "stream",
     "text": [
      "In train!\n",
      "Gets to vectorizer\n",
      "Finishes vectorize_X_dependency\n",
      "(11970, 160751)\n",
      "160751\n",
      "Not in train!\n",
      "Truncating  There was also a comic book adaptation which tended to play down the sitcom aspects in favor of giving him strange technological toys; it seemed more inspired by the  Animated Adaptation  than the original sitcom and would in fact often include stories set on Melmac, usually with the framing story of Alf telling the Tanners of life on his home planet.  to  There was also a comic book adaptation which tended to play down the sitcom aspects in favor of giving him strange technological toys; it seemed more inspired by the  Animated Adaptation  than the ori\n",
      "Truncating  Jay Mariotti was a regular panelist since the show's beginning, but he  hasn't appeared  since his  August 2010 domestic violence arrest , and ESPN has made it clear they aren't really interested in bringing him back.  to  Jay Mariotti was a regular panelist since the show's beginning, but he  hasn't appeared  since his  August 2010 domestic violence arrest , and ESPN has made it clear they aren't really interested in b\n",
      "Truncating  He points out that really what he wants is to   make George suffer in payback for him ripping Herrick limb from limb in Series 1  but invokes this trope as the reason he's going to spare her and promptly leaves.  to  He points out that really what he wants is to   make George suffer in payback for him ripping Herrick limb from limb in Series 1  but invokes this trope as the reason he's going to spare her and promp\n",
      "Truncating  Perhaps a better example would be the fact that there are currently two seemingly-unconnected parties out to kill Eve: the Old Ones, as represented by Cutler and Fergus since they're not in the country yet, who want to destroy the girl prophesied to kill them all, and an unidentified woman from the future, represented by   Kirby  since she's apparently stuck in the afterlife, who knows something no-one else does which means the baby has to die.  to  Perhaps a better example would be the fact that there are currently two seemingly-unconnected parties out to kill Eve: the Old Ones, as represented by Cutler and Fergus since they're not in the countr\n",
      "Truncating    Tully (revealed to have been killed in Professor Jaggat's experiments) and Daisy (revealed to have been killed by McNair)    Nina in between Series 3 and 4, killed by vampires , as well as Wyndham, apparently killed in revenge by   George .  to    Tully (revealed to have been killed in Professor Jaggat's experiments) and Daisy (revealed to have been killed by McNair)    Nina in between Series 3 and 4, killed by vampires , as well as Wyndham, \n",
      "Truncating  You'll be alive enough to feel pain, but dead enough to survive without your major organs,   which lead humans to dissect the first Type 4s, and later incinerate them as a biohazard, while they were still conscious.  to  You'll be alive enough to feel pain, but dead enough to survive without your major organs,   which lead humans to dissect the first Type 4s, and later incinerate them as a biohazard, while they were s\n",
      "Truncating  You're trapped in your body for several weeks after 'death,' until it decays enough that it simply can't sustain your soul any more, during which time it can't recover from any injuries you sustain, and  you can feel yourself decomposing on the inside.  to  You're trapped in your body for several weeks after 'death,' until it decays enough that it simply can't sustain your soul any more, during which time it can't recover from any injuries you sustain, a\n",
      "Truncating  One of  Mitchell's  strategies for trying to get   George to stake him is to try to convince him their friendship was a lie and he found George pathetic, but George knew he was doing this trope, and Mitchell didn't have the heart to keep up the act.  to  One of  Mitchell's  strategies for trying to get   George to stake him is to try to convince him their friendship was a lie and he found George pathetic, but George knew he was doing this trope, and M\n",
      "Truncating    George killing Herrick  may have resolved one problem but as it turns out in series 2 the repercussions involve    a power vacuum in the vampire lot , the loss of a system which kept the supernatural existence under wraps, and George becoming notorious enough to be targeted by vampires loyal to Herrick.  to    George killing Herrick  may have resolved one problem but as it turns out in series 2 the repercussions involve    a power vacuum in the vampire lot , the loss of a system which kept the supernatura\n",
      "Truncating  However it then leads to   Nancy getting Mitchell arrested and the whole masquerade of the supernatural existing is about to break , and even worse,   Herrick wiped out the remaining police in the house and he got his memory back .  to  However it then leads to   Nancy getting Mitchell arrested and the whole masquerade of the supernatural existing is about to break , and even worse,   Herrick wiped out the remaining police in the hou\n",
      "Truncating  Werewolves do carry some latent effects even while in human form, such as sharper senses leading up to and just after a full moon, and rapid (or at least, rapid er ) healing, in evidence after   Nina gets stabbed by Herrick .  to  Werewolves do carry some latent effects even while in human form, such as sharper senses leading up to and just after a full moon, and rapid (or at least, rapid er ) healing, in evidence after   Nina \n",
      "Truncating  With extreme effort, it is possible for a werewolf to partially change without the full moon,   though this does not heal away the damage they suffer in the transformation, so the werewolf will die of multiple organ failure in minutes .  to  With extreme effort, it is possible for a werewolf to partially change without the full moon,   though this does not heal away the damage they suffer in the transformation, so the werewolf will die of\n",
      "Truncating  Nina doesn't talk to George or Mitchell about  Mitchell being responsible for the Box Tunnel 20 , and Mitchell doesn't tell his best friend or his girlfriend about the prophecy he got from Lia  about the wolf-shaped bullet , despite the fact that he has proven time and time again he completely trusts George.  to  Nina doesn't talk to George or Mitchell about  Mitchell being responsible for the Box Tunnel 20 , and Mitchell doesn't tell his best friend or his girlfriend about the prophecy he got from Lia  about \n",
      "Truncating  The entire plot-line that ended with  Mitchell's death  was originally conceived when  Aidan Turner  was cast in  The Hobbit  and the producers knew that they were about to lose him to Hollywood, but they still wanted to give him a good send-off.  to  The entire plot-line that ended with  Mitchell's death  was originally conceived when  Aidan Turner  was cast in  The Hobbit  and the producers knew that they were about to lose him to Hollywood, but \n",
      "Truncating  :  Episode 21, \"Though the Heavens Fall\" involves   the death of McNair, \"Uncle Billy\" turning back into Herrick, Nancy discovering the existence of vampires and being killed, Annie committing murder and learning the truth about Mitchell, Mitchell being arrested, the police discovering his vampirism after he fails to show up in a photo and his fingerprints match a set on file from decades before, and the pregnant Nina being (possibly fatally) stabbed in the abdomen .  to  :  Episode 21, \"Though the Heavens Fall\" involves   the death of McNair, \"Uncle Billy\" turning back into Herrick, Nancy discovering the existence of vampires and being killed, Annie committing murder \n",
      "Truncating  George and Nina's baby is   prophesised to bring an end to the vampire race, Nina is revealed to have been murdered by vampires, it's shown vampires have basically taken over the world by 2039, and most of all  George dies  in a heroic sacrifice.  to  George and Nina's baby is   prophesised to bring an end to the vampire race, Nina is revealed to have been murdered by vampires, it's shown vampires have basically taken over the world by 2039, and mo\n",
      "Truncating  The metaphors become especially prevalent during season 2, when Mitchell begins a blood addicts support group, George   accidentally infects his girlfriend , and Annie, so long invisible to normal people, becomes giddy at the prospect of working at the pub down the street.  to  The metaphors become especially prevalent during season 2, when Mitchell begins a blood addicts support group, George   accidentally infects his girlfriend , and Annie, so long invisible to normal peo\n"
     ]
    },
    {
     "name": "stdout",
     "output_type": "stream",
     "text": [
      "Truncating  They are openly hostile to each other, the former being a \"Communist\" who claims the director his natural enemy  because of their opposite political leanings , but actually they are always making secret agreements and plotting together against the other workers for their own personal profit.  to  They are openly hostile to each other, the former being a \"Communist\" who claims the director his natural enemy  because of their opposite political leanings , but actually they are always making secr\n",
      "Truncating  Mostly noticeable in a sketch beginning with Luca screws up and gets tea instead of coffee; instead of simply throwing it away, he tries to give it to someone else *  (the former would be a solution, but  his strong Communist beliefs keep him from \"wasting\" tea, as it would be \"an instance of Capitalism\" )]].  to  Mostly noticeable in a sketch beginning with Luca screws up and gets tea instead of coffee; instead of simply throwing it away, he tries to give it to someone else *  (the former would be a solution, \n",
      "Truncating    Officer Gilbert's excuse for wanting to keep Drake and Josh from satisfying Mary Alice and her foster family is due to an incident he had when he got a monkey for Christmas like he wanted, but then it destroyed their tree and presents and escaped.  to    Officer Gilbert's excuse for wanting to keep Drake and Josh from satisfying Mary Alice and her foster family is due to an incident he had when he got a monkey for Christmas like he wanted, but then \n",
      "Truncating  Each episode opens with a minute-long  No Fourth Wall  skit of Drake and Josh conversing with the audience in separate locations of their residence, which may or may not be related to the main plot of the episode.  to  Each episode opens with a minute-long  No Fourth Wall  skit of Drake and Josh conversing with the audience in separate locations of their residence, which may or may not be related to the main plot of\n",
      "Truncating  Pilsook has one due to her chances of being in the student showcase getting dashed because she's a member of the special admissions class, her diet not working out, and finding out Jason is ususally nice to everyone, not just her.  to  Pilsook has one due to her chances of being in the student showcase getting dashed because she's a member of the special admissions class, her diet not working out, and finding out Jason is ususally n\n",
      "Truncating  :  Hyemi experiences one in which her life spirals downwards until she and her sister are living in cardboard boxes on the street and  her sister dies  because she refused to play along with Samdong on the talent search program and thus failed to bring him to Kirin.  to  :  Hyemi experiences one in which her life spirals downwards until she and her sister are living in cardboard boxes on the street and  her sister dies  because she refused to play along with Samdong o\n",
      "Truncating  However, when Reagan started downsizing and he lost his job, Kill Moves spiraled downward on a path of paranoia and schizophrenia and wandered the streets until  Gazoo   told him that he'd only find true happiness by living in a box.  to  However, when Reagan started downsizing and he lost his job, Kill Moves spiraled downward on a path of paranoia and schizophrenia and wandered the streets until  Gazoo   told him that he'd only find t\n",
      "Truncating  For some reason , none of them mention the more obvious possibility that the art stores are untouched because there's no point in booby-trapping locations of no strategic importance - the aliens may have art, but pretty pictures are not exactly a vital resource in war, so there's no reason to spend effort denying them to the enemy.  to  For some reason , none of them mention the more obvious possibility that the art stores are untouched because there's no point in booby-trapping locations of no strategic importance - the aliens may h\n",
      "Truncating  Mike, who   screws up the kid retrieval mission by acting like a panicky idiot, leading to the capture of a squadmate, and the slaying of a bunch of children  and then tries to make an alien speak  by sticking a gun in it's mouth .  to  Mike, who   screws up the kid retrieval mission by acting like a panicky idiot, leading to the capture of a squadmate, and the slaying of a bunch of children  and then tries to make an alien speak  by\n",
      "Truncating  A good number of fans actually believed Henry Winkler actually possessed Fonzie's  Rule Of Cool  powers, begging him to do things for them that ranged from  banging on a car's hood to make it work  to quieting all the animals in a zoo.  to  A good number of fans actually believed Henry Winkler actually possessed Fonzie's  Rule Of Cool  powers, begging him to do things for them that ranged from  banging on a car's hood to make it work  to\n",
      "Truncating  It returned with a vengeance in Season 8; firstly the red team had to eat a meal featuring the grossest seafood imaginable (although Gail wasn't actually disgusted at all by the seafood, which she commonly ate when she was younger), and then a few episodes later they had to eat a plate full of flowers  filled with insects .  to  It returned with a vengeance in Season 8; firstly the red team had to eat a meal featuring the grossest seafood imaginable (although Gail wasn't actually disgusted at all by the seafood, which she com\n",
      "Truncating  One service during season six got so bad that Ramsay actually just sort of stopped bothering, and wandered out of the kitchen and out of the restaurant, to walk around on the street saying over and over to a sous chef and the camera crew that he couldn't believe it had gotten so terrible.  to  One service during season six got so bad that Ramsay actually just sort of stopped bothering, and wandered out of the kitchen and out of the restaurant, to walk around on the street saying over and ov\n",
      "Truncating  When Jennifer was eliminated (the two never got along to begin with), Elise mouthed off about how much of a better chef than she was, causing Jennifer to  curse Elise out and flip her off when she walked off .  to  When Jennifer was eliminated (the two never got along to begin with), Elise mouthed off about how much of a better chef than she was, causing Jennifer to  curse Elise out and flip her off when she wal\n",
      "Truncating  Sure, he was rude to Danny on occasion, but that was mainly   because Danny called himself a better cook than Ben and even called him the worst cook of the remaining members of the blue team at one point, so it's natural that he'd feel at least a little insulted by that.  to  Sure, he was rude to Danny on occasion, but that was mainly   because Danny called himself a better cook than Ben and even called him the worst cook of the remaining members of the blue team at one po\n",
      "Truncating  His heart of gold comes through when   he puts their differences aside and tries his best to help Danny win the last dinner service rather than being apathetic about the whole thing like Lacey or Giovanni.  to  His heart of gold comes through when   he puts their differences aside and tries his best to help Danny win the last dinner service rather than being apathetic about the whole thing like Lacey or Giov\n",
      "Truncating  She inexplicably started doing a lot better for a couple episodes after   she was switched from the red team to the blue team and the blue team actually started  winning  with her , but then went back to being terrible shortly thereafter.  to  She inexplicably started doing a lot better for a couple episodes after   she was switched from the red team to the blue team and the blue team actually started  winning  with her , but then went back\n",
      "Truncating  Will, on the other hand, ended up with Krupa as his final pick to ensure that Carrie would be on Paul's team, and Krupa was spectacularly awful in the service that followed, almost single-handedly destroying any chance Will had of winning .  to  Will, on the other hand, ended up with Krupa as his final pick to ensure that Carrie would be on Paul's team, and Krupa was spectacularly awful in the service that followed, almost single-handedly des\n",
      "Truncating  Ridiculously averted by season 9's   Elise , who has made it to the final 4 despite being a contestant more manipulative, conniving, and not to mention WORTHLESS than someone on Survivor or Big Brother.  to  Ridiculously averted by season 9's   Elise , who has made it to the final 4 despite being a contestant more manipulative, conniving, and not to mention WORTHLESS than someone on Survivor or Big Brothe\n"
     ]
    },
    {
     "name": "stdout",
     "output_type": "stream",
     "text": [
      "Truncating  When arranged as a colour spectrum, this forms a time line, so in a case of fridge brilliance, Carrie made a connection between the chronology and the chromatology, again words with a very similar morphology.  to  When arranged as a colour spectrum, this forms a time line, so in a case of fridge brilliance, Carrie made a connection between the chronology and the chromatology, again words with a very similar mor\n",
      "Truncating  Brody   among other things: he sleeps on the floor to avoid assaulting his wife in his sleep, cowers in a corner of his bedroom all day after slipping into an  Angst Coma  and has  intimacy issues  due to his time as a POW.  to  Brody   among other things: he sleeps on the floor to avoid assaulting his wife in his sleep, cowers in a corner of his bedroom all day after slipping into an  Angst Coma  and has  intimacy issues  du\n",
      "Truncating  Or mutant sea monsters...  Also, HHTV's war correspondent invariably signs off with \"This is Mike Peabody, reporting for HHTV News live from [historical event],  really  wishing he were somewhere else...!  to  Or mutant sea monsters...  Also, HHTV's war correspondent invariably signs off with \"This is Mike Peabody, reporting for HHTV News live from [historical event],  really  wishing he were somewhere else\n",
      "Truncating    Sam goes back to his own time, realises the  Test Card F girl  was right all along, and takes a running jump off the roof of the police station while  Life On Mars  blares triumphantly in the background.  to    Sam goes back to his own time, realises the  Test Card F girl  was right all along, and takes a running jump off the roof of the police station while  Life On Mars  blares triumphantly in the backgr\n",
      "Truncating  \"    Which leads to a very dark  inversion  in the ending: when he gets back in 2007, he accidentally cuts himself during a meeting and realizes that he didn't feel it, leading to his decision to leave his 2007 life and go back to 1973.  to  \"    Which leads to a very dark  inversion  in the ending: when he gets back in 2007, he accidentally cuts himself during a meeting and realizes that he didn't feel it, leading to his decision to leav\n",
      "Truncating   /  Continuity Nod  : There are numerous subtle touches that make reference to previous events and imagery from previous episodes:  Pete's gun from \"Red in the Face\" reappears occasionally throughout the series, as if solely to remind the viewer that he still has it.  to   /  Continuity Nod  : There are numerous subtle touches that make reference to previous events and imagery from previous episodes:  Pete's gun from \"Red in the Face\" reappears occasionally throughout \n",
      "Truncating  He's still an entitled bully, as shown by his interactions with the black elevator operator, and his   borderline rape of his neighbor's Au Pair , but he actually shows guilt afterward and rapidly changes his behavior to his wife to prevent him from being a position to do that again.  to  He's still an entitled bully, as shown by his interactions with the black elevator operator, and his   borderline rape of his neighbor's Au Pair , but he actually shows guilt afterward and rapidly cha\n",
      "Truncating  While plenty of episodes are downers, Matthew Weiner seems to have an allergy to leaving the agency hanging at the end of the season; the prospects for Sterling Cooper and then SCDP are always looking up with the season finale.  to  While plenty of episodes are downers, Matthew Weiner seems to have an allergy to leaving the agency hanging at the end of the season; the prospects for Sterling Cooper and then SCDP are always looking\n",
      "Truncating  An earlier example in \"Ladies Room\" - Don is discussing the possibility of working on the Nixon campaign with Sterling and Cooper, and through the window to his office you can see a fireball as Cosgrove and some of the other guys in the office set a spray of the deodorant they're playing with aflame.  to  An earlier example in \"Ladies Room\" - Don is discussing the possibility of working on the Nixon campaign with Sterling and Cooper, and through the window to his office you can see a fireball as Cosgro\n",
      "Truncating  Don, how many times does   your  Martin Guerre  past have to be dragged out of you and how many anxiety attacks do you have to have because of it before you take Faye's advice and do something about it legally?  to  Don, how many times does   your  Martin Guerre  past have to be dragged out of you and how many anxiety attacks do you have to have because of it before you take Faye's advice and do something about i\n",
      "Truncating  One of the best examples of deconstructing the  Male Gaze  is the scene in \"Babylon\" where Joan bends over  very  slowly and knowingly in front of mirrored glass, displaying her, ah, assets for all the male execs to see.  to  One of the best examples of deconstructing the  Male Gaze  is the scene in \"Babylon\" where Joan bends over  very  slowly and knowingly in front of mirrored glass, displaying her, ah, assets for all th\n",
      "Truncating  More specifically, Matthew Weiner is interested in using the \"visual vocabulary\" of the early Sixties, which had the slightest tendency to over-shiny things, but on account of the realistic depiction, it provides a bit of dissonance.  to  More specifically, Matthew Weiner is interested in using the \"visual vocabulary\" of the early Sixties, which had the slightest tendency to over-shiny things, but on account of the realistic depiction,\n",
      "Truncating  The sarcastic \"equal opportunity employer\" ad in Season 5 premiere \"A Little Kiss\" basically forces lily-white SCDP to integrate, and in \"Tea Leaves\" Dawn the secretary has been hired as their first black employee.  to  The sarcastic \"equal opportunity employer\" ad in Season 5 premiere \"A Little Kiss\" basically forces lily-white SCDP to integrate, and in \"Tea Leaves\" Dawn the secretary has been hired as their first b\n",
      "Truncating  At the end of \"A Night to Remember\", after   Jimmy Barret confronts Don and Betty about Don's affair with his wife , Don and Betty are driving home, both obviously very upset, and Betty nervously upchucks all over the dash of Don's new Coupe DeVille.  to  At the end of \"A Night to Remember\", after   Jimmy Barret confronts Don and Betty about Don's affair with his wife , Don and Betty are driving home, both obviously very upset, and Betty nervously upch\n",
      "Truncating  The season 3 finale when   Don, Roger, Bert, and Lane conspire to leave and start their own agency after hearing that Sterling Cooper and Putnam, Powell,   Lowe was bought out by McCann Erickson (a real company, in case you're wondering).  to  The season 3 finale when   Don, Roger, Bert, and Lane conspire to leave and start their own agency after hearing that Sterling Cooper and Putnam, Powell,   Lowe was bought out by McCann Erickson (a re\n",
      "Truncating  The letter further comes back to haunt Don in Season 5's \"At the Codfish Ball\" when he receives an award for it, but simultaneously learns that   none of the corporate world's big fish want anything to do with SCDP because of that letter, as it showed Don is willing to publicly backstab even a longtime loyal client if they drop them .  to  The letter further comes back to haunt Don in Season 5's \"At the Codfish Ball\" when he receives an award for it, but simultaneously learns that   none of the corporate world's big fish want anything t\n",
      "Truncating  Early episodes show Peggy doing housework (even though it was established that she does a lousy job at it   especially  the cooking  part), Al initiating sex, and Kelly being of average intelligence (yet still getting poor grades in school).  to  Early episodes show Peggy doing housework (even though it was established that she does a lousy job at it   especially  the cooking  part), Al initiating sex, and Kelly being of average intelligence (\n",
      "Truncating  For all his tough-guy posturing, Ray-Ray (see  Older Hero Vs Younger Villain  and  Take a Third Option , below) hides behind the rest of his thugs and has them beat Al up with sheer numbers because he arguably knows he's not man enough to face up to Al in a real fight.  to  For all his tough-guy posturing, Ray-Ray (see  Older Hero Vs Younger Villain  and  Take a Third Option , below) hides behind the rest of his thugs and has them beat Al up with sheer numbers because he\n"
     ]
    },
    {
     "name": "stdout",
     "output_type": "stream",
     "text": [
      "Truncating  In the episode, \"You Better Shop Around\" Jerry Mathers (known for  Leave It To Beaver ) guest stars, playing himself as a washed-up former child star, who has resorted to judging shopping contests in supermarkets.  to  In the episode, \"You Better Shop Around\" Jerry Mathers (known for  Leave It To Beaver ) guest stars, playing himself as a washed-up former child star, who has resorted to judging shopping contests in \n",
      "Truncating  It's implied in several episodes that Kelly's promiscuity stems from being starved for attention and treated as the  Butt Monkey  in her own family (the episode where Al invents shoe-lights lampshaded this with Kelly's (who is being used as the guinea pig for shoe-lights) line: \"'Kelly, this meat is green.  to  It's implied in several episodes that Kelly's promiscuity stems from being starved for attention and treated as the  Butt Monkey  in her own family (the episode where Al invents shoe-lights lampshaded\n",
      "Truncating  At the end of the episode, Jefferson scares Al before playing it off as a large-scale hoax... until we hear on the still-playing television that the man who'd offered the reward had just died while watching a baseball game .  to  At the end of the episode, Jefferson scares Al before playing it off as a large-scale hoax... until we hear on the still-playing television that the man who'd offered the reward had just died while wa\n",
      "Truncating  Peg laughs it off by saying it's his  Porn Stash , but at the end of the episode it's revealed  it  was  a porn magazine... but more importantly,  a picture of his family looking happy  hidden in there.  to  Peg laughs it off by saying it's his  Porn Stash , but at the end of the episode it's revealed  it  was  a porn magazine... but more importantly,  a picture of his family looking happy  hidden in ther\n",
      "Truncating  What's really sad is that \"Top of the Heap\" is the 100th episodes and a lot of fans got mad that the 100th episode didn't focus on the Bundys (it had Al in it, but only at the beginning where he's trying to welsh out of his best friend's bet and at the end where  Al breaks in to his friend's apartment and steals back his television ).  to  What's really sad is that \"Top of the Heap\" is the 100th episodes and a lot of fans got mad that the 100th episode didn't focus on the Bundys (it had Al in it, but only at the beginning where he's try\n",
      "Truncating  So I get up, have my watered-down Tang and still-frozen Pop-Tart, get in my car with no upholstery, no gas, and six more payments to fight traffic just for the privilege of putting cheap shoes on the cloven hooves of people like you.  to  So I get up, have my watered-down Tang and still-frozen Pop-Tart, get in my car with no upholstery, no gas, and six more payments to fight traffic just for the privilege of putting cheap shoes on the \n",
      "Truncating  In addition, script supervisor Shelley Herman also worked on  Sesame Street  as assistant to the producer from 1973-1975, as did production executive Robert Braithwaite, who was  Sesame Street 's production supervisor from 1975-1976, in addition to being an associate producer for fellow CTW production  3-2-1 Contact .  to  In addition, script supervisor Shelley Herman also worked on  Sesame Street  as assistant to the producer from 1973-1975, as did production executive Robert Braithwaite, who was  Sesame Street 's prod\n",
      "Truncating  Not said, but invoked in imagery  la Sarah Connor at the end of  Terminator - the last scene of the first season is of   Nikita and Michael  discussing the potential future as they drive away, towards a gathering storm.  to  Not said, but invoked in imagery  la Sarah Connor at the end of  Terminator - the last scene of the first season is of   Nikita and Michael  discussing the potential future as they drive away, towards\n",
      "Truncating  In the same episode, we finally see Alex's earlier shown escape tunnel get used   by Nikita, who uses it to escape from Division following her breakout , after which Percy discovers it and has it sealed.  to  In the same episode, we finally see Alex's earlier shown escape tunnel get used   by Nikita, who uses it to escape from Division following her breakout , after which Percy discovers it and has it seal\n",
      "Truncating  In \"Pandora\", we find out that the nerve agent Jaden stole for Percy in \"Girl's Best Friend\" was   implanted in the fake Black Box he let Nikita steal, set to activate and kill the head of the CIA so that Percy can replace him .  to  In \"Pandora\", we find out that the nerve agent Jaden stole for Percy in \"Girl's Best Friend\" was   implanted in the fake Black Box he let Nikita steal, set to activate and kill the head of the CIA so \n",
      "Truncating  He  reveals  to Alex that he's known about Alex's true identity and her Michael, and Nikita's alliance against him since Kasim was killed, and shows her that Nikita was the one to  kill her father , turns back on her kill chip and forces her to kill Nikita, letting her know she's been monitored the entire time  Season 2 reveals that it's pretty much part of the job description.  to  He  reveals  to Alex that he's known about Alex's true identity and her Michael, and Nikita's alliance against him since Kasim was killed, and shows her that Nikita was the one to  kill her father , t\n",
      "Truncating  The episode \"Echoes\" (1x16) ends with a doozy of a cliffhanger -   while Percy and Amanda are discussing whether or not to \"cancel\" Alex, and Alex is thinking that it may be time to escape Division, the last scene shows Michael awaiting Nikita in her loft.  to  The episode \"Echoes\" (1x16) ends with a doozy of a cliffhanger -   while Percy and Amanda are discussing whether or not to \"cancel\" Alex, and Alex is thinking that it may be time to escape Division, t\n",
      "Truncating  Quite a few in \"All the Way\", for example, Birkhoff naming the Engineer as the one who helped him to   find a leak in Division's network  and Thom mentioning the Russian spy he had to kill to be promoted to field agent.  to  Quite a few in \"All the Way\", for example, Birkhoff naming the Engineer as the one who helped him to   find a leak in Division's network  and Thom mentioning the Russian spy he had to kill to be promo\n",
      "Truncating  In \"Fair Trade\", Birkhoff warns his   replacement  at Division that \"when they're done with you, they'll snap your neck and melt you in acid\", a reference to the Engineer's fate (though we only saw the former on screen).  to  In \"Fair Trade\", Birkhoff warns his   replacement  at Division that \"when they're done with you, they'll snap your neck and melt you in acid\", a reference to the Engineer's fate (though we only saw th\n",
      "Truncating  And the plot of \"Coup de Grace\" revolves around one of these: the attempt to assassinate the prince of Georgia and frame the Georgian president for it, in order to facilitate a coup by   the prince's wife .  to  And the plot of \"Coup de Grace\" revolves around one of these: the attempt to assassinate the prince of Georgia and frame the Georgian president for it, in order to facilitate a coup by   the prince's \n",
      "Truncating  The resulting mess   costs Percy his sole remaining Guardian (though Roan  might  have Guardian augmentation), Division several agents, Carla her life, and Team Nikita manages comes out on top, rescuing Ryan from Division.  to  The resulting mess   costs Percy his sole remaining Guardian (though Roan  might  have Guardian augmentation), Division several agents, Carla her life, and Team Nikita manages comes out on top, rescui\n",
      "Truncating  What Season 2 is shaping up to, with Nikita and company as the Good, Division/Oversight as the Bad, and Gogol/Zetrov as the Evil (though the latter two are pretty interchangeable),   especially now that Percy has recaptured Division from Amanda .  to  What Season 2 is shaping up to, with Nikita and company as the Good, Division/Oversight as the Bad, and Gogol/Zetrov as the Evil (though the latter two are pretty interchangeable),   especially now th\n",
      "Truncating  In \"Glass Houses\",  Jaden comes over to Alex's  place after honestly changing her (mutually) antagonistic attitude towards her after the mutual life risking they did for each other the previous episode, only to inadvertently learn of her double agent status and die in the ensuing fight.  to  In \"Glass Houses\",  Jaden comes over to Alex's  place after honestly changing her (mutually) antagonistic attitude towards her after the mutual life risking they did for each other the previous episod\n"
     ]
    },
    {
     "name": "stdout",
     "output_type": "stream",
     "text": [
      "Truncating  When this plan seemed no longer viable, Ari proposed to frame Semak for killing Alex, and stealing Gogol's operating budget in the ensuing chaos; while 300 million US dollars isn't a  Mega Corp , it's still an incredible amount of money for two people.  to  When this plan seemed no longer viable, Ari proposed to frame Semak for killing Alex, and stealing Gogol's operating budget in the ensuing chaos; while 300 million US dollars isn't a  Mega Corp , it's\n",
      "Truncating  All of Division's missions are named this way, but the most important is \"Operation Sparrow\", which is involved in the last several episodes of the first season, and is revealed in the finale to be   a ruse as part of a  Batman Gambit  to assassinate and replace the director of the CIA .  to  All of Division's missions are named this way, but the most important is \"Operation Sparrow\", which is involved in the last several episodes of the first season, and is revealed in the finale to be   \n",
      "Truncating  The final two minutes of 2.10 are immediately identifiable to  Alias  fans as either an homage or a blatant ripoff of the final two minutes of \"Almost Thirty Years\", right down to the    Not Quite Dead  mother of our heroine, and a shocked \"MOM?!  to  The final two minutes of 2.10 are immediately identifiable to  Alias  fans as either an homage or a blatant ripoff of the final two minutes of \"Almost Thirty Years\", right down to the    Not Quite Dea\n",
      "Truncating  The old Star Wars missile-defense sytem is mentioned, Percy's  Kill Sat  (dubbed the Death Star by Micheal) is called Crossbow (Like Chewie's bowcaster), Birkoff tells Nikita \"May the Force be with you\".  to  The old Star Wars missile-defense sytem is mentioned, Percy's  Kill Sat  (dubbed the Death Star by Micheal) is called Crossbow (Like Chewie's bowcaster), Birkoff tells Nikita \"May the Force be with yo\n",
      "Truncating   by revealing that Nikita was the one who killed her father; Michael's cover is blown and he's imprisoned in Division; the captured black box is revealed to the audience to be a  Trojan Horse  and part of Percy's move against the government; and the episode ends with Alex shooting Nikita .  to   by revealing that Nikita was the one who killed her father; Michael's cover is blown and he's imprisoned in Division; the captured black box is revealed to the audience to be a  Trojan Horse  and par\n",
      "Truncating  Paint the image of Victor's face into a pub sign with \"The Pain in the Arse\" written where the pub's name would normally go, then erect the sign on a flagpole outside the Meldrews' house in the early hours of the morning .  to  Paint the image of Victor's face into a pub sign with \"The Pain in the Arse\" written where the pub's name would normally go, then erect the sign on a flagpole outside the Meldrews' house in the early \n",
      "Truncating  Patrick seems to get away with this, since Margaret still believes the situation is Victor's own fault... until  Pippa unknowingly gives Victor a copy of Patrick's diary, in which he gloats about what he's been doing .  to  Patrick seems to get away with this, since Margaret still believes the situation is Victor's own fault... until  Pippa unknowingly gives Victor a copy of Patrick's diary, in which he gloats about what\n",
      "Truncating  Margaret despite often acting as the  more sensible and sociable of the couple  can often prove to be just as bad tempered and oddball as Victor (and is far more likely to  vent it out on her spouse than vice versa ).  to  Margaret despite often acting as the  more sensible and sociable of the couple  can often prove to be just as bad tempered and oddball as Victor (and is far more likely to  vent it out on her spouse t\n",
      "Truncating     The Meldrews had to move house in the first series 2 episode, due to the owners of the real-life house which had stood in for the Meldrews' house in the location scenes of series 1 wanting too much money to allow the BBC to keep on using it.  to     The Meldrews had to move house in the first series 2 episode, due to the owners of the real-life house which had stood in for the Meldrews' house in the location scenes of series 1 wanting too much\n",
      "Truncating  It later turns out that  the \"cot\" in question is actually a  cow , and a hint as to how the mix-up occurred is given with the accompanying delivery letter, which spells Margaret's name as \"Nargaret Medlrew.  to  It later turns out that  the \"cot\" in question is actually a  cow , and a hint as to how the mix-up occurred is given with the accompanying delivery letter, which spells Margaret's name as \"Nargaret M\n",
      "Truncating  \"  A  literal  example of this trope happens in \"Warm Champagne\"   the street the Meldrews live on after the first series is called Riverbank, and when a nearby old people's estate called River s bank opens it causes no end of confusion, eventually cumulating in one of the residents of Riversbank being mistakenly dropped off at Victor's house and put into the bed.  to  \"  A  literal  example of this trope happens in \"Warm Champagne\"   the street the Meldrews live on after the first series is called Riverbank, and when a nearby old people's estate called River s bank\n",
      "Truncating  The writer, David Renwick, seemed to delight in putting him through bizarre situations at least once an episode (ranging from the next-door neighbour installing a door in his fence to facilitate a nice chat to having to deal with an old lady's suicide), so it's not surprising he was so disgruntled.  to  The writer, David Renwick, seemed to delight in putting him through bizarre situations at least once an episode (ranging from the next-door neighbour installing a door in his fence to facilitate a nic\n",
      "Truncating  The sequel,  Going Straight , depicting Fletcher's life after his release, was also popular (though less so) and won a BAFTA but was limited to one series by  actor Richard Beckinsale's very untimely death .  to  The sequel,  Going Straight , depicting Fletcher's life after his release, was also popular (though less so) and won a BAFTA but was limited to one series by  actor Richard Beckinsale's very untimely \n",
      "Truncating  Originally written as a  dramedy , with Steele intended to be a comic-relief figurehead while the focus was on Laura, but Brosnan's charisma and the chemistry between him and Zimbalist took over the plots.  to  Originally written as a  dramedy , with Steele intended to be a comic-relief figurehead while the focus was on Laura, but Brosnan's charisma and the chemistry between him and Zimbalist took over the p\n",
      "Truncating  One episode actually used this practice as a major plot pointThe killer du jour had used a co-worker as an alibi, noting that the two had watched a classic TV show together at the time of the murder (unbeknownst to the co-worker, the culprit had  used a VCR and reset the clocks ; but it turned out that  due to syndication, the scene the two had watched together had been cut .  to  One episode actually used this practice as a major plot pointThe killer du jour had used a co-worker as an alibi, noting that the two had watched a classic TV show together at the time of the murder (\n",
      "Truncating  \"  Nicely played with in \"You're Steele the One for Me,\" where the expectation of a punny title (and the broken English in which the phrase is said in the episode) make the audience believe it's a pun for \"you're still the one for me,\" but it's actually meant literally, as in, \"you're Remington Steele, the person I'm trying to reach.  to  \"  Nicely played with in \"You're Steele the One for Me,\" where the expectation of a punny title (and the broken English in which the phrase is said in the episode) make the audience believe it's a pun\n",
      "Truncating  Averted; chainsaws were one of the least effective weapons seen on Robot Wars, even House Robot Matilda ditched hers after Series 4 (the new spinning disc was designed to be interchangable with the chainsaw, but the chainsaw was never used again).  to  Averted; chainsaws were one of the least effective weapons seen on Robot Wars, even House Robot Matilda ditched hers after Series 4 (the new spinning disc was designed to be interchangable with the ch\n",
      "Truncating  Terrorhurtz was a double-subversion; in its first Wars it failed to do any better than Killerhurtz despite the look, won only one battle (and that was because a house robot interfered) and only in the Sixth Wars did it really get going.  to  Terrorhurtz was a double-subversion; in its first Wars it failed to do any better than Killerhurtz despite the look, won only one battle (and that was because a house robot interfered) and only in the\n"
     ]
    },
    {
     "name": "stdout",
     "output_type": "stream",
     "text": [
      "Truncating  Elizabeth Berkley (\"Jessie\") was somewhat of a borderline case, as she was 17 when her character was introduced, pushing her to around 20-21 by the time the series wrapped (playing a high-school senior).  to  Elizabeth Berkley (\"Jessie\") was somewhat of a borderline case, as she was 17 when her character was introduced, pushing her to around 20-21 by the time the series wrapped (playing a high-school senio\n",
      "Truncating  As a result, the character of Tori was hastily created to fill in the roles left by the absence of the two aforementioned characters, and especially in the case of Kaposwki's absence,   serve as a love interest for Zack Morris.  to  As a result, the character of Tori was hastily created to fill in the roles left by the absence of the two aforementioned characters, and especially in the case of Kaposwki's absence,   serve as a lov\n",
      "Truncating  The Tori episodes were filmed after the series finale and the made-for-TV movie that were supposed to wrap up the plot of the series, but were inserted into the middle of the season, as their storylines take place at the high school, in the usual canon of the series.  to  The Tori episodes were filmed after the series finale and the made-for-TV movie that were supposed to wrap up the plot of the series, but were inserted into the middle of the season, as their storylin\n",
      "Truncating  This has lead to a series of gigantic plot holes that fans call the \"Tori Paradox\": Out of nowhere, Jessie and Kelly unexplainably disappear; Tori starts as a new student at the school and instantly befriends the main cast, who are carrying on as if Jessie and Kelly never existed; She is established as some kind of hybrid of Jessie and Kelly, thus she is beautiful and athletic while being smart, snarky and feminist;   Zack begins a romantic relationship with her with absolutely no mention of his relationship with Kelly and showing no remorse for the fact that he is potentially cheating on her with Tori ;   Zack and Tori break up  and all of a sudden, she is gone with no explanation of her fate; Jessie and Kelly reappear and everything reverts back to how it was before Tori appeared,   Zack and Kelly get engaged and everyone graduates  with no mention of Tori whatsoever, as if she was never there in the first place.  to  This has lead to a series of gigantic plot holes that fans call the \"Tori Paradox\": Out of nowhere, Jessie and Kelly unexplainably disappear; Tori starts as a new student at the school and instantly b\n",
      "Truncating  Jerry was the technical  Only Sane Man  between these colorful personalities, but a highly ineffective one because, like his friends, he is supremely indifferent towards others, opting instead for the role of  Deadpan Snarker  extraordinaire.  to  Jerry was the technical  Only Sane Man  between these colorful personalities, but a highly ineffective one because, like his friends, he is supremely indifferent towards others, opting instead for the\n",
      "Truncating  Susan's father apparently once had a torrid love affair with author John Cheever and late in season 4 Susan is seen dating another woman, although in her case it's implied that it's a result of dating George, since at the end of the episode she starts dating the woman George dated after her.  to  Susan's father apparently once had a torrid love affair with author John Cheever and late in season 4 Susan is seen dating another woman, although in her case it's implied that it's a result of dating\n",
      "Truncating  Bay and Emmett having a huge spat about Emmett's living arrangements...which happens at the same time that Toby and Simone have a spat about Simone's trustworthiness, leading to  Emmett and Simone sleeping together.  to  Bay and Emmett having a huge spat about Emmett's living arrangements...which happens at the same time that Toby and Simone have a spat about Simone's trustworthiness, leading to  Emmett and Simone sle\n",
      "Truncating    Emmett  turns out to have a surprisingly deep voice for a teenager, although that also can have something to do with him being deaf the deeper your voice goes, the easier it is to feel the vibrations and know you're making sound.  to    Emmett  turns out to have a surprisingly deep voice for a teenager, although that also can have something to do with him being deaf the deeper your voice goes, the easier it is to feel the vibration\n",
      "Truncating  Supporting actors included Don Knotts as Deputy Barney Fife;   Ron  Ronny Howard (pre- Happy Days ) as Andy's son, Opie; Frances Bavier as Andy's Aunt Bee Taylor, and George Lindsey and Jim Nabors as the Pyle cousins, Goober and Gomer Pyle.  to  Supporting actors included Don Knotts as Deputy Barney Fife;   Ron  Ronny Howard (pre- Happy Days ) as Andy's son, Opie; Frances Bavier as Andy's Aunt Bee Taylor, and George Lindsey and Jim Nabors as \n",
      "Truncating  Along with each animal on the countdown, the program presents a computer graphics segment which compares the animal's ability with something equivalent in humans by computer animation in green (in the short-lived half-hour mode, blue) also color of both logos, followed by an interview segment with people who share some common trait.  to  Along with each animal on the countdown, the program presents a computer graphics segment which compares the animal's ability with something equivalent in humans by computer animation in green (in the\n",
      "Truncating  A more appropriate anscestor for the Komodo dragon would be the mosasaur, a sea-going lizard that lived around the same time as the last dinosaurs and are thought to be distantly related to modern-day monitor lizards.  to  A more appropriate anscestor for the Komodo dragon would be the mosasaur, a sea-going lizard that lived around the same time as the last dinosaurs and are thought to be distantly related to modern-day\n",
      "Truncating  Talented artist/receptionist Dawn wanting to be an artist, but stuck working a dead-end job with a deadbeat lover who constantly belittles her talent, because he doesn't want her to give up the paycheck that supports the two.  to  Talented artist/receptionist Dawn wanting to be an artist, but stuck working a dead-end job with a deadbeat lover who constantly belittles her talent, because he doesn't want her to give up the payche\n",
      "Truncating  Current showrunner Paul Lieberstein has admitted that Jim's  demotion back to Assistant Regional Manager, after being promoted half a season earlier  was a result of poor audience response to the change and Dwight's resulting plot to  seriously get him fired .  to  Current showrunner Paul Lieberstein has admitted that Jim's  demotion back to Assistant Regional Manager, after being promoted half a season earlier  was a result of poor audience response to the chan\n",
      "Truncating  First, Dwight wears a ridiculous  Three Wolves Howling at the Moon t-shirt  that became an Amazon.com legend for the hilarious fake reviews, and second, the wedding itself, which took after  the YouTube video with the bridal party dancing down the aisle.  to  First, Dwight wears a ridiculous  Three Wolves Howling at the Moon t-shirt  that became an Amazon.com legend for the hilarious fake reviews, and second, the wedding itself, which took after  the YouTu\n",
      "Truncating  \" So apparently you can pretend to fire her, make fun of her behind her back, and smuggle a flock of geese into her car, but tell her that her boyfriend used to date another co-worker and you're  deader than dead .  to  \" So apparently you can pretend to fire her, make fun of her behind her back, and smuggle a flock of geese into her car, but tell her that her boyfriend used to date another co-worker and you're  dead\n",
      "Truncating  Averted in the season 7 Halloween special with Oscar complaining that the coupon book prize was stupid but   he was the one to win the 15000 dollar coupon book after saying it costs more to get all the things in it .  to  Averted in the season 7 Halloween special with Oscar complaining that the coupon book prize was stupid but   he was the one to win the 15000 dollar coupon book after saying it costs more to get all th\n",
      "Truncating  It's the only possible explanation for why Michael was never fired (or arrested); although he is known to be an extremely good salesman (and in one episode, it's alluded to that he was in fact one of the most successful salesmen in the company's history), his management skills are... inferior.  to  It's the only possible explanation for why Michael was never fired (or arrested); although he is known to be an extremely good salesman (and in one episode, it's alluded to that he was in fact one of \n"
     ]
    },
    {
     "name": "stdout",
     "output_type": "stream",
     "text": [
      "Truncating  Dwight, who manages a one night stand with one of Pam's friends at  her and Jim's wedding  and handles it with a level of expertise that suggests experience in the field   and when Pam's friend approaches Dwight at the wedding, he's doing well while chatting with another girl .  to  Dwight, who manages a one night stand with one of Pam's friends at  her and Jim's wedding  and handles it with a level of expertise that suggests experience in the field   and when Pam's friend approa\n",
      "Truncating  And on Take Your Daughter to Work Day, where he talks to the camera about how he has to make sure none of the young girls see the porn on his computer, then realizes they could be doing that right now.  to  And on Take Your Daughter to Work Day, where he talks to the camera about how he has to make sure none of the young girls see the porn on his computer, then realizes they could be doing that right now\n",
      "Truncating  When Dwight becomes acting manager he forces everyone to use an antiquated and dangerous punch clock, staggers their lunches so everyone eats alone, changes everyone's title to Junior Employee and has everyone enter a twenty one digit code everytime they use the photocopier.  to  When Dwight becomes acting manager he forces everyone to use an antiquated and dangerous punch clock, staggers their lunches so everyone eats alone, changes everyone's title to Junior Employee and has\n",
      "Truncating  If it's possible to take a straight example even further, Ry ji almost punching out the chief in #4, treated merely as a  Hot Blooded   Sh nen  staple, carries even more serious implications in #5  with the reveal of his  Superpowered   Ax Crazy side .  to  If it's possible to take a straight example even further, Ry ji almost punching out the chief in #4, treated merely as a  Hot Blooded   Sh nen  staple, carries even more serious implications in #5  wi\n",
      "Truncating  Lennartsson with Lucci, because 'Lucci' seems to have the mentality of a bloodcrazed megalomaniac , speaking in nonsensical gibbers  which only Lennartsson understands   things like \"Sunder and rule\",  and so, it seems he's the main inspiration behind Lennartsson's dedication to turn the Professor and the Count against each other so he can rule the galaxy alone .  to  Lennartsson with Lucci, because 'Lucci' seems to have the mentality of a bloodcrazed megalomaniac , speaking in nonsensical gibbers  which only Lennartsson understands   things like \"Sunder and rule\",\n",
      "Truncating  At the end of \"Secrets of the Father\": \"The\" D'Artagnan:  I ordered you confined to the garrison... and you disobeyed my orders yet again, knowing it would assure your expulsion from the Musketeers... and ( beat ) you saved my life.  to  At the end of \"Secrets of the Father\": \"The\" D'Artagnan:  I ordered you confined to the garrison... and you disobeyed my orders yet again, knowing it would assure your expulsion from the Musketeers...\n",
      "Truncating   \"The Invincible Sword\"  ends with  Jacqueline's experience with the  Evil Weapon  being  All Just a Dream , then reveals that  the sword wielder is actually an escaped mental patient and the sword is, presumably, neither magic nor evil.  to   \"The Invincible Sword\"  ends with  Jacqueline's experience with the  Evil Weapon  being  All Just a Dream , then reveals that  the sword wielder is actually an escaped mental patient and the sword is\n",
      "Finishes vectorize_X_dependency\n",
      "(1066, 160751)\n",
      "Accuracy: 0.623\n",
      "             precision    recall  f1-score   support\n",
      "\n",
      "      False      0.600     0.571     0.585       496\n",
      "       True      0.641     0.668     0.655       570\n",
      "\n",
      "avg / total      0.622     0.623     0.622      1066\n",
      "\n"
     ]
    },
    {
     "data": {
      "text/plain": [
       "0.6196749595296924"
      ]
     },
     "execution_count": 22,
     "metadata": {},
     "output_type": "execute_result"
    }
   ],
   "source": [
    "experiment(stemmed_phi, fit_svc, train, dev1, should_parse=True)"
   ]
  },
  {
   "cell_type": "code",
   "execution_count": null,
   "metadata": {},
   "outputs": [
    {
     "name": "stdout",
     "output_type": "stream",
     "text": [
      "In train!\n",
      "Gets to vectorizer\n",
      "Finishes vectorize_X_dependency\n"
     ]
    },
    {
     "name": "stderr",
     "output_type": "stream",
     "text": [
      "/anaconda2/envs/nlu/lib/python3.6/site-packages/sklearn/decomposition/online_lda.py:536: DeprecationWarning: The default value for 'learning_method' will be changed from 'online' to 'batch' in the release 0.20. This warning was introduced in 0.18.\n",
      "  DeprecationWarning)\n"
     ]
    }
   ],
   "source": [
    "experiment(stemmed_phi, fit_svc, train, dev1, should_parse=True)"
   ]
  },
  {
   "cell_type": "markdown",
   "metadata": {},
   "source": [
    "# Creating train_parsed_full.txt"
   ]
  },
  {
   "cell_type": "code",
   "execution_count": 27,
   "metadata": {
    "collapsed": true
   },
   "outputs": [],
   "source": [
    "test = Counter({'fox-jumps': 1, 'The-fox': 1, 'quick-fox': 1, 'brown-fox': 1, 'dog-jumps': 1, 'over-dog': 1, 'the-dog': 1, 'lazy-dog': 1})"
   ]
  },
  {
   "cell_type": "code",
   "execution_count": 28,
   "metadata": {},
   "outputs": [
    {
     "name": "stdout",
     "output_type": "stream",
     "text": [
      "Counter({'fox-jumps': 1, 'The-fox': 1, 'quick-fox': 1, 'brown-fox': 1, 'dog-jumps': 1, 'over-dog': 1, 'the-dog': 1, 'lazy-dog': 1})\n"
     ]
    }
   ],
   "source": [
    "print(test)"
   ]
  },
  {
   "cell_type": "code",
   "execution_count": null,
   "metadata": {
    "collapsed": true
   },
   "outputs": [],
   "source": [
    "import pickle\n",
    "output = pickle.dumps(test)\n",
    "pickle.loads(output)"
   ]
  },
  {
   "cell_type": "code",
   "execution_count": 23,
   "metadata": {
    "collapsed": true
   },
   "outputs": [],
   "source": [
    "X = [train.loc[i, 'sentence'] for i in range(len(train.index))]"
   ]
  },
  {
   "cell_type": "code",
   "execution_count": null,
   "metadata": {
    "collapsed": true
   },
   "outputs": [],
   "source": [
    "file = open(\"train_parsed.txt\", \"wb\")\n",
    "for example in X:\n",
    "    output = pickle.dump(dep_phi(example), file)\n",
    "file.close() "
   ]
  },
  {
   "cell_type": "code",
   "execution_count": 25,
   "metadata": {
    "collapsed": true
   },
   "outputs": [],
   "source": [
    "f = open(\"train_parsed.txt\", \"rb\")"
   ]
  },
  {
   "cell_type": "code",
   "execution_count": 72,
   "metadata": {},
   "outputs": [
    {
     "data": {
      "text/plain": [
       "Counter({'Because-Die': 1,\n",
       "         'Die-became': 1,\n",
       "         'EVEN-WORSE': 1,\n",
       "         'Never-Die': 1,\n",
       "         'Say-Die': 1,\n",
       "         'WORSE-became': 1,\n",
       "         'a-scene': 1,\n",
       "         'arguably-WORSE': 1,\n",
       "         'horrifying-scene': 1,\n",
       "         'of-Die': 1,\n",
       "         'scene-became': 1})"
      ]
     },
     "execution_count": 72,
     "metadata": {},
     "output_type": "execute_result"
    }
   ],
   "source": [
    "pickle.load(f)"
   ]
  },
  {
   "cell_type": "code",
   "execution_count": 26,
   "metadata": {
    "collapsed": true
   },
   "outputs": [],
   "source": [
    "objs = []\n",
    "while 1:\n",
    "    try:\n",
    "        o = pickle.load(f)\n",
    "    except EOFError:\n",
    "        break\n",
    "    objs.append(o)"
   ]
  },
  {
   "cell_type": "code",
   "execution_count": 38,
   "metadata": {},
   "outputs": [
    {
     "name": "stdout",
     "output_type": "stream",
     "text": [
      "10506\n",
      "Counter({'CMOA-suspected': 1, 'Doubles-CMOA': 1, 'as-CMOA': 1, 'a-CMOA': 1, 'Craig-CMOA': 1, 'for-Craig': 1, 'ruining-suspected': 1, 'as-ruining': 1, 'despite-ruining': 1, 'single-handedly-ruining': 1, 'mission-ruining': 1, 'that-mission': 1, 'person-suspected': 1, 'not-person': 1, 'one-person': 1, 'him-suspected': 1, 'Mole-suspected': 1, 'of-Mole': 1, 'being-Mole': 1, 'The-Mole': 1})\n",
      "When the first, the extremely weird  33 1/3 Revolutions per Monkee , bombed in the ratings, plans for the other two specials were cancelled.\n"
     ]
    }
   ],
   "source": [
    "print(len(objs))\n",
    "print(objs[10505])\n",
    "print(X[10506])"
   ]
  },
  {
   "cell_type": "code",
   "execution_count": 89,
   "metadata": {},
   "outputs": [
    {
     "name": "stdout",
     "output_type": "stream",
     "text": [
      "Counter({'Michelotto-matter-of-fact': 1, 'is-matter-of-fact': 1, 'utterly-matter-of-fact': 1, 'informs-matter-of-fact': 1, 'when-informs': 1, 'he-informs': 1, 'Cesare-informs': 1, 'murdered-informs': 1, 'that-murdered': 1, 'he-murdered': 1, 'father-murdered': 1, 'his-father': 1, 'own-father': 1, 'and-matter-of-fact': 1, 'unfazed-matter-of-fact': 1, 'reaction-unfazed': 1, 'Cesare-reaction': 1, \"'s-Cesare\": 1, 'is-unfazed': 1, 'equally-unfazed': 1})\n"
     ]
    }
   ],
   "source": [
    "print(dep_phi(\" Michelotto  is utterly matter-of-fact when he informs Cesare that he  murdered his own father , and Cesare's reaction is equally unfazed.\"))"
   ]
  },
  {
   "cell_type": "code",
   "execution_count": 79,
   "metadata": {},
   "outputs": [
    {
     "name": "stdout",
     "output_type": "stream",
     "text": [
      "Counter({'Die-became': 1, 'Because-Die': 1, 'of-Die': 1, 'Never-Die': 1, 'Say-Die': 1, 'scene-became': 1, 'a-scene': 1, 'horrifying-scene': 1, 'WORSE-became': 1, 'arguably-WORSE': 1, 'EVEN-WORSE': 1})\n"
     ]
    }
   ],
   "source": [
    "print(objs[0])"
   ]
  },
  {
   "cell_type": "code",
   "execution_count": 90,
   "metadata": {
    "collapsed": true
   },
   "outputs": [],
   "source": [
    "f.close()"
   ]
  },
  {
   "cell_type": "code",
   "execution_count": null,
   "metadata": {
    "collapsed": true
   },
   "outputs": [],
   "source": [
    "file = open(\"train_parsed2.txt\", \"wb\")\n",
    "for example in X[9910:]:\n",
    "    output = pickle.dump(dep_phi(example), file)\n",
    "file.close() "
   ]
  },
  {
   "cell_type": "code",
   "execution_count": 29,
   "metadata": {
    "collapsed": true
   },
   "outputs": [],
   "source": [
    "f = open(\"train_parsed2.txt\", \"rb\")"
   ]
  },
  {
   "cell_type": "code",
   "execution_count": 30,
   "metadata": {
    "collapsed": true
   },
   "outputs": [],
   "source": [
    "objs2 = []\n",
    "while 1:\n",
    "    try:\n",
    "        o = pickle.load(f)\n",
    "    except EOFError:\n",
    "        break\n",
    "    objs2.append(o)"
   ]
  },
  {
   "cell_type": "code",
   "execution_count": 31,
   "metadata": {
    "collapsed": true
   },
   "outputs": [],
   "source": [
    "f.close()"
   ]
  },
  {
   "cell_type": "code",
   "execution_count": 32,
   "metadata": {},
   "outputs": [
    {
     "name": "stdout",
     "output_type": "stream",
     "text": [
      "596\n"
     ]
    }
   ],
   "source": [
    "print(len(objs2))"
   ]
  },
  {
   "cell_type": "code",
   "execution_count": 111,
   "metadata": {},
   "outputs": [
    {
     "name": "stdout",
     "output_type": "stream",
     "text": [
      "10506\n",
      "Counter({'CMOA-suspected': 1, 'Doubles-CMOA': 1, 'as-CMOA': 1, 'a-CMOA': 1, 'Craig-CMOA': 1, 'for-Craig': 1, 'ruining-suspected': 1, 'as-ruining': 1, 'despite-ruining': 1, 'single-handedly-ruining': 1, 'mission-ruining': 1, 'that-mission': 1, 'person-suspected': 1, 'not-person': 1, 'one-person': 1, 'him-suspected': 1, 'Mole-suspected': 1, 'of-Mole': 1, 'being-Mole': 1, 'The-Mole': 1})\n",
      "When the first, the extremely weird  33 1/3 Revolutions per Monkee , bombed in the ratings, plans for the other two specials were cancelled.\n"
     ]
    }
   ],
   "source": [
    "final = objs+objs2\n",
    "print(len(final))\n",
    "print(final[-1])\n",
    "print(X[10506])"
   ]
  },
  {
   "cell_type": "code",
   "execution_count": 108,
   "metadata": {},
   "outputs": [
    {
     "name": "stdout",
     "output_type": "stream",
     "text": [
      "596\n",
      "Counter({'CMOA-suspected': 1, 'Doubles-CMOA': 1, 'as-CMOA': 1, 'a-CMOA': 1, 'Craig-CMOA': 1, 'for-Craig': 1, 'ruining-suspected': 1, 'as-ruining': 1, 'despite-ruining': 1, 'single-handedly-ruining': 1, 'mission-ruining': 1, 'that-mission': 1, 'person-suspected': 1, 'not-person': 1, 'one-person': 1, 'him-suspected': 1, 'Mole-suspected': 1, 'of-Mole': 1, 'being-Mole': 1, 'The-Mole': 1})\n"
     ]
    }
   ],
   "source": [
    "print(len(objs2))\n",
    "print(objs2[-1])"
   ]
  },
  {
   "cell_type": "code",
   "execution_count": 41,
   "metadata": {},
   "outputs": [
    {
     "name": "stdout",
     "output_type": "stream",
     "text": [
      "Counter({'bombed-cancelled': 1, 'When-bombed': 1, 'first-bombed': 1, 'the-first': 1, 'Revolutions-first': 1, 'the-Revolutions': 1, 'weird-Revolutions': 1, 'extremely-weird': 1, '33-1/3-Revolutions': 1, 'Monkee-Revolutions': 1, 'per-Monkee': 1, 'ratings-bombed': 1, 'in-ratings': 1, 'the-ratings': 1, 'plans-cancelled': 1, 'specials-plans': 1, 'for-specials': 1, 'the-specials': 1, 'other-specials': 1, 'two-specials': 1, 'were-cancelled': 1})\n"
     ]
    }
   ],
   "source": [
    "print(dep_phi(\"When the first, the extremely weird 33-1/3 Revolutions per Monkee , bombed in the ratings, plans for the other two specials were cancelled.\"))"
   ]
  },
  {
   "cell_type": "code",
   "execution_count": null,
   "metadata": {
    "collapsed": true
   },
   "outputs": [],
   "source": [
    "file = open(\"train_parsed3.txt\", \"wb\")\n",
    "pickle.dump(dep_phi(\"When the first, the extremely weird 33-1/3 Revolutions per Monkee , bombed in the ratings, plans for the other two specials were cancelled.\"), file)\n",
    "for example in X[10507:]:\n",
    "    print(example)\n",
    "    output = pickle.dump(dep_phi(example), file)\n",
    "file.close() "
   ]
  },
  {
   "cell_type": "code",
   "execution_count": 43,
   "metadata": {
    "collapsed": true
   },
   "outputs": [],
   "source": [
    "file.close()"
   ]
  },
  {
   "cell_type": "code",
   "execution_count": 44,
   "metadata": {
    "collapsed": true
   },
   "outputs": [],
   "source": [
    "f = open(\"train_parsed3.txt\", \"rb\")"
   ]
  },
  {
   "cell_type": "code",
   "execution_count": 45,
   "metadata": {
    "collapsed": true
   },
   "outputs": [],
   "source": [
    "objs3 = []\n",
    "while 1:\n",
    "    try:\n",
    "        o = pickle.load(f)\n",
    "    except EOFError:\n",
    "        break\n",
    "    objs3.append(o)"
   ]
  },
  {
   "cell_type": "code",
   "execution_count": 54,
   "metadata": {
    "collapsed": true
   },
   "outputs": [],
   "source": [
    "f.close()"
   ]
  },
  {
   "cell_type": "code",
   "execution_count": 46,
   "metadata": {},
   "outputs": [
    {
     "name": "stdout",
     "output_type": "stream",
     "text": [
      "1260\n",
      "Counter({'Where-go': 1, 'do-go': 1, 'I-go': 1})\n"
     ]
    }
   ],
   "source": [
    "print(len(objs3))\n",
    "print(objs3[-1])"
   ]
  },
  {
   "cell_type": "code",
   "execution_count": 48,
   "metadata": {
    "collapsed": true
   },
   "outputs": [],
   "source": [
    "final = objs + objs3"
   ]
  },
  {
   "cell_type": "code",
   "execution_count": 55,
   "metadata": {},
   "outputs": [
    {
     "name": "stdout",
     "output_type": "stream",
     "text": [
      "11766\n",
      "Counter({'Where-go': 1, 'do-go': 1, 'I-go': 1})\n",
      "After the gang has learned that  Cloudcuckoolander  Lowell's family possesses a huge family trust which all Mathers get a huge payout from upon turning 31 1/2 years old: Antonio:  God, if only I'd been born a Mather!\n"
     ]
    }
   ],
   "source": [
    "print(len(final))\n",
    "print(final[-1])\n",
    "print(X[11766])"
   ]
  },
  {
   "cell_type": "code",
   "execution_count": null,
   "metadata": {
    "collapsed": true
   },
   "outputs": [],
   "source": [
    "file = open(\"train_parsed4.txt\", \"wb\")\n",
    "pickle.dump(dep_phi(\"After the gang has learned that  Cloudcuckoolander  Lowell's family possesses a huge family trust which all Mathers get a huge payout from upon turning 31-1/2 years old: Antonio:  God, if only I'd been born a Mather!\"), file)\n",
    "for example in X[11767:]:\n",
    "    print(example)\n",
    "    output = pickle.dump(dep_phi(example), file)\n",
    "file.close() "
   ]
  },
  {
   "cell_type": "code",
   "execution_count": 57,
   "metadata": {
    "collapsed": true
   },
   "outputs": [],
   "source": [
    "f = open(\"train_parsed4.txt\", \"rb\")\n",
    "objs4 = []\n",
    "while 1:\n",
    "    try:\n",
    "        o = pickle.load(f)\n",
    "    except EOFError:\n",
    "        break\n",
    "    objs4.append(o)\n",
    "f.close()"
   ]
  },
  {
   "cell_type": "code",
   "execution_count": 58,
   "metadata": {},
   "outputs": [
    {
     "name": "stdout",
     "output_type": "stream",
     "text": [
      "204\n"
     ]
    }
   ],
   "source": [
    "print(len(objs4))"
   ]
  },
  {
   "cell_type": "code",
   "execution_count": 59,
   "metadata": {},
   "outputs": [
    {
     "name": "stdout",
     "output_type": "stream",
     "text": [
      "11970\n",
      "11970\n"
     ]
    }
   ],
   "source": [
    "final = final + objs4\n",
    "print(len(final))\n",
    "print(len(X))"
   ]
  },
  {
   "cell_type": "code",
   "execution_count": 62,
   "metadata": {
    "collapsed": true
   },
   "outputs": [],
   "source": [
    "f = open(\"train_parsed_full.txt\", \"rb\")\n",
    "train_parsed = []\n",
    "while 1:\n",
    "    try:\n",
    "        o = pickle.load(f)\n",
    "    except EOFError:\n",
    "        break\n",
    "    train_parsed.append(o)\n",
    "f.close()"
   ]
  },
  {
   "cell_type": "code",
   "execution_count": 63,
   "metadata": {},
   "outputs": [
    {
     "name": "stdout",
     "output_type": "stream",
     "text": [
      "11970\n"
     ]
    }
   ],
   "source": [
    "print(len(train_parsed))"
   ]
  },
  {
   "cell_type": "code",
   "execution_count": 67,
   "metadata": {},
   "outputs": [
    {
     "name": "stdout",
     "output_type": "stream",
     "text": [
      "Counter({'Marshals-burst': 1, 'claiming-burst': 1, 'is-claiming': 1, 'that-is': 1, 'fugitive-is': 1, 'a-fugitive': 1, 'there-is': 1, 'they-burst': 1, 'so-they': 1, 'in-burst': 1, 'arrest-burst': 1, 'to-arrest': 1, 'him-arrest': 1, 'and-arrest': 1, 'cause-arrest': 1, 'shootout-cause': 1, 'a-shootout': 1})\n",
      "Marshals, claiming that a fugitive is there, so they burst in to arrest him and cause a shootout.\n"
     ]
    }
   ],
   "source": [
    "print(train_parsed[11003])\n",
    "print(X[11003])"
   ]
  },
  {
   "cell_type": "code",
   "execution_count": 66,
   "metadata": {},
   "outputs": [
    {
     "name": "stdout",
     "output_type": "stream",
     "text": [
      "SLF4J: Failed to load class \"org.slf4j.impl.StaticLoggerBinder\".\n",
      "SLF4J: Defaulting to no-operation (NOP) logger implementation\n",
      "SLF4J: See http://www.slf4j.org/codes.html#StaticLoggerBinder for further details.\n",
      "Parsing file: /var/folders/tk/sdl353716c17z4dyf_77pmd00000gp/T/tmp_u83c9q8\n",
      "Parsing [sent. 1 len. 167]: Well ... Peter is in love with Olivia who liked John at first but he died and she liked Peter back but she does n't remember him as of season 4 and now has a thing for Lincoln who is quite smitten back but is friends with Peter who seems to ship them as well for some reason but Olivia remembered Peter again and now Lincoln is broken hearted and in the alternate time line Peter thought that Fauxlivia was Olivia and spent seven episodes enamoured with her but she was dating Frank but Alternate Lincoln liked her too and seemed to be fond of our Olivia as well when Walternate mind raped her into thinking she was Fauxlivia but in the amber timeline Fauxlivia has broken up with Frank and Lincoln was her `` shoulder to cry on '' but then he died but the other Lincoln said he 'd stay and help and Seth Gabel ships them and ... I think that 's it .\n",
      "Exception in thread \"main\" java.lang.OutOfMemoryError: GC overhead limit exceeded\n",
      "\tat edu.stanford.nlp.process.PTB2TextLexer.<init>(PTB2TextLexer.java:827)\n",
      "\tat edu.stanford.nlp.process.PTBTokenizer.ptb2Text(PTBTokenizer.java:333)\n",
      "\tat edu.stanford.nlp.process.PTBTokenizer.ptbToken2Text(PTBTokenizer.java:349)\n",
      "\tat edu.stanford.nlp.trees.TreePrint.printTreeInternal(TreePrint.java:581)\n",
      "\tat edu.stanford.nlp.trees.TreePrint.printTree(TreePrint.java:267)\n",
      "\tat edu.stanford.nlp.parser.lexparser.ParseFiles.processResults(ParseFiles.java:287)\n",
      "\tat edu.stanford.nlp.parser.lexparser.ParseFiles.parseFiles(ParseFiles.java:216)\n",
      "\tat edu.stanford.nlp.parser.lexparser.ParseFiles.parseFiles(ParseFiles.java:75)\n",
      "\tat edu.stanford.nlp.parser.lexparser.LexicalizedParser.main(LexicalizedParser.java:1518)\n",
      "\n"
     ]
    },
    {
     "data": {
      "text/plain": [
       "0.6141201960551175"
      ]
     },
     "execution_count": 17,
     "metadata": {},
     "output_type": "execute_result"
    }
   ],
   "source": [
    "experiment(dep_phi, fit_svc, train, dev1, should_parse=False)"
   ]
  },
  {
   "cell_type": "markdown",
   "metadata": {},
   "source": [
    "# Latent Dirichlet Allocation"
   ]
  },
  {
   "cell_type": "code",
   "execution_count": 22,
   "metadata": {
    "collapsed": true
   },
   "outputs": [],
   "source": [
    "from sklearn.decomposition import LatentDirichletAllocation"
   ]
  },
  {
   "cell_type": "code",
   "execution_count": 73,
   "metadata": {
    "collapsed": true
   },
   "outputs": [],
   "source": [
    "def build_dataset(data, phi, vectorizer=None, lda=None):\n",
    "    X = [data.loc[i, 'sentence'] for i in range(len(data.index))]\n",
    "    y = [data.loc[i, 'spoiler'] for i in range(len(data.index))]\n",
    "    feat_matrix, vectorizer = vectorize_X(X, phi, vectorizer)\n",
    "    if lda==None:\n",
    "        lda = LatentDirichletAllocation(n_components=200)\n",
    "        feat_matrix = lda.fit_transform(feat_matrix)\n",
    "    else:\n",
    "        feat_matrix = lda.transform(feat_matrix)\n",
    "    return (normalize(feat_matrix), y, vectorizer, lda)"
   ]
  },
  {
   "cell_type": "code",
   "execution_count": 74,
   "metadata": {
    "collapsed": true
   },
   "outputs": [],
   "source": [
    "def experiment(phi, train_func, train_data, test_data):\n",
    "    X, y, vectorizer, lda = build_dataset(train_data, phi)\n",
    "    print(len(X[0]))\n",
    "    mod = train_func(X, y)\n",
    "    X_test, y_test, vectorizer, lda = build_dataset(test_data, phi, vectorizer=vectorizer, lda=lda)\n",
    "    predictions = mod.predict(X_test)\n",
    "    print('Accuracy: %0.03f' % accuracy_score(y_test, predictions))\n",
    "    print(classification_report(y_test, predictions, digits=3))\n",
    "    return f1_score(y_test, predictions, average = 'macro', pos_label=None)"
   ]
  },
  {
   "cell_type": "code",
   "execution_count": 75,
   "metadata": {},
   "outputs": [
    {
     "ename": "EOFError",
     "evalue": "Ran out of input",
     "output_type": "error",
     "traceback": [
      "\u001b[0;31m---------------------------------------------------------------------------\u001b[0m",
      "\u001b[0;31mEOFError\u001b[0m                                  Traceback (most recent call last)",
      "\u001b[0;32m<ipython-input-75-214740a4ddeb>\u001b[0m in \u001b[0;36m<module>\u001b[0;34m()\u001b[0m\n\u001b[0;32m----> 1\u001b[0;31m \u001b[0mexperiment\u001b[0m\u001b[0;34m(\u001b[0m\u001b[0munigrams_phi\u001b[0m\u001b[0;34m,\u001b[0m \u001b[0mfit_svc\u001b[0m\u001b[0;34m,\u001b[0m \u001b[0mtrain\u001b[0m\u001b[0;34m,\u001b[0m \u001b[0mdev1\u001b[0m\u001b[0;34m)\u001b[0m\u001b[0;34m\u001b[0m\u001b[0m\n\u001b[0m",
      "\u001b[0;32m<ipython-input-74-77520bb19701>\u001b[0m in \u001b[0;36mexperiment\u001b[0;34m(phi, train_func, train_data, test_data)\u001b[0m\n\u001b[1;32m      1\u001b[0m \u001b[0;32mdef\u001b[0m \u001b[0mexperiment\u001b[0m\u001b[0;34m(\u001b[0m\u001b[0mphi\u001b[0m\u001b[0;34m,\u001b[0m \u001b[0mtrain_func\u001b[0m\u001b[0;34m,\u001b[0m \u001b[0mtrain_data\u001b[0m\u001b[0;34m,\u001b[0m \u001b[0mtest_data\u001b[0m\u001b[0;34m)\u001b[0m\u001b[0;34m:\u001b[0m\u001b[0;34m\u001b[0m\u001b[0m\n\u001b[0;32m----> 2\u001b[0;31m     \u001b[0mX\u001b[0m\u001b[0;34m,\u001b[0m \u001b[0my\u001b[0m\u001b[0;34m,\u001b[0m \u001b[0mvectorizer\u001b[0m\u001b[0;34m,\u001b[0m \u001b[0mlda\u001b[0m \u001b[0;34m=\u001b[0m \u001b[0mbuild_dataset\u001b[0m\u001b[0;34m(\u001b[0m\u001b[0mtrain_data\u001b[0m\u001b[0;34m,\u001b[0m \u001b[0mphi\u001b[0m\u001b[0;34m)\u001b[0m\u001b[0;34m\u001b[0m\u001b[0m\n\u001b[0m\u001b[1;32m      3\u001b[0m     \u001b[0mprint\u001b[0m\u001b[0;34m(\u001b[0m\u001b[0mlen\u001b[0m\u001b[0;34m(\u001b[0m\u001b[0mX\u001b[0m\u001b[0;34m[\u001b[0m\u001b[0;36m0\u001b[0m\u001b[0;34m]\u001b[0m\u001b[0;34m)\u001b[0m\u001b[0;34m)\u001b[0m\u001b[0;34m\u001b[0m\u001b[0m\n\u001b[1;32m      4\u001b[0m     \u001b[0mmod\u001b[0m \u001b[0;34m=\u001b[0m \u001b[0mtrain_func\u001b[0m\u001b[0;34m(\u001b[0m\u001b[0mX\u001b[0m\u001b[0;34m,\u001b[0m \u001b[0my\u001b[0m\u001b[0;34m)\u001b[0m\u001b[0;34m\u001b[0m\u001b[0m\n\u001b[1;32m      5\u001b[0m     \u001b[0mX_test\u001b[0m\u001b[0;34m,\u001b[0m \u001b[0my_test\u001b[0m\u001b[0;34m,\u001b[0m \u001b[0mvectorizer\u001b[0m\u001b[0;34m,\u001b[0m \u001b[0mlda\u001b[0m \u001b[0;34m=\u001b[0m \u001b[0mbuild_dataset\u001b[0m\u001b[0;34m(\u001b[0m\u001b[0mtest_data\u001b[0m\u001b[0;34m,\u001b[0m \u001b[0mphi\u001b[0m\u001b[0;34m,\u001b[0m \u001b[0mvectorizer\u001b[0m\u001b[0;34m=\u001b[0m\u001b[0mvectorizer\u001b[0m\u001b[0;34m,\u001b[0m \u001b[0mlda\u001b[0m\u001b[0;34m=\u001b[0m\u001b[0mlda\u001b[0m\u001b[0;34m)\u001b[0m\u001b[0;34m\u001b[0m\u001b[0m\n",
      "\u001b[0;32m<ipython-input-73-28fbe03a1d44>\u001b[0m in \u001b[0;36mbuild_dataset\u001b[0;34m(data, phi, vectorizer, lda)\u001b[0m\n\u001b[1;32m      2\u001b[0m     \u001b[0mX\u001b[0m \u001b[0;34m=\u001b[0m \u001b[0;34m[\u001b[0m\u001b[0mdata\u001b[0m\u001b[0;34m.\u001b[0m\u001b[0mloc\u001b[0m\u001b[0;34m[\u001b[0m\u001b[0mi\u001b[0m\u001b[0;34m,\u001b[0m \u001b[0;34m'sentence'\u001b[0m\u001b[0;34m]\u001b[0m \u001b[0;32mfor\u001b[0m \u001b[0mi\u001b[0m \u001b[0;32min\u001b[0m \u001b[0mrange\u001b[0m\u001b[0;34m(\u001b[0m\u001b[0mlen\u001b[0m\u001b[0;34m(\u001b[0m\u001b[0mdata\u001b[0m\u001b[0;34m.\u001b[0m\u001b[0mindex\u001b[0m\u001b[0;34m)\u001b[0m\u001b[0;34m)\u001b[0m\u001b[0;34m]\u001b[0m\u001b[0;34m\u001b[0m\u001b[0m\n\u001b[1;32m      3\u001b[0m     \u001b[0my\u001b[0m \u001b[0;34m=\u001b[0m \u001b[0;34m[\u001b[0m\u001b[0mdata\u001b[0m\u001b[0;34m.\u001b[0m\u001b[0mloc\u001b[0m\u001b[0;34m[\u001b[0m\u001b[0mi\u001b[0m\u001b[0;34m,\u001b[0m \u001b[0;34m'spoiler'\u001b[0m\u001b[0;34m]\u001b[0m \u001b[0;32mfor\u001b[0m \u001b[0mi\u001b[0m \u001b[0;32min\u001b[0m \u001b[0mrange\u001b[0m\u001b[0;34m(\u001b[0m\u001b[0mlen\u001b[0m\u001b[0;34m(\u001b[0m\u001b[0mdata\u001b[0m\u001b[0;34m.\u001b[0m\u001b[0mindex\u001b[0m\u001b[0;34m)\u001b[0m\u001b[0;34m)\u001b[0m\u001b[0;34m]\u001b[0m\u001b[0;34m\u001b[0m\u001b[0m\n\u001b[0;32m----> 4\u001b[0;31m     \u001b[0mfeat_matrix\u001b[0m\u001b[0;34m,\u001b[0m \u001b[0mvectorizer\u001b[0m \u001b[0;34m=\u001b[0m \u001b[0mvectorize_X\u001b[0m\u001b[0;34m(\u001b[0m\u001b[0mX\u001b[0m\u001b[0;34m,\u001b[0m \u001b[0mphi\u001b[0m\u001b[0;34m,\u001b[0m \u001b[0mvectorizer\u001b[0m\u001b[0;34m)\u001b[0m\u001b[0;34m\u001b[0m\u001b[0m\n\u001b[0m\u001b[1;32m      5\u001b[0m     \u001b[0;32mif\u001b[0m \u001b[0mlda\u001b[0m\u001b[0;34m==\u001b[0m\u001b[0;32mNone\u001b[0m\u001b[0;34m:\u001b[0m\u001b[0;34m\u001b[0m\u001b[0m\n\u001b[1;32m      6\u001b[0m         \u001b[0mlda\u001b[0m \u001b[0;34m=\u001b[0m \u001b[0mLatentDirichletAllocation\u001b[0m\u001b[0;34m(\u001b[0m\u001b[0mn_components\u001b[0m\u001b[0;34m=\u001b[0m\u001b[0;36m200\u001b[0m\u001b[0;34m)\u001b[0m\u001b[0;34m\u001b[0m\u001b[0m\n",
      "\u001b[0;32m<ipython-input-11-5564471b75cf>\u001b[0m in \u001b[0;36mvectorize_X\u001b[0;34m(X, phi, vectorizer, should_parse)\u001b[0m\n\u001b[1;32m      2\u001b[0m     \u001b[0mfile\u001b[0m \u001b[0;34m=\u001b[0m \u001b[0mopen\u001b[0m\u001b[0;34m(\u001b[0m\u001b[0;34m'train_parsed.txt'\u001b[0m\u001b[0;34m,\u001b[0m \u001b[0;34m'rb'\u001b[0m\u001b[0;34m)\u001b[0m\u001b[0;34m\u001b[0m\u001b[0m\n\u001b[1;32m      3\u001b[0m     \u001b[0mfeat_dicts\u001b[0m \u001b[0;34m=\u001b[0m \u001b[0;34m[\u001b[0m\u001b[0;34m]\u001b[0m\u001b[0;34m\u001b[0m\u001b[0m\n\u001b[0;32m----> 4\u001b[0;31m     \u001b[0;32mif\u001b[0m \u001b[0mshould_parse\u001b[0m\u001b[0;34m:\u001b[0m \u001b[0mfeat_dicts\u001b[0m \u001b[0;34m=\u001b[0m \u001b[0;34m[\u001b[0m\u001b[0mphi\u001b[0m\u001b[0;34m(\u001b[0m\u001b[0mparse_sentence\u001b[0m\u001b[0;34m(\u001b[0m\u001b[0msentence\u001b[0m\u001b[0;34m)\u001b[0m\u001b[0;34m)\u001b[0m \u001b[0;34m+\u001b[0m \u001b[0mpickle\u001b[0m\u001b[0;34m.\u001b[0m\u001b[0mload\u001b[0m\u001b[0;34m(\u001b[0m\u001b[0mfile\u001b[0m\u001b[0;34m)\u001b[0m \u001b[0;32mfor\u001b[0m \u001b[0msentence\u001b[0m \u001b[0;32min\u001b[0m \u001b[0mX\u001b[0m\u001b[0;34m]\u001b[0m\u001b[0;34m\u001b[0m\u001b[0m\n\u001b[0m\u001b[1;32m      5\u001b[0m     \u001b[0;32melse\u001b[0m\u001b[0;34m:\u001b[0m \u001b[0mfeat_dicts\u001b[0m \u001b[0;34m=\u001b[0m \u001b[0;34m[\u001b[0m\u001b[0mphi\u001b[0m\u001b[0;34m(\u001b[0m\u001b[0msentence\u001b[0m\u001b[0;34m)\u001b[0m \u001b[0;32mfor\u001b[0m \u001b[0msentence\u001b[0m \u001b[0;32min\u001b[0m \u001b[0mX\u001b[0m\u001b[0;34m]\u001b[0m\u001b[0;34m\u001b[0m\u001b[0m\n\u001b[1;32m      6\u001b[0m     \u001b[0mfile\u001b[0m\u001b[0;34m.\u001b[0m\u001b[0mclose\u001b[0m\u001b[0;34m(\u001b[0m\u001b[0;34m)\u001b[0m\u001b[0;34m\u001b[0m\u001b[0m\n",
      "\u001b[0;32m<ipython-input-11-5564471b75cf>\u001b[0m in \u001b[0;36m<listcomp>\u001b[0;34m(.0)\u001b[0m\n\u001b[1;32m      2\u001b[0m     \u001b[0mfile\u001b[0m \u001b[0;34m=\u001b[0m \u001b[0mopen\u001b[0m\u001b[0;34m(\u001b[0m\u001b[0;34m'train_parsed.txt'\u001b[0m\u001b[0;34m,\u001b[0m \u001b[0;34m'rb'\u001b[0m\u001b[0;34m)\u001b[0m\u001b[0;34m\u001b[0m\u001b[0m\n\u001b[1;32m      3\u001b[0m     \u001b[0mfeat_dicts\u001b[0m \u001b[0;34m=\u001b[0m \u001b[0;34m[\u001b[0m\u001b[0;34m]\u001b[0m\u001b[0;34m\u001b[0m\u001b[0m\n\u001b[0;32m----> 4\u001b[0;31m     \u001b[0;32mif\u001b[0m \u001b[0mshould_parse\u001b[0m\u001b[0;34m:\u001b[0m \u001b[0mfeat_dicts\u001b[0m \u001b[0;34m=\u001b[0m \u001b[0;34m[\u001b[0m\u001b[0mphi\u001b[0m\u001b[0;34m(\u001b[0m\u001b[0mparse_sentence\u001b[0m\u001b[0;34m(\u001b[0m\u001b[0msentence\u001b[0m\u001b[0;34m)\u001b[0m\u001b[0;34m)\u001b[0m \u001b[0;34m+\u001b[0m \u001b[0mpickle\u001b[0m\u001b[0;34m.\u001b[0m\u001b[0mload\u001b[0m\u001b[0;34m(\u001b[0m\u001b[0mfile\u001b[0m\u001b[0;34m)\u001b[0m \u001b[0;32mfor\u001b[0m \u001b[0msentence\u001b[0m \u001b[0;32min\u001b[0m \u001b[0mX\u001b[0m\u001b[0;34m]\u001b[0m\u001b[0;34m\u001b[0m\u001b[0m\n\u001b[0m\u001b[1;32m      5\u001b[0m     \u001b[0;32melse\u001b[0m\u001b[0;34m:\u001b[0m \u001b[0mfeat_dicts\u001b[0m \u001b[0;34m=\u001b[0m \u001b[0;34m[\u001b[0m\u001b[0mphi\u001b[0m\u001b[0;34m(\u001b[0m\u001b[0msentence\u001b[0m\u001b[0;34m)\u001b[0m \u001b[0;32mfor\u001b[0m \u001b[0msentence\u001b[0m \u001b[0;32min\u001b[0m \u001b[0mX\u001b[0m\u001b[0;34m]\u001b[0m\u001b[0;34m\u001b[0m\u001b[0m\n\u001b[1;32m      6\u001b[0m     \u001b[0mfile\u001b[0m\u001b[0;34m.\u001b[0m\u001b[0mclose\u001b[0m\u001b[0;34m(\u001b[0m\u001b[0;34m)\u001b[0m\u001b[0;34m\u001b[0m\u001b[0m\n",
      "\u001b[0;31mEOFError\u001b[0m: Ran out of input"
     ]
    }
   ],
   "source": [
    "experiment(unigrams_phi, fit_svc, train, dev1)"
   ]
  },
  {
   "cell_type": "code",
   "execution_count": null,
   "metadata": {
    "collapsed": true
   },
   "outputs": [],
   "source": []
  }
 ],
 "metadata": {
  "celltoolbar": "Slideshow",
  "kernelspec": {
   "display_name": "nlu",
   "language": "python",
   "name": "nlu"
  },
  "language_info": {
   "codemirror_mode": {
    "name": "ipython",
    "version": 3
   },
   "file_extension": ".py",
   "mimetype": "text/x-python",
   "name": "python",
   "nbconvert_exporter": "python",
   "pygments_lexer": "ipython3",
   "version": "3.6.4"
  },
  "widgets": {
   "state": {},
   "version": "1.1.2"
  }
 },
 "nbformat": 4,
 "nbformat_minor": 2
}
